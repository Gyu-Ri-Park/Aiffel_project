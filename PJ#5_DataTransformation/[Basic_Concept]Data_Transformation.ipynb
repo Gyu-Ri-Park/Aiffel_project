{
 "cells": [
  {
   "cell_type": "code",
   "execution_count": 1,
   "id": "50d4d6cb",
   "metadata": {},
   "outputs": [],
   "source": [
    "import pandas as pd\n",
    "import numpy as np"
   ]
  },
  {
   "cell_type": "markdown",
   "id": "11e3d080",
   "metadata": {},
   "source": [
    "# 1.Data Merge\n",
    "\n",
    "* concat : 데이터를 위아래로 붙이고, 원할 경우 좌우로 붙이는 것도 가능. 단, 키 값을 정해서 데이터 결합 불가\n",
    "* merge : column 를 키값으로 설정하여 붙인다\n",
    "* join : index 를 키값으로 설정하여 붙인다"
   ]
  },
  {
   "cell_type": "code",
   "execution_count": 2,
   "id": "f21d775c",
   "metadata": {},
   "outputs": [],
   "source": [
    "df_a = pd.DataFrame({'key': ['a','b','c','d','e'], 'num_a': [1,2,3,4,5]})\n",
    "df_b = pd.DataFrame({'key': ['a','b','c','f','g'], 'num_b': [11,22,33,44,55]})\n",
    "df_c = pd.DataFrame({'key': ['f','g','h','i','j'], 'num_a': [6,7,8,9,0]})"
   ]
  },
  {
   "cell_type": "code",
   "execution_count": 3,
   "id": "929bee47",
   "metadata": {
    "scrolled": true
   },
   "outputs": [
    {
     "data": {
      "text/html": [
       "<div>\n",
       "<style scoped>\n",
       "    .dataframe tbody tr th:only-of-type {\n",
       "        vertical-align: middle;\n",
       "    }\n",
       "\n",
       "    .dataframe tbody tr th {\n",
       "        vertical-align: top;\n",
       "    }\n",
       "\n",
       "    .dataframe thead th {\n",
       "        text-align: right;\n",
       "    }\n",
       "</style>\n",
       "<table border=\"1\" class=\"dataframe\">\n",
       "  <thead>\n",
       "    <tr style=\"text-align: right;\">\n",
       "      <th></th>\n",
       "      <th>key</th>\n",
       "      <th>num_a</th>\n",
       "    </tr>\n",
       "  </thead>\n",
       "  <tbody>\n",
       "    <tr>\n",
       "      <th>0</th>\n",
       "      <td>f</td>\n",
       "      <td>6</td>\n",
       "    </tr>\n",
       "    <tr>\n",
       "      <th>1</th>\n",
       "      <td>g</td>\n",
       "      <td>7</td>\n",
       "    </tr>\n",
       "    <tr>\n",
       "      <th>2</th>\n",
       "      <td>h</td>\n",
       "      <td>8</td>\n",
       "    </tr>\n",
       "    <tr>\n",
       "      <th>3</th>\n",
       "      <td>i</td>\n",
       "      <td>9</td>\n",
       "    </tr>\n",
       "    <tr>\n",
       "      <th>4</th>\n",
       "      <td>j</td>\n",
       "      <td>0</td>\n",
       "    </tr>\n",
       "  </tbody>\n",
       "</table>\n",
       "</div>"
      ],
      "text/plain": [
       "  key  num_a\n",
       "0   f      6\n",
       "1   g      7\n",
       "2   h      8\n",
       "3   i      9\n",
       "4   j      0"
      ]
     },
     "execution_count": 3,
     "metadata": {},
     "output_type": "execute_result"
    }
   ],
   "source": [
    "df_c"
   ]
  },
  {
   "cell_type": "markdown",
   "id": "26181908",
   "metadata": {},
   "source": [
    "### 1) concat"
   ]
  },
  {
   "cell_type": "code",
   "execution_count": 4,
   "id": "e170fa59",
   "metadata": {},
   "outputs": [
    {
     "data": {
      "text/html": [
       "<div>\n",
       "<style scoped>\n",
       "    .dataframe tbody tr th:only-of-type {\n",
       "        vertical-align: middle;\n",
       "    }\n",
       "\n",
       "    .dataframe tbody tr th {\n",
       "        vertical-align: top;\n",
       "    }\n",
       "\n",
       "    .dataframe thead th {\n",
       "        text-align: right;\n",
       "    }\n",
       "</style>\n",
       "<table border=\"1\" class=\"dataframe\">\n",
       "  <thead>\n",
       "    <tr style=\"text-align: right;\">\n",
       "      <th></th>\n",
       "      <th>key</th>\n",
       "      <th>num_a</th>\n",
       "      <th>num_b</th>\n",
       "    </tr>\n",
       "  </thead>\n",
       "  <tbody>\n",
       "    <tr>\n",
       "      <th>0</th>\n",
       "      <td>a</td>\n",
       "      <td>1.0</td>\n",
       "      <td>NaN</td>\n",
       "    </tr>\n",
       "    <tr>\n",
       "      <th>1</th>\n",
       "      <td>b</td>\n",
       "      <td>2.0</td>\n",
       "      <td>NaN</td>\n",
       "    </tr>\n",
       "    <tr>\n",
       "      <th>2</th>\n",
       "      <td>c</td>\n",
       "      <td>3.0</td>\n",
       "      <td>NaN</td>\n",
       "    </tr>\n",
       "    <tr>\n",
       "      <th>3</th>\n",
       "      <td>d</td>\n",
       "      <td>4.0</td>\n",
       "      <td>NaN</td>\n",
       "    </tr>\n",
       "    <tr>\n",
       "      <th>4</th>\n",
       "      <td>e</td>\n",
       "      <td>5.0</td>\n",
       "      <td>NaN</td>\n",
       "    </tr>\n",
       "    <tr>\n",
       "      <th>0</th>\n",
       "      <td>a</td>\n",
       "      <td>NaN</td>\n",
       "      <td>11.0</td>\n",
       "    </tr>\n",
       "    <tr>\n",
       "      <th>1</th>\n",
       "      <td>b</td>\n",
       "      <td>NaN</td>\n",
       "      <td>22.0</td>\n",
       "    </tr>\n",
       "    <tr>\n",
       "      <th>2</th>\n",
       "      <td>c</td>\n",
       "      <td>NaN</td>\n",
       "      <td>33.0</td>\n",
       "    </tr>\n",
       "    <tr>\n",
       "      <th>3</th>\n",
       "      <td>f</td>\n",
       "      <td>NaN</td>\n",
       "      <td>44.0</td>\n",
       "    </tr>\n",
       "    <tr>\n",
       "      <th>4</th>\n",
       "      <td>g</td>\n",
       "      <td>NaN</td>\n",
       "      <td>55.0</td>\n",
       "    </tr>\n",
       "  </tbody>\n",
       "</table>\n",
       "</div>"
      ],
      "text/plain": [
       "  key  num_a  num_b\n",
       "0   a    1.0    NaN\n",
       "1   b    2.0    NaN\n",
       "2   c    3.0    NaN\n",
       "3   d    4.0    NaN\n",
       "4   e    5.0    NaN\n",
       "0   a    NaN   11.0\n",
       "1   b    NaN   22.0\n",
       "2   c    NaN   33.0\n",
       "3   f    NaN   44.0\n",
       "4   g    NaN   55.0"
      ]
     },
     "execution_count": 4,
     "metadata": {},
     "output_type": "execute_result"
    }
   ],
   "source": [
    "pd.concat([df_a, df_b])"
   ]
  },
  {
   "cell_type": "code",
   "execution_count": 5,
   "id": "aa64dde3",
   "metadata": {},
   "outputs": [
    {
     "data": {
      "text/html": [
       "<div>\n",
       "<style scoped>\n",
       "    .dataframe tbody tr th:only-of-type {\n",
       "        vertical-align: middle;\n",
       "    }\n",
       "\n",
       "    .dataframe tbody tr th {\n",
       "        vertical-align: top;\n",
       "    }\n",
       "\n",
       "    .dataframe thead th {\n",
       "        text-align: right;\n",
       "    }\n",
       "</style>\n",
       "<table border=\"1\" class=\"dataframe\">\n",
       "  <thead>\n",
       "    <tr style=\"text-align: right;\">\n",
       "      <th></th>\n",
       "      <th>key</th>\n",
       "      <th>num_a</th>\n",
       "    </tr>\n",
       "  </thead>\n",
       "  <tbody>\n",
       "    <tr>\n",
       "      <th>0</th>\n",
       "      <td>a</td>\n",
       "      <td>1</td>\n",
       "    </tr>\n",
       "    <tr>\n",
       "      <th>1</th>\n",
       "      <td>b</td>\n",
       "      <td>2</td>\n",
       "    </tr>\n",
       "    <tr>\n",
       "      <th>2</th>\n",
       "      <td>c</td>\n",
       "      <td>3</td>\n",
       "    </tr>\n",
       "    <tr>\n",
       "      <th>3</th>\n",
       "      <td>d</td>\n",
       "      <td>4</td>\n",
       "    </tr>\n",
       "    <tr>\n",
       "      <th>4</th>\n",
       "      <td>e</td>\n",
       "      <td>5</td>\n",
       "    </tr>\n",
       "    <tr>\n",
       "      <th>0</th>\n",
       "      <td>f</td>\n",
       "      <td>6</td>\n",
       "    </tr>\n",
       "    <tr>\n",
       "      <th>1</th>\n",
       "      <td>g</td>\n",
       "      <td>7</td>\n",
       "    </tr>\n",
       "    <tr>\n",
       "      <th>2</th>\n",
       "      <td>h</td>\n",
       "      <td>8</td>\n",
       "    </tr>\n",
       "    <tr>\n",
       "      <th>3</th>\n",
       "      <td>i</td>\n",
       "      <td>9</td>\n",
       "    </tr>\n",
       "    <tr>\n",
       "      <th>4</th>\n",
       "      <td>j</td>\n",
       "      <td>0</td>\n",
       "    </tr>\n",
       "  </tbody>\n",
       "</table>\n",
       "</div>"
      ],
      "text/plain": [
       "  key  num_a\n",
       "0   a      1\n",
       "1   b      2\n",
       "2   c      3\n",
       "3   d      4\n",
       "4   e      5\n",
       "0   f      6\n",
       "1   g      7\n",
       "2   h      8\n",
       "3   i      9\n",
       "4   j      0"
      ]
     },
     "execution_count": 5,
     "metadata": {},
     "output_type": "execute_result"
    }
   ],
   "source": [
    "pd.concat([df_a, df_c])"
   ]
  },
  {
   "cell_type": "markdown",
   "id": "b637395f",
   "metadata": {},
   "source": [
    "* pd.concat : 열 이름이 같을 경우 하나의 열로 합쳐지고, 아니면 열이 새로 생긴다"
   ]
  },
  {
   "cell_type": "code",
   "execution_count": 6,
   "id": "d15b6c78",
   "metadata": {
    "scrolled": true
   },
   "outputs": [
    {
     "data": {
      "text/html": [
       "<div>\n",
       "<style scoped>\n",
       "    .dataframe tbody tr th:only-of-type {\n",
       "        vertical-align: middle;\n",
       "    }\n",
       "\n",
       "    .dataframe tbody tr th {\n",
       "        vertical-align: top;\n",
       "    }\n",
       "\n",
       "    .dataframe thead th {\n",
       "        text-align: right;\n",
       "    }\n",
       "</style>\n",
       "<table border=\"1\" class=\"dataframe\">\n",
       "  <thead>\n",
       "    <tr style=\"text-align: right;\">\n",
       "      <th></th>\n",
       "      <th>key</th>\n",
       "      <th>num_a</th>\n",
       "      <th>key</th>\n",
       "      <th>num_b</th>\n",
       "    </tr>\n",
       "  </thead>\n",
       "  <tbody>\n",
       "    <tr>\n",
       "      <th>0</th>\n",
       "      <td>a</td>\n",
       "      <td>1</td>\n",
       "      <td>a</td>\n",
       "      <td>11</td>\n",
       "    </tr>\n",
       "    <tr>\n",
       "      <th>1</th>\n",
       "      <td>b</td>\n",
       "      <td>2</td>\n",
       "      <td>b</td>\n",
       "      <td>22</td>\n",
       "    </tr>\n",
       "    <tr>\n",
       "      <th>2</th>\n",
       "      <td>c</td>\n",
       "      <td>3</td>\n",
       "      <td>c</td>\n",
       "      <td>33</td>\n",
       "    </tr>\n",
       "    <tr>\n",
       "      <th>3</th>\n",
       "      <td>d</td>\n",
       "      <td>4</td>\n",
       "      <td>f</td>\n",
       "      <td>44</td>\n",
       "    </tr>\n",
       "    <tr>\n",
       "      <th>4</th>\n",
       "      <td>e</td>\n",
       "      <td>5</td>\n",
       "      <td>g</td>\n",
       "      <td>55</td>\n",
       "    </tr>\n",
       "  </tbody>\n",
       "</table>\n",
       "</div>"
      ],
      "text/plain": [
       "  key  num_a key  num_b\n",
       "0   a      1   a     11\n",
       "1   b      2   b     22\n",
       "2   c      3   c     33\n",
       "3   d      4   f     44\n",
       "4   e      5   g     55"
      ]
     },
     "execution_count": 6,
     "metadata": {},
     "output_type": "execute_result"
    }
   ],
   "source": [
    "#concat : 기본적으로 위아래로 합쳐진다. axis=1 사용하여 옆으로 붙일 수 있다\n",
    "\n",
    "pd.concat([df_a, df_b], axis=1)"
   ]
  },
  {
   "cell_type": "markdown",
   "id": "1dfad058",
   "metadata": {},
   "source": [
    "### 2) merge\n",
    "* 공통 열이 있으면 suffix 자동 생성\n",
    "* SQL 스타일의 join 수행 가능 (inner join, left join, right join, outer join)"
   ]
  },
  {
   "cell_type": "code",
   "execution_count": 7,
   "id": "fec55971",
   "metadata": {},
   "outputs": [
    {
     "data": {
      "text/html": [
       "<div>\n",
       "<style scoped>\n",
       "    .dataframe tbody tr th:only-of-type {\n",
       "        vertical-align: middle;\n",
       "    }\n",
       "\n",
       "    .dataframe tbody tr th {\n",
       "        vertical-align: top;\n",
       "    }\n",
       "\n",
       "    .dataframe thead th {\n",
       "        text-align: right;\n",
       "    }\n",
       "</style>\n",
       "<table border=\"1\" class=\"dataframe\">\n",
       "  <thead>\n",
       "    <tr style=\"text-align: right;\">\n",
       "      <th></th>\n",
       "      <th>key</th>\n",
       "      <th>num_a</th>\n",
       "      <th>num_b</th>\n",
       "    </tr>\n",
       "  </thead>\n",
       "  <tbody>\n",
       "    <tr>\n",
       "      <th>0</th>\n",
       "      <td>a</td>\n",
       "      <td>1</td>\n",
       "      <td>11</td>\n",
       "    </tr>\n",
       "    <tr>\n",
       "      <th>1</th>\n",
       "      <td>b</td>\n",
       "      <td>2</td>\n",
       "      <td>22</td>\n",
       "    </tr>\n",
       "    <tr>\n",
       "      <th>2</th>\n",
       "      <td>c</td>\n",
       "      <td>3</td>\n",
       "      <td>33</td>\n",
       "    </tr>\n",
       "  </tbody>\n",
       "</table>\n",
       "</div>"
      ],
      "text/plain": [
       "  key  num_a  num_b\n",
       "0   a      1     11\n",
       "1   b      2     22\n",
       "2   c      3     33"
      ]
     },
     "execution_count": 7,
     "metadata": {},
     "output_type": "execute_result"
    }
   ],
   "source": [
    "#df.merge : inner join을 기본으로 한다. 공통으로 있는 값에 대해서만 합쳐지고, 없는 값은 사라진다\n",
    "\n",
    "df_a.merge(df_b)"
   ]
  },
  {
   "cell_type": "code",
   "execution_count": 8,
   "id": "582567b6",
   "metadata": {},
   "outputs": [
    {
     "data": {
      "text/html": [
       "<div>\n",
       "<style scoped>\n",
       "    .dataframe tbody tr th:only-of-type {\n",
       "        vertical-align: middle;\n",
       "    }\n",
       "\n",
       "    .dataframe tbody tr th {\n",
       "        vertical-align: top;\n",
       "    }\n",
       "\n",
       "    .dataframe thead th {\n",
       "        text-align: right;\n",
       "    }\n",
       "</style>\n",
       "<table border=\"1\" class=\"dataframe\">\n",
       "  <thead>\n",
       "    <tr style=\"text-align: right;\">\n",
       "      <th></th>\n",
       "      <th>key</th>\n",
       "      <th>num_a</th>\n",
       "      <th>num_b</th>\n",
       "    </tr>\n",
       "  </thead>\n",
       "  <tbody>\n",
       "    <tr>\n",
       "      <th>0</th>\n",
       "      <td>a</td>\n",
       "      <td>1</td>\n",
       "      <td>11.0</td>\n",
       "    </tr>\n",
       "    <tr>\n",
       "      <th>1</th>\n",
       "      <td>b</td>\n",
       "      <td>2</td>\n",
       "      <td>22.0</td>\n",
       "    </tr>\n",
       "    <tr>\n",
       "      <th>2</th>\n",
       "      <td>c</td>\n",
       "      <td>3</td>\n",
       "      <td>33.0</td>\n",
       "    </tr>\n",
       "    <tr>\n",
       "      <th>3</th>\n",
       "      <td>d</td>\n",
       "      <td>4</td>\n",
       "      <td>NaN</td>\n",
       "    </tr>\n",
       "    <tr>\n",
       "      <th>4</th>\n",
       "      <td>e</td>\n",
       "      <td>5</td>\n",
       "      <td>NaN</td>\n",
       "    </tr>\n",
       "  </tbody>\n",
       "</table>\n",
       "</div>"
      ],
      "text/plain": [
       "  key  num_a  num_b\n",
       "0   a      1   11.0\n",
       "1   b      2   22.0\n",
       "2   c      3   33.0\n",
       "3   d      4    NaN\n",
       "4   e      5    NaN"
      ]
     },
     "execution_count": 8,
     "metadata": {},
     "output_type": "execute_result"
    }
   ],
   "source": [
    "#how = left, right, outer 으로 지정하여 가능하다, on : 합칠때 기준이 되는 컬럼을 지정해준다 (on을 지정하지 않으면 기본적으로 모든 열 (key, id 등) 이 일치하는 애들을 나타낸다)\n",
    "#left_on, right_on 으로 각기 다른 열을 지정해줄 수 있다\n",
    "\n",
    "df_a.merge(df_b, on='key', how='left')"
   ]
  },
  {
   "cell_type": "markdown",
   "id": "41e97b8e",
   "metadata": {},
   "source": [
    "### 3) Join\n",
    "* 공통 열이 있으면 suffix 수동 생성 필요"
   ]
  },
  {
   "cell_type": "code",
   "execution_count": 9,
   "id": "4ba56f41",
   "metadata": {},
   "outputs": [
    {
     "data": {
      "text/html": [
       "<div>\n",
       "<style scoped>\n",
       "    .dataframe tbody tr th:only-of-type {\n",
       "        vertical-align: middle;\n",
       "    }\n",
       "\n",
       "    .dataframe tbody tr th {\n",
       "        vertical-align: top;\n",
       "    }\n",
       "\n",
       "    .dataframe thead th {\n",
       "        text-align: right;\n",
       "    }\n",
       "</style>\n",
       "<table border=\"1\" class=\"dataframe\">\n",
       "  <thead>\n",
       "    <tr style=\"text-align: right;\">\n",
       "      <th></th>\n",
       "      <th>key_a</th>\n",
       "      <th>num_a</th>\n",
       "      <th>key_b</th>\n",
       "      <th>num_b</th>\n",
       "    </tr>\n",
       "  </thead>\n",
       "  <tbody>\n",
       "    <tr>\n",
       "      <th>0</th>\n",
       "      <td>a</td>\n",
       "      <td>1</td>\n",
       "      <td>a</td>\n",
       "      <td>11</td>\n",
       "    </tr>\n",
       "    <tr>\n",
       "      <th>1</th>\n",
       "      <td>b</td>\n",
       "      <td>2</td>\n",
       "      <td>b</td>\n",
       "      <td>22</td>\n",
       "    </tr>\n",
       "    <tr>\n",
       "      <th>2</th>\n",
       "      <td>c</td>\n",
       "      <td>3</td>\n",
       "      <td>c</td>\n",
       "      <td>33</td>\n",
       "    </tr>\n",
       "    <tr>\n",
       "      <th>3</th>\n",
       "      <td>d</td>\n",
       "      <td>4</td>\n",
       "      <td>f</td>\n",
       "      <td>44</td>\n",
       "    </tr>\n",
       "    <tr>\n",
       "      <th>4</th>\n",
       "      <td>e</td>\n",
       "      <td>5</td>\n",
       "      <td>g</td>\n",
       "      <td>55</td>\n",
       "    </tr>\n",
       "  </tbody>\n",
       "</table>\n",
       "</div>"
      ],
      "text/plain": [
       "  key_a  num_a key_b  num_b\n",
       "0     a      1     a     11\n",
       "1     b      2     b     22\n",
       "2     c      3     c     33\n",
       "3     d      4     f     44\n",
       "4     e      5     g     55"
      ]
     },
     "execution_count": 9,
     "metadata": {},
     "output_type": "execute_result"
    }
   ],
   "source": [
    "# join은 기준이 되는 열을 index에 두기때문에 그냥 두 개가 붙어진다\n",
    "df_a.join(df_b, lsuffix='_a', rsuffix='_b')"
   ]
  },
  {
   "cell_type": "code",
   "execution_count": 10,
   "id": "e36f8e44",
   "metadata": {},
   "outputs": [],
   "source": [
    "df_a = df_a.set_index('key')\n",
    "df_b = df_b.set_index('key')"
   ]
  },
  {
   "cell_type": "code",
   "execution_count": 11,
   "id": "18e60c71",
   "metadata": {},
   "outputs": [
    {
     "data": {
      "text/html": [
       "<div>\n",
       "<style scoped>\n",
       "    .dataframe tbody tr th:only-of-type {\n",
       "        vertical-align: middle;\n",
       "    }\n",
       "\n",
       "    .dataframe tbody tr th {\n",
       "        vertical-align: top;\n",
       "    }\n",
       "\n",
       "    .dataframe thead th {\n",
       "        text-align: right;\n",
       "    }\n",
       "</style>\n",
       "<table border=\"1\" class=\"dataframe\">\n",
       "  <thead>\n",
       "    <tr style=\"text-align: right;\">\n",
       "      <th></th>\n",
       "      <th>num_a</th>\n",
       "      <th>num_b</th>\n",
       "    </tr>\n",
       "    <tr>\n",
       "      <th>key</th>\n",
       "      <th></th>\n",
       "      <th></th>\n",
       "    </tr>\n",
       "  </thead>\n",
       "  <tbody>\n",
       "    <tr>\n",
       "      <th>a</th>\n",
       "      <td>1.0</td>\n",
       "      <td>11.0</td>\n",
       "    </tr>\n",
       "    <tr>\n",
       "      <th>b</th>\n",
       "      <td>2.0</td>\n",
       "      <td>22.0</td>\n",
       "    </tr>\n",
       "    <tr>\n",
       "      <th>c</th>\n",
       "      <td>3.0</td>\n",
       "      <td>33.0</td>\n",
       "    </tr>\n",
       "    <tr>\n",
       "      <th>d</th>\n",
       "      <td>4.0</td>\n",
       "      <td>NaN</td>\n",
       "    </tr>\n",
       "    <tr>\n",
       "      <th>e</th>\n",
       "      <td>5.0</td>\n",
       "      <td>NaN</td>\n",
       "    </tr>\n",
       "    <tr>\n",
       "      <th>f</th>\n",
       "      <td>NaN</td>\n",
       "      <td>44.0</td>\n",
       "    </tr>\n",
       "    <tr>\n",
       "      <th>g</th>\n",
       "      <td>NaN</td>\n",
       "      <td>55.0</td>\n",
       "    </tr>\n",
       "  </tbody>\n",
       "</table>\n",
       "</div>"
      ],
      "text/plain": [
       "     num_a  num_b\n",
       "key              \n",
       "a      1.0   11.0\n",
       "b      2.0   22.0\n",
       "c      3.0   33.0\n",
       "d      4.0    NaN\n",
       "e      5.0    NaN\n",
       "f      NaN   44.0\n",
       "g      NaN   55.0"
      ]
     },
     "execution_count": 11,
     "metadata": {},
     "output_type": "execute_result"
    }
   ],
   "source": [
    "#index를 바꿔줘서 join하면 같이 합쳐진다\n",
    "\n",
    "df_a.join(df_b, how = 'outer')"
   ]
  },
  {
   "cell_type": "markdown",
   "id": "fc08603a",
   "metadata": {},
   "source": [
    "## Practice"
   ]
  },
  {
   "cell_type": "code",
   "execution_count": 12,
   "id": "959a131d",
   "metadata": {},
   "outputs": [
    {
     "ename": "FileNotFoundError",
     "evalue": "[Errno 2] No such file or directory: '/aiffel/data/salary_1.csv'",
     "output_type": "error",
     "traceback": [
      "\u001b[0;31m---------------------------------------------------------------------------\u001b[0m",
      "\u001b[0;31mFileNotFoundError\u001b[0m                         Traceback (most recent call last)",
      "\u001b[0;32m/tmp/ipykernel_145/789627737.py\u001b[0m in \u001b[0;36m<module>\u001b[0;34m\u001b[0m\n\u001b[0;32m----> 1\u001b[0;31m \u001b[0msalary_1\u001b[0m \u001b[0;34m=\u001b[0m \u001b[0mpd\u001b[0m\u001b[0;34m.\u001b[0m\u001b[0mread_csv\u001b[0m\u001b[0;34m(\u001b[0m\u001b[0;34m'~/data/salary_1.csv'\u001b[0m\u001b[0;34m)\u001b[0m\u001b[0;34m\u001b[0m\u001b[0;34m\u001b[0m\u001b[0m\n\u001b[0m\u001b[1;32m      2\u001b[0m \u001b[0msalary_2\u001b[0m \u001b[0;34m=\u001b[0m \u001b[0mpd\u001b[0m\u001b[0;34m.\u001b[0m\u001b[0mread_csv\u001b[0m\u001b[0;34m(\u001b[0m\u001b[0;34m'~/data/salary_2.csv'\u001b[0m\u001b[0;34m)\u001b[0m\u001b[0;34m\u001b[0m\u001b[0;34m\u001b[0m\u001b[0m\n",
      "\u001b[0;32m/opt/conda/lib/python3.9/site-packages/pandas/util/_decorators.py\u001b[0m in \u001b[0;36mwrapper\u001b[0;34m(*args, **kwargs)\u001b[0m\n\u001b[1;32m    309\u001b[0m                     \u001b[0mstacklevel\u001b[0m\u001b[0;34m=\u001b[0m\u001b[0mstacklevel\u001b[0m\u001b[0;34m,\u001b[0m\u001b[0;34m\u001b[0m\u001b[0;34m\u001b[0m\u001b[0m\n\u001b[1;32m    310\u001b[0m                 )\n\u001b[0;32m--> 311\u001b[0;31m             \u001b[0;32mreturn\u001b[0m \u001b[0mfunc\u001b[0m\u001b[0;34m(\u001b[0m\u001b[0;34m*\u001b[0m\u001b[0margs\u001b[0m\u001b[0;34m,\u001b[0m \u001b[0;34m**\u001b[0m\u001b[0mkwargs\u001b[0m\u001b[0;34m)\u001b[0m\u001b[0;34m\u001b[0m\u001b[0;34m\u001b[0m\u001b[0m\n\u001b[0m\u001b[1;32m    312\u001b[0m \u001b[0;34m\u001b[0m\u001b[0m\n\u001b[1;32m    313\u001b[0m         \u001b[0;32mreturn\u001b[0m \u001b[0mwrapper\u001b[0m\u001b[0;34m\u001b[0m\u001b[0;34m\u001b[0m\u001b[0m\n",
      "\u001b[0;32m/opt/conda/lib/python3.9/site-packages/pandas/io/parsers/readers.py\u001b[0m in \u001b[0;36mread_csv\u001b[0;34m(filepath_or_buffer, sep, delimiter, header, names, index_col, usecols, squeeze, prefix, mangle_dupe_cols, dtype, engine, converters, true_values, false_values, skipinitialspace, skiprows, skipfooter, nrows, na_values, keep_default_na, na_filter, verbose, skip_blank_lines, parse_dates, infer_datetime_format, keep_date_col, date_parser, dayfirst, cache_dates, iterator, chunksize, compression, thousands, decimal, lineterminator, quotechar, quoting, doublequote, escapechar, comment, encoding, encoding_errors, dialect, error_bad_lines, warn_bad_lines, on_bad_lines, delim_whitespace, low_memory, memory_map, float_precision, storage_options)\u001b[0m\n\u001b[1;32m    584\u001b[0m     \u001b[0mkwds\u001b[0m\u001b[0;34m.\u001b[0m\u001b[0mupdate\u001b[0m\u001b[0;34m(\u001b[0m\u001b[0mkwds_defaults\u001b[0m\u001b[0;34m)\u001b[0m\u001b[0;34m\u001b[0m\u001b[0;34m\u001b[0m\u001b[0m\n\u001b[1;32m    585\u001b[0m \u001b[0;34m\u001b[0m\u001b[0m\n\u001b[0;32m--> 586\u001b[0;31m     \u001b[0;32mreturn\u001b[0m \u001b[0m_read\u001b[0m\u001b[0;34m(\u001b[0m\u001b[0mfilepath_or_buffer\u001b[0m\u001b[0;34m,\u001b[0m \u001b[0mkwds\u001b[0m\u001b[0;34m)\u001b[0m\u001b[0;34m\u001b[0m\u001b[0;34m\u001b[0m\u001b[0m\n\u001b[0m\u001b[1;32m    587\u001b[0m \u001b[0;34m\u001b[0m\u001b[0m\n\u001b[1;32m    588\u001b[0m \u001b[0;34m\u001b[0m\u001b[0m\n",
      "\u001b[0;32m/opt/conda/lib/python3.9/site-packages/pandas/io/parsers/readers.py\u001b[0m in \u001b[0;36m_read\u001b[0;34m(filepath_or_buffer, kwds)\u001b[0m\n\u001b[1;32m    480\u001b[0m \u001b[0;34m\u001b[0m\u001b[0m\n\u001b[1;32m    481\u001b[0m     \u001b[0;31m# Create the parser.\u001b[0m\u001b[0;34m\u001b[0m\u001b[0;34m\u001b[0m\u001b[0m\n\u001b[0;32m--> 482\u001b[0;31m     \u001b[0mparser\u001b[0m \u001b[0;34m=\u001b[0m \u001b[0mTextFileReader\u001b[0m\u001b[0;34m(\u001b[0m\u001b[0mfilepath_or_buffer\u001b[0m\u001b[0;34m,\u001b[0m \u001b[0;34m**\u001b[0m\u001b[0mkwds\u001b[0m\u001b[0;34m)\u001b[0m\u001b[0;34m\u001b[0m\u001b[0;34m\u001b[0m\u001b[0m\n\u001b[0m\u001b[1;32m    483\u001b[0m \u001b[0;34m\u001b[0m\u001b[0m\n\u001b[1;32m    484\u001b[0m     \u001b[0;32mif\u001b[0m \u001b[0mchunksize\u001b[0m \u001b[0;32mor\u001b[0m \u001b[0miterator\u001b[0m\u001b[0;34m:\u001b[0m\u001b[0;34m\u001b[0m\u001b[0;34m\u001b[0m\u001b[0m\n",
      "\u001b[0;32m/opt/conda/lib/python3.9/site-packages/pandas/io/parsers/readers.py\u001b[0m in \u001b[0;36m__init__\u001b[0;34m(self, f, engine, **kwds)\u001b[0m\n\u001b[1;32m    809\u001b[0m             \u001b[0mself\u001b[0m\u001b[0;34m.\u001b[0m\u001b[0moptions\u001b[0m\u001b[0;34m[\u001b[0m\u001b[0;34m\"has_index_names\"\u001b[0m\u001b[0;34m]\u001b[0m \u001b[0;34m=\u001b[0m \u001b[0mkwds\u001b[0m\u001b[0;34m[\u001b[0m\u001b[0;34m\"has_index_names\"\u001b[0m\u001b[0;34m]\u001b[0m\u001b[0;34m\u001b[0m\u001b[0;34m\u001b[0m\u001b[0m\n\u001b[1;32m    810\u001b[0m \u001b[0;34m\u001b[0m\u001b[0m\n\u001b[0;32m--> 811\u001b[0;31m         \u001b[0mself\u001b[0m\u001b[0;34m.\u001b[0m\u001b[0m_engine\u001b[0m \u001b[0;34m=\u001b[0m \u001b[0mself\u001b[0m\u001b[0;34m.\u001b[0m\u001b[0m_make_engine\u001b[0m\u001b[0;34m(\u001b[0m\u001b[0mself\u001b[0m\u001b[0;34m.\u001b[0m\u001b[0mengine\u001b[0m\u001b[0;34m)\u001b[0m\u001b[0;34m\u001b[0m\u001b[0;34m\u001b[0m\u001b[0m\n\u001b[0m\u001b[1;32m    812\u001b[0m \u001b[0;34m\u001b[0m\u001b[0m\n\u001b[1;32m    813\u001b[0m     \u001b[0;32mdef\u001b[0m \u001b[0mclose\u001b[0m\u001b[0;34m(\u001b[0m\u001b[0mself\u001b[0m\u001b[0;34m)\u001b[0m\u001b[0;34m:\u001b[0m\u001b[0;34m\u001b[0m\u001b[0;34m\u001b[0m\u001b[0m\n",
      "\u001b[0;32m/opt/conda/lib/python3.9/site-packages/pandas/io/parsers/readers.py\u001b[0m in \u001b[0;36m_make_engine\u001b[0;34m(self, engine)\u001b[0m\n\u001b[1;32m   1038\u001b[0m             )\n\u001b[1;32m   1039\u001b[0m         \u001b[0;31m# error: Too many arguments for \"ParserBase\"\u001b[0m\u001b[0;34m\u001b[0m\u001b[0;34m\u001b[0m\u001b[0m\n\u001b[0;32m-> 1040\u001b[0;31m         \u001b[0;32mreturn\u001b[0m \u001b[0mmapping\u001b[0m\u001b[0;34m[\u001b[0m\u001b[0mengine\u001b[0m\u001b[0;34m]\u001b[0m\u001b[0;34m(\u001b[0m\u001b[0mself\u001b[0m\u001b[0;34m.\u001b[0m\u001b[0mf\u001b[0m\u001b[0;34m,\u001b[0m \u001b[0;34m**\u001b[0m\u001b[0mself\u001b[0m\u001b[0;34m.\u001b[0m\u001b[0moptions\u001b[0m\u001b[0;34m)\u001b[0m  \u001b[0;31m# type: ignore[call-arg]\u001b[0m\u001b[0;34m\u001b[0m\u001b[0;34m\u001b[0m\u001b[0m\n\u001b[0m\u001b[1;32m   1041\u001b[0m \u001b[0;34m\u001b[0m\u001b[0m\n\u001b[1;32m   1042\u001b[0m     \u001b[0;32mdef\u001b[0m \u001b[0m_failover_to_python\u001b[0m\u001b[0;34m(\u001b[0m\u001b[0mself\u001b[0m\u001b[0;34m)\u001b[0m\u001b[0;34m:\u001b[0m\u001b[0;34m\u001b[0m\u001b[0;34m\u001b[0m\u001b[0m\n",
      "\u001b[0;32m/opt/conda/lib/python3.9/site-packages/pandas/io/parsers/c_parser_wrapper.py\u001b[0m in \u001b[0;36m__init__\u001b[0;34m(self, src, **kwds)\u001b[0m\n\u001b[1;32m     49\u001b[0m \u001b[0;34m\u001b[0m\u001b[0m\n\u001b[1;32m     50\u001b[0m         \u001b[0;31m# open handles\u001b[0m\u001b[0;34m\u001b[0m\u001b[0;34m\u001b[0m\u001b[0m\n\u001b[0;32m---> 51\u001b[0;31m         \u001b[0mself\u001b[0m\u001b[0;34m.\u001b[0m\u001b[0m_open_handles\u001b[0m\u001b[0;34m(\u001b[0m\u001b[0msrc\u001b[0m\u001b[0;34m,\u001b[0m \u001b[0mkwds\u001b[0m\u001b[0;34m)\u001b[0m\u001b[0;34m\u001b[0m\u001b[0;34m\u001b[0m\u001b[0m\n\u001b[0m\u001b[1;32m     52\u001b[0m         \u001b[0;32massert\u001b[0m \u001b[0mself\u001b[0m\u001b[0;34m.\u001b[0m\u001b[0mhandles\u001b[0m \u001b[0;32mis\u001b[0m \u001b[0;32mnot\u001b[0m \u001b[0;32mNone\u001b[0m\u001b[0;34m\u001b[0m\u001b[0;34m\u001b[0m\u001b[0m\n\u001b[1;32m     53\u001b[0m \u001b[0;34m\u001b[0m\u001b[0m\n",
      "\u001b[0;32m/opt/conda/lib/python3.9/site-packages/pandas/io/parsers/base_parser.py\u001b[0m in \u001b[0;36m_open_handles\u001b[0;34m(self, src, kwds)\u001b[0m\n\u001b[1;32m    220\u001b[0m         \u001b[0mLet\u001b[0m \u001b[0mthe\u001b[0m \u001b[0mreaders\u001b[0m \u001b[0mopen\u001b[0m \u001b[0mIOHandles\u001b[0m \u001b[0mafter\u001b[0m \u001b[0mthey\u001b[0m \u001b[0mare\u001b[0m \u001b[0mdone\u001b[0m \u001b[0;32mwith\u001b[0m \u001b[0mtheir\u001b[0m \u001b[0mpotential\u001b[0m \u001b[0mraises\u001b[0m\u001b[0;34m.\u001b[0m\u001b[0;34m\u001b[0m\u001b[0;34m\u001b[0m\u001b[0m\n\u001b[1;32m    221\u001b[0m         \"\"\"\n\u001b[0;32m--> 222\u001b[0;31m         self.handles = get_handle(\n\u001b[0m\u001b[1;32m    223\u001b[0m             \u001b[0msrc\u001b[0m\u001b[0;34m,\u001b[0m\u001b[0;34m\u001b[0m\u001b[0;34m\u001b[0m\u001b[0m\n\u001b[1;32m    224\u001b[0m             \u001b[0;34m\"r\"\u001b[0m\u001b[0;34m,\u001b[0m\u001b[0;34m\u001b[0m\u001b[0;34m\u001b[0m\u001b[0m\n",
      "\u001b[0;32m/opt/conda/lib/python3.9/site-packages/pandas/io/common.py\u001b[0m in \u001b[0;36mget_handle\u001b[0;34m(path_or_buf, mode, encoding, compression, memory_map, is_text, errors, storage_options)\u001b[0m\n\u001b[1;32m    700\u001b[0m         \u001b[0;32mif\u001b[0m \u001b[0mioargs\u001b[0m\u001b[0;34m.\u001b[0m\u001b[0mencoding\u001b[0m \u001b[0;32mand\u001b[0m \u001b[0;34m\"b\"\u001b[0m \u001b[0;32mnot\u001b[0m \u001b[0;32min\u001b[0m \u001b[0mioargs\u001b[0m\u001b[0;34m.\u001b[0m\u001b[0mmode\u001b[0m\u001b[0;34m:\u001b[0m\u001b[0;34m\u001b[0m\u001b[0;34m\u001b[0m\u001b[0m\n\u001b[1;32m    701\u001b[0m             \u001b[0;31m# Encoding\u001b[0m\u001b[0;34m\u001b[0m\u001b[0;34m\u001b[0m\u001b[0m\n\u001b[0;32m--> 702\u001b[0;31m             handle = open(\n\u001b[0m\u001b[1;32m    703\u001b[0m                 \u001b[0mhandle\u001b[0m\u001b[0;34m,\u001b[0m\u001b[0;34m\u001b[0m\u001b[0;34m\u001b[0m\u001b[0m\n\u001b[1;32m    704\u001b[0m                 \u001b[0mioargs\u001b[0m\u001b[0;34m.\u001b[0m\u001b[0mmode\u001b[0m\u001b[0;34m,\u001b[0m\u001b[0;34m\u001b[0m\u001b[0;34m\u001b[0m\u001b[0m\n",
      "\u001b[0;31mFileNotFoundError\u001b[0m: [Errno 2] No such file or directory: '/aiffel/data/salary_1.csv'"
     ]
    }
   ],
   "source": [
    "salary_1 = pd.read_csv('~/data/salary_1.csv')\n",
    "salary_2 = pd.read_csv('~/data/salary_2.csv')"
   ]
  },
  {
   "cell_type": "code",
   "execution_count": null,
   "id": "69397681",
   "metadata": {},
   "outputs": [],
   "source": [
    "salary_1.head()"
   ]
  },
  {
   "cell_type": "code",
   "execution_count": null,
   "id": "f3fde917",
   "metadata": {},
   "outputs": [],
   "source": [
    "salary_2.head()"
   ]
  },
  {
   "cell_type": "code",
   "execution_count": null,
   "id": "0888ef42",
   "metadata": {},
   "outputs": [],
   "source": [
    "#열 이름이 완벽히 같기 때문에, concat을 통해 일단 두 데이터를 합친다\n",
    "salary_df = pd.concat([salary_1, salary_2])\n",
    "salary_df"
   ]
  },
  {
   "cell_type": "code",
   "execution_count": null,
   "id": "2930a656",
   "metadata": {},
   "outputs": [],
   "source": [
    "#index가 중복되는 데이터가 있으므로, 순서대로 다시 정렬해준다\n",
    "\n",
    "salary_df = salary_df.reset_index(drop=True)"
   ]
  },
  {
   "cell_type": "code",
   "execution_count": null,
   "id": "d35cacfe",
   "metadata": {},
   "outputs": [],
   "source": [
    "salary_df"
   ]
  },
  {
   "cell_type": "markdown",
   "id": "4268aedb",
   "metadata": {},
   "source": [
    "* 연봉 예측할 때 국가별 물가지수 참고하는 것이 도움이 된다"
   ]
  },
  {
   "cell_type": "code",
   "execution_count": null,
   "id": "1b159910",
   "metadata": {},
   "outputs": [],
   "source": [
    "cpi = pd.read_csv('~/data/cpi.csv')"
   ]
  },
  {
   "cell_type": "code",
   "execution_count": null,
   "id": "41b5f979",
   "metadata": {},
   "outputs": [],
   "source": [
    "cpi.head()"
   ]
  },
  {
   "cell_type": "markdown",
   "id": "96199f31",
   "metadata": {},
   "source": [
    "* salary 데이터랑 cpi 데이터의 country 값들이 표기가 조금씩 다르다"
   ]
  },
  {
   "cell_type": "code",
   "execution_count": null,
   "id": "44211258",
   "metadata": {},
   "outputs": [],
   "source": [
    "#일단 국가별 명칭의 고유값을 확인해준다\n",
    "\n",
    "salary_df['Country'].unique()"
   ]
  },
  {
   "cell_type": "code",
   "execution_count": null,
   "id": "d1bf83cf",
   "metadata": {},
   "outputs": [],
   "source": [
    "cpi['Country'].unique()"
   ]
  },
  {
   "cell_type": "code",
   "execution_count": null,
   "id": "8402b2a6",
   "metadata": {},
   "outputs": [],
   "source": [
    "#replace를 통해 국가별 명칭을 일치시켜준다\n",
    "\n",
    "cpi['Country'] = cpi['Country'].replace({'United States':'USA', 'United Kingdom':'UK'})"
   ]
  },
  {
   "cell_type": "code",
   "execution_count": null,
   "id": "9a402198",
   "metadata": {},
   "outputs": [],
   "source": [
    "salary_df = salary_df.merge(cpi, on='Country', how='left')"
   ]
  },
  {
   "cell_type": "code",
   "execution_count": null,
   "id": "fe540fcd",
   "metadata": {},
   "outputs": [],
   "source": [
    "salary_df.head()"
   ]
  },
  {
   "cell_type": "code",
   "execution_count": null,
   "id": "f627c656",
   "metadata": {},
   "outputs": [],
   "source": [
    "#불필요한 열들을 삭제해준다\n",
    "\n",
    "salary_df.drop(['Reference','Previous','Units','Frequency'], axis=1, inplace=True)"
   ]
  },
  {
   "cell_type": "code",
   "execution_count": null,
   "id": "997788a8",
   "metadata": {},
   "outputs": [],
   "source": [
    "salary_df.head()"
   ]
  },
  {
   "cell_type": "code",
   "execution_count": null,
   "id": "2e939ac2",
   "metadata": {},
   "outputs": [],
   "source": [
    "salary_df = salary_df.rename({'Last':'CPI'}, axis=1)"
   ]
  },
  {
   "cell_type": "code",
   "execution_count": null,
   "id": "c4bb6c96",
   "metadata": {},
   "outputs": [],
   "source": [
    "salary_df.head()"
   ]
  },
  {
   "cell_type": "markdown",
   "id": "f8944ad6",
   "metadata": {},
   "source": [
    "# 2.Missing Value, Outlier / Aggregation and Groupby / Pivot\n",
    "\n",
    "① Overview : 데이터의 기본적인 특성을 파악하고, 데이터셋의 구조와 내용을 이해하는 데 도움을 줍니다.\n",
    "\n",
    "head( ): 데이터프레임의 처음 몇 행(기본적으로 5행)을 표시합니다. 데이터의 포맷, 변수의 형태 등을 빠르게 확인할 수 있습니다.  \n",
    "tail( ): 데이터프레임의 마지막 몇 행을 표시합니다. 데이터의 전체적인 분포를 확인하는 데 도움이 됩니다.  \n",
    "describe( ): 수치형 열에 대한 기술통계를 제공합니다. 평균, 표준편차, 최소값, 최대값 등을 확인할 수 있습니다.  \n",
    "info( ): 데이터프레임의 기본 정보를 제공합니다. 각 열의 데이터 타입, 누락된 값의 수, 메모리 사용량 등을 확인할 수 있습니다.  \n",
    "dtypes: 각 열의 데이터 타입을 보여줍니다. 데이터 형식을 빠르게 이해하는 데 유용합니다.  \n",
    "  \n",
    "  \n",
    "② Outlier : 이상치(Outlier)를 탐지하고 처리하는 데 사용되는 여러 방법과 함수들이 있습니다.  \n",
    "\n",
    "통계적 방법: Z-점수와 IQR을 사용하여 이상치를 식별할 수 있습니다.  \n",
    "시각적 방법: 박스 플롯으로 이상치를 시각화하여 이상치를 식별할 수 있습니다.  \n",
    "데이터 필터링: 조건에 따라 이상치 필터링 및 제거등의 방법으로 이상치를 식별할 수 있습니다.   \n",
    "  \n",
    "③ Aggregation : 여러 데이터 포인트를 요약하고, 그룹화하여 새로운 통계 또는 정보를 추출하는 과정입니다.  \n",
    "   \n",
    "groupby( ): 데이터를 특정 기준으로 그룹화하여 집계 연산에 적용할 수 있습니다.  \n",
    "집계 함수: sum( ), mean( ), median( ), min( ), max( ), count( ) 등으로 각 그룹의 요약 통계를 제공 합니다.  \n",
    "std( ) 함수 : 표준편차는 데이터 세트 내의 값들이 평균으로부터 얼마나 멀리 퍼져 있는지를 측정하는 값으로, 데이터의 분산 정도를 나타냅니다.  \n",
    "agg( ) 함수: 다양한 집계 함수를 한 번에 적용하여 다양한 요약 통계를 얻을 수 있습니다.  \n",
    "  \n",
    "  \n",
    "④ Pivot Table  \n",
    "  \n",
    "데이터프레임을 재구성하여, 특정 열을 새로운 행과 열의 인덱스로 사용하고, 다른 열의 데이터로 새로운 표를 만드는 데 사용됩니다.\n"
   ]
  },
  {
   "cell_type": "code",
   "execution_count": null,
   "id": "5f2d3cd6",
   "metadata": {},
   "outputs": [],
   "source": [
    "#data type확인한다\n",
    "salary_df.info()"
   ]
  },
  {
   "cell_type": "markdown",
   "id": "b2bf6aac",
   "metadata": {},
   "source": [
    "* cpi는 다 숫자값이어야 하는데 object로 생길 수도 있다. 문자값이 섞여있거나, 그냥 그렇게 뜰 수 있음. 데이터타입 바꿔주기"
   ]
  },
  {
   "cell_type": "code",
   "execution_count": null,
   "id": "cefb140f",
   "metadata": {},
   "outputs": [],
   "source": [
    "salary_df['CPI'] = pd.to_numeric(salary_df['CPI'])"
   ]
  },
  {
   "cell_type": "code",
   "execution_count": null,
   "id": "689e5cc7",
   "metadata": {},
   "outputs": [],
   "source": [
    "salary_df.describe()"
   ]
  },
  {
   "cell_type": "markdown",
   "id": "679737f6",
   "metadata": {},
   "source": [
    "* 경력값 : min, max 이상함\n",
    "* salary : min이 이상함\n"
   ]
  },
  {
   "cell_type": "markdown",
   "id": "18e4d4ea",
   "metadata": {},
   "source": [
    "## 1) Missing Value"
   ]
  },
  {
   "cell_type": "code",
   "execution_count": null,
   "id": "323d1d8f",
   "metadata": {},
   "outputs": [],
   "source": [
    "salary_df.isna().sum()"
   ]
  },
  {
   "cell_type": "code",
   "execution_count": null,
   "id": "1430a41c",
   "metadata": {},
   "outputs": [],
   "source": [
    "#Age null값 데이터 확인하기\n",
    "salary_df[salary_df['Age'].isna()]"
   ]
  },
  {
   "cell_type": "code",
   "execution_count": null,
   "id": "b97ad33b",
   "metadata": {},
   "outputs": [],
   "source": [
    "#Null값 삭제해주기\n",
    "salary_df = salary_df.dropna()"
   ]
  },
  {
   "cell_type": "code",
   "execution_count": null,
   "id": "65eb50c4",
   "metadata": {},
   "outputs": [],
   "source": [
    "salary_df[salary_df['Years of Experience'] == -1]"
   ]
  },
  {
   "cell_type": "code",
   "execution_count": null,
   "id": "f1bc4a35",
   "metadata": {},
   "outputs": [],
   "source": [
    "#경력 연수 이상한 사람 삭제해주기\n",
    "salary_df = salary_df[salary_df['Years of Experience'] != -1]"
   ]
  },
  {
   "cell_type": "code",
   "execution_count": null,
   "id": "6a9b67d6",
   "metadata": {},
   "outputs": [],
   "source": [
    "salary_df['Years of Experience'].sort_values()"
   ]
  },
  {
   "cell_type": "code",
   "execution_count": null,
   "id": "8d23c0b7",
   "metadata": {},
   "outputs": [],
   "source": [
    "salary_df[salary_df['Years of Experience'] == 82]"
   ]
  },
  {
   "cell_type": "markdown",
   "id": "751818a9",
   "metadata": {},
   "source": [
    "* 나이가 25살인데 경력이 82년이니까 이상하다"
   ]
  },
  {
   "cell_type": "code",
   "execution_count": null,
   "id": "f6c96774",
   "metadata": {},
   "outputs": [],
   "source": [
    "#경력이 나이보다 많은 경우는 이상하니까 걸러본다 (~로 거를 수 있다)\n",
    "salary_df = salary_df[~(salary_df['Age'] -18  < salary_df['Years of Experience'])]"
   ]
  },
  {
   "cell_type": "code",
   "execution_count": null,
   "id": "5763e7d6",
   "metadata": {},
   "outputs": [],
   "source": [
    "salary_df.describe()"
   ]
  },
  {
   "cell_type": "code",
   "execution_count": null,
   "id": "6e253289",
   "metadata": {},
   "outputs": [],
   "source": [
    "salary_df[salary_df['Years of Experience'] ==0]"
   ]
  },
  {
   "cell_type": "markdown",
   "id": "b8d4aedc",
   "metadata": {},
   "source": [
    "* 경력이 0년인거는 정상인 것 같으니 넘어간다"
   ]
  },
  {
   "cell_type": "markdown",
   "id": "72849b48",
   "metadata": {},
   "source": [
    "## 2) Group By"
   ]
  },
  {
   "cell_type": "code",
   "execution_count": null,
   "id": "7077c9f5",
   "metadata": {},
   "outputs": [],
   "source": [
    "salary_df[salary_df['Gender'] == 'Male']['Salary'].mean()"
   ]
  },
  {
   "cell_type": "code",
   "execution_count": null,
   "id": "867636ef",
   "metadata": {},
   "outputs": [],
   "source": [
    "#숫자로 연산이 되는 데이터만 표출된다\n",
    "salary_df.groupby('Gender').mean()"
   ]
  },
  {
   "cell_type": "code",
   "execution_count": null,
   "id": "d4ca202f",
   "metadata": {},
   "outputs": [],
   "source": [
    "#보고싶은 열만 지정할 수도 있다\n",
    "salary_df.groupby('Gender')['Salary'].mean()"
   ]
  },
  {
   "cell_type": "code",
   "execution_count": null,
   "id": "61a441c1",
   "metadata": {},
   "outputs": [],
   "source": [
    "#두 개의 열로 묶어줄 수도 있다\n",
    "salary_df.groupby(['Gender','Country'])['Salary'].mean()"
   ]
  },
  {
   "cell_type": "code",
   "execution_count": null,
   "id": "6c1d27a9",
   "metadata": {},
   "outputs": [],
   "source": [
    "#index로 묶어주면 이렇게 데이터 테이블로 나온다. 매우 유용한 문법\n",
    "salary_df.groupby(['Gender','Country'])['Salary'].mean().reset_index()"
   ]
  },
  {
   "cell_type": "code",
   "execution_count": null,
   "id": "53ea599e",
   "metadata": {},
   "outputs": [],
   "source": [
    "#agg를 통해 다양한 집계함수를 한 번에 적용할 수 있다\n",
    "salary_df.groupby('Gender')['Salary'].agg(['sum','mean'])"
   ]
  },
  {
   "cell_type": "markdown",
   "id": "f7023b85",
   "metadata": {},
   "source": [
    "## 3) Pivot Table"
   ]
  },
  {
   "cell_type": "code",
   "execution_count": null,
   "id": "aa98cacf",
   "metadata": {},
   "outputs": [],
   "source": [
    "#피봇테이블 만들기 (데이터, 행, 열, 값, 연산)\n",
    "pd.pivot_table(salary_df, index='Gender', columns='Country', values='Salary', aggfunc= np.mean)"
   ]
  },
  {
   "cell_type": "code",
   "execution_count": null,
   "id": "d627c0b1",
   "metadata": {},
   "outputs": [],
   "source": [
    "pd.pivot_table(salary_df, index=['Gender','Race'], columns='Country', values='Salary', aggfunc= sum)"
   ]
  },
  {
   "cell_type": "markdown",
   "id": "41429196",
   "metadata": {},
   "source": [
    "### (참고) Pivot 만들기"
   ]
  },
  {
   "cell_type": "code",
   "execution_count": null,
   "id": "c8942de3",
   "metadata": {},
   "outputs": [],
   "source": [
    "sales_df = pd.DataFrame({'company': ['a','a','a','a','b','b','b','b'],\n",
    "             'quarter': ['q1','q2','q3','q4','q1','q2','q3','q4'],\n",
    "             'sales': [111,222,333,444,555,666,777,888]})"
   ]
  },
  {
   "cell_type": "code",
   "execution_count": null,
   "id": "bcc7bf8b",
   "metadata": {},
   "outputs": [],
   "source": [
    "sales_temp = pd.pivot(sales_df, index= 'company', columns= 'quarter', values='sales')"
   ]
  },
  {
   "cell_type": "code",
   "execution_count": null,
   "id": "f221bbae",
   "metadata": {},
   "outputs": [],
   "source": [
    "#quarter 라는 column name을 삭제해ㅅ준다\n",
    "sales_temp.columns = sales_temp.columns.rename('')"
   ]
  },
  {
   "cell_type": "code",
   "execution_count": null,
   "id": "af5dd21a",
   "metadata": {},
   "outputs": [],
   "source": [
    "new_sales_df = sales_temp.reset_index()"
   ]
  },
  {
   "cell_type": "code",
   "execution_count": null,
   "id": "f9c649d7",
   "metadata": {},
   "outputs": [],
   "source": [
    "new_sales_df"
   ]
  },
  {
   "cell_type": "markdown",
   "id": "8dda5391",
   "metadata": {},
   "source": [
    "## 4) Melt"
   ]
  },
  {
   "cell_type": "code",
   "execution_count": null,
   "id": "74b2e73e",
   "metadata": {},
   "outputs": [],
   "source": [
    "#pivot table형태를 이렇게 바꾸고 싶을 때 \n",
    "pd.melt(new_sales_df, id_vars='company', value_vars=['q1','q2','q3','q4'], var_name='quarter', value_name='sales').sort_values('company')"
   ]
  },
  {
   "cell_type": "markdown",
   "id": "aca98eea",
   "metadata": {},
   "source": [
    "# 3. Log, One-Hot Encoding\n",
    "① Log Transformation : 데이터의 변환을 위해 로그 함수를 적용하는 과정. 데이터의 스케일을 조정하거나 정규성을 높이는 데 사용됩니다.  \n",
    "② get_dummies : 주어진 범주형 열의 각 고유 범주를 대표하는 새로운 이진(0 또는 1) 열을 생성합니다"
   ]
  },
  {
   "cell_type": "markdown",
   "id": "b9056ee7",
   "metadata": {},
   "source": [
    "## 1) Log"
   ]
  },
  {
   "cell_type": "code",
   "execution_count": null,
   "id": "1ccff94f",
   "metadata": {},
   "outputs": [],
   "source": [
    "#로그 : 10의 몇 승인지 나온다. 기본적으로는 자연로그를 취한다\n",
    "np.log10(100)"
   ]
  },
  {
   "cell_type": "code",
   "execution_count": null,
   "id": "46256e49",
   "metadata": {},
   "outputs": [],
   "source": [
    "#가격이 기하급수적으로 오르는 데이터를 가정한다\n",
    "price_df = pd.DataFrame({'level':[1,2,3,4,5,6,7], 'price':[1,10,100,1000,10000,100000,1000000]})"
   ]
  },
  {
   "cell_type": "code",
   "execution_count": null,
   "id": "2f05f4f1",
   "metadata": {},
   "outputs": [],
   "source": [
    "price_df"
   ]
  },
  {
   "cell_type": "code",
   "execution_count": null,
   "id": "091b130f",
   "metadata": {},
   "outputs": [],
   "source": [
    "import seaborn as sns"
   ]
  },
  {
   "cell_type": "code",
   "execution_count": null,
   "id": "26ef9fc3",
   "metadata": {},
   "outputs": [],
   "source": [
    "sns.scatterplot(x='level',y='price', data=price_df)"
   ]
  },
  {
   "cell_type": "code",
   "execution_count": null,
   "id": "f8c21e55",
   "metadata": {},
   "outputs": [],
   "source": [
    "sns.scatterplot(x=price_df['level'], y=np.log(price_df['price']))"
   ]
  },
  {
   "cell_type": "markdown",
   "id": "361cd067",
   "metadata": {},
   "source": [
    "* Linear Regression 에서는 독립변수, 종속변수가 서로 선형관계에 있을수록 예측에 유리하다. 이럴 때 Log를 유용하게 취해줄 수 있다"
   ]
  },
  {
   "cell_type": "code",
   "execution_count": null,
   "id": "6fb3e677",
   "metadata": {},
   "outputs": [],
   "source": [
    "np.log(55)"
   ]
  },
  {
   "cell_type": "code",
   "execution_count": null,
   "id": "89f32031",
   "metadata": {},
   "outputs": [],
   "source": [
    "np.exp(4.007333185232471)"
   ]
  },
  {
   "cell_type": "markdown",
   "id": "9420077b",
   "metadata": {},
   "source": [
    "## 2) One-Hot Encoding"
   ]
  },
  {
   "cell_type": "code",
   "execution_count": null,
   "id": "2ea9f776",
   "metadata": {},
   "outputs": [],
   "source": [
    "salary_df.head()"
   ]
  },
  {
   "cell_type": "markdown",
   "id": "4849f00c",
   "metadata": {},
   "source": [
    "* male, female을 원핫인코딩 하면, 0과 1로 나뉜다. 열이 새로 생긴다"
   ]
  },
  {
   "cell_type": "code",
   "execution_count": null,
   "id": "5cf9ecb4",
   "metadata": {},
   "outputs": [],
   "source": [
    "#컬럼을 생략하지 않고 다 보여주게 만드는 명령어. 보통 100개 넘어가는 컬럼은 선언하지 않는다\n",
    "pd.set_option('display.max_columns', 50)"
   ]
  },
  {
   "cell_type": "code",
   "execution_count": null,
   "id": "cfdd88e9",
   "metadata": {},
   "outputs": [],
   "source": [
    "#drop 해주는 이유는, 하나만 있어도 연산에 문제가 없기 때문이다\n",
    "pd.get_dummies(salary_df, columns=['Gender','Country','Race'], drop_first=True)"
   ]
  },
  {
   "cell_type": "code",
   "execution_count": null,
   "id": "33ab90da",
   "metadata": {},
   "outputs": [],
   "source": [
    "#각 값이 몇개 있는지\n",
    "salary_df[['Gender','Country','Race','Job Title']].nunique()"
   ]
  },
  {
   "cell_type": "code",
   "execution_count": null,
   "id": "97394689",
   "metadata": {},
   "outputs": [],
   "source": [
    "salary_df['Job Title'].value_counts().tail(20)"
   ]
  },
  {
   "cell_type": "code",
   "execution_count": null,
   "id": "fd7f05df",
   "metadata": {
    "scrolled": false
   },
   "outputs": [],
   "source": [
    "salary_df['Job Title'].unique()"
   ]
  },
  {
   "cell_type": "code",
   "execution_count": null,
   "id": "74ea04c7",
   "metadata": {},
   "outputs": [],
   "source": [
    "job = pd.read_csv('~/data/job.csv')"
   ]
  },
  {
   "cell_type": "code",
   "execution_count": null,
   "id": "dd12632b",
   "metadata": {},
   "outputs": [],
   "source": [
    "salary_df = salary_df.merge(job, on='Job Title', how='left')"
   ]
  },
  {
   "cell_type": "code",
   "execution_count": null,
   "id": "38d87ddf",
   "metadata": {},
   "outputs": [],
   "source": [
    "salary_df.drop('Job Title', axis=1, inplace=True)"
   ]
  },
  {
   "cell_type": "code",
   "execution_count": null,
   "id": "71292046",
   "metadata": {},
   "outputs": [],
   "source": [
    "salary_df"
   ]
  },
  {
   "cell_type": "code",
   "execution_count": null,
   "id": "c05cdf95",
   "metadata": {},
   "outputs": [],
   "source": [
    "salary_df['Jobs'].value_counts()"
   ]
  },
  {
   "cell_type": "code",
   "execution_count": null,
   "id": "85ea6fa3",
   "metadata": {},
   "outputs": [],
   "source": [
    "salary_df = pd.get_dummies(salary_df, columns=['Gender','Country','Race','Jobs'], drop_first=True)"
   ]
  },
  {
   "cell_type": "code",
   "execution_count": null,
   "id": "9c88a0f1",
   "metadata": {},
   "outputs": [],
   "source": [
    "salary_df"
   ]
  },
  {
   "cell_type": "markdown",
   "id": "ff2a10e5",
   "metadata": {},
   "source": [
    "# 4. Scaling\n",
    "\n",
    "\n",
    "① Scaling : 데이터의 범위를 조정하는 과정. MinMaxScaler, StandardScaler 등을 사용해 특성의 스케일을 조정 합니다.  \n",
    "\n",
    "- 거리기반 모델을 쓸때는 반드시 스케일링 써서 각각 변수의 특성에 따라 동일한 스케일을 지닐수 있게 맞춰주는것이 중요 합니다.  \n",
    "  \n",
    "  \n",
    "② 주요 Scaling 방법 :\n",
    "\n",
    "- Standardization : (x-mean/ std) 결과적으로 데이터는 평균이 0이고 표준편차가 1인 분포를 갖게 됩니다.  \n",
    "- Robust Scaling : (x-Q2) / (Q3-Q1) 이 방법은 중앙값과 사분위 범위를 사용하여 데이터를 스케일링합니다. 표준화와 유사하지만, 이상치의 영향을 덜 받습니다.  \n",
    "- MinMaxScaler : (x-min)/ (max-min) 데이터를 0과 1 사이의 범위로 조정합니다. 주로 최소값과 최대값을 사용하여 계산합니다. ex)Deep Learning  \n",
    "  \n",
    "  \n",
    "③ 각 Scaling 방법의 적합한 상황과 특징:  \n",
    "\n",
    "- Standardization : 아웃라이어가 없는 경우, 변수의 분포가 정규분포를 따를 때 적합합니다.  \n",
    "리니어 리그레이션(연속적인 값 예측), 로지스틱 회귀(분류 문제에 적합한 확률 결과 제공), 서포트 벡터 머신(이진 또는 다중 클래스 분류, 회귀)에 사용됩니다.  \n",
    "주의사항 : 아웃라이어에 민감하므로, 아웃라이어가 존재하지 않을 때 더 효과적입니다.  \n",
    "- Robust Scaling : 아웃라이어가 많은 데이터에 적합 합니다.  \n",
    "특징 : 정규분포를 따르지 않는 데이터에 적용하기 좋은 방법입니다.  \n",
    "- MinMaxScaler : 데이터의 범위를 0에서 1로 제한하고자 할 때 적합 합니다.주로 딥러닝 모델에서 사용됩니다.  \n",
    "특징 : 스케일링 범위를 제한하고자 할 때 유용합니다.  \n",
    "  \n",
    "각 변수의 크기(Scale) 중요할 때 사용한다 : K-Means, KNN(거리 기반 모델링) 등"
   ]
  },
  {
   "cell_type": "markdown",
   "id": "d91ccb58",
   "metadata": {},
   "source": [
    "## 1) Standard Scaling"
   ]
  },
  {
   "cell_type": "code",
   "execution_count": null,
   "id": "cf18c944",
   "metadata": {},
   "outputs": [],
   "source": [
    "salary_df['Age'].mean()"
   ]
  },
  {
   "cell_type": "code",
   "execution_count": null,
   "id": "2443ebf5",
   "metadata": {},
   "outputs": [],
   "source": [
    "salary_df['Age'].std()"
   ]
  },
  {
   "cell_type": "code",
   "execution_count": null,
   "id": "c826f1c8",
   "metadata": {},
   "outputs": [],
   "source": [
    "(salary_df['Age']- salary_df['Age'].mean()) / salary_df['Age'].std()"
   ]
  },
  {
   "cell_type": "markdown",
   "id": "2ab0e173",
   "metadata": {},
   "source": [
    "## 2) Robust Scaling "
   ]
  },
  {
   "cell_type": "code",
   "execution_count": null,
   "id": "7de8fa83",
   "metadata": {},
   "outputs": [],
   "source": [
    "salary_df['Age'].quantile(0.75)"
   ]
  },
  {
   "cell_type": "code",
   "execution_count": null,
   "id": "8cbe64f4",
   "metadata": {},
   "outputs": [],
   "source": [
    "salary_df['Age'] - salary_df['Age'].quantile(0.5) / (salary_df['Age'].quantile(0.75) - salary_df['Age'].quantile(0.25))"
   ]
  },
  {
   "cell_type": "markdown",
   "id": "d757ad7f",
   "metadata": {},
   "source": [
    "## 3) MinMax Scaling"
   ]
  },
  {
   "cell_type": "code",
   "execution_count": null,
   "id": "bb025607",
   "metadata": {},
   "outputs": [],
   "source": [
    "(salary_df['Age']- salary_df['Age'].min())/ (salary_df['Age'].max() - salary_df['Age'].min())"
   ]
  },
  {
   "cell_type": "markdown",
   "id": "8401035b",
   "metadata": {},
   "source": [
    "* 근데 이 모든 scaling을 쉽게 해주는 라이브러리가 있음! "
   ]
  },
  {
   "cell_type": "code",
   "execution_count": null,
   "id": "3321f159",
   "metadata": {},
   "outputs": [],
   "source": [
    "#sklearn 다 부르면 용량이 많으니까, 용량때문에 필요한 라이브러리만 취사선택해서 가져오는 게 더 효율적임\n",
    "from sklearn.preprocessing import StandardScaler, RobustScaler, MinMaxScaler"
   ]
  },
  {
   "cell_type": "code",
   "execution_count": null,
   "id": "4fce6ed4",
   "metadata": {},
   "outputs": [],
   "source": [
    "ss = StandardScaler()\n",
    "rs = RobustScaler()\n",
    "mm = MinMaxScaler()"
   ]
  },
  {
   "cell_type": "markdown",
   "id": "654bd2d6",
   "metadata": {},
   "source": [
    "### 1) Standard"
   ]
  },
  {
   "cell_type": "code",
   "execution_count": null,
   "id": "663e2745",
   "metadata": {},
   "outputs": [],
   "source": [
    "#1) 필요한 데이터를 학습시켜준다. (ss의 경우, 평균, 표준편차를 학습한다)\n",
    "ss.fit(salary_df)"
   ]
  },
  {
   "cell_type": "code",
   "execution_count": null,
   "id": "e9b9b9fc",
   "metadata": {},
   "outputs": [],
   "source": [
    "#2) 학습된 정보로 연산을 해준다\n",
    "ss.transform(salary_df)"
   ]
  },
  {
   "cell_type": "markdown",
   "id": "ed7d9fe8",
   "metadata": {},
   "source": [
    "* 위처럼 numpy array 형태로 나오고, 열 이름도 없으므로, 아래와 같이 dataframe형식으로 지정해줄 수 있다 "
   ]
  },
  {
   "cell_type": "code",
   "execution_count": null,
   "id": "a6708ec8",
   "metadata": {},
   "outputs": [],
   "source": [
    "ss_df = pd.DataFrame(ss.transform(salary_df), columns= salary_df.columns)"
   ]
  },
  {
   "cell_type": "code",
   "execution_count": null,
   "id": "593d13af",
   "metadata": {},
   "outputs": [],
   "source": [
    "ss_df.head()"
   ]
  },
  {
   "cell_type": "markdown",
   "id": "936e581f",
   "metadata": {},
   "source": [
    "### 2) Robust"
   ]
  },
  {
   "cell_type": "code",
   "execution_count": null,
   "id": "5ddd93a0",
   "metadata": {},
   "outputs": [],
   "source": [
    "rs.fit(salary_df)"
   ]
  },
  {
   "cell_type": "code",
   "execution_count": null,
   "id": "e1bd1f26",
   "metadata": {},
   "outputs": [],
   "source": [
    "rs_df = pd.DataFrame(rs.transform(salary_df),columns= salary_df.columns)"
   ]
  },
  {
   "cell_type": "code",
   "execution_count": null,
   "id": "59f3c303",
   "metadata": {},
   "outputs": [],
   "source": [
    "rs_df.head()"
   ]
  },
  {
   "cell_type": "markdown",
   "id": "910da976",
   "metadata": {},
   "source": [
    "### 3) MM"
   ]
  },
  {
   "cell_type": "code",
   "execution_count": null,
   "id": "35c39513",
   "metadata": {
    "scrolled": true
   },
   "outputs": [],
   "source": [
    "mm.fit(salary_df)"
   ]
  },
  {
   "cell_type": "code",
   "execution_count": null,
   "id": "5081015f",
   "metadata": {},
   "outputs": [],
   "source": [
    "mm_df = pd.DataFrame(mm.transform(salary_df), columns= salary_df.columns)"
   ]
  },
  {
   "cell_type": "code",
   "execution_count": null,
   "id": "f4f05d2f",
   "metadata": {
    "scrolled": true
   },
   "outputs": [],
   "source": [
    "mm_df.head()"
   ]
  },
  {
   "cell_type": "code",
   "execution_count": null,
   "id": "efd07316",
   "metadata": {},
   "outputs": [],
   "source": [
    "ss_df.describe()"
   ]
  },
  {
   "cell_type": "code",
   "execution_count": null,
   "id": "36c35dfe",
   "metadata": {},
   "outputs": [],
   "source": [
    "rs_df.describe()"
   ]
  },
  {
   "cell_type": "code",
   "execution_count": null,
   "id": "89cc580b",
   "metadata": {},
   "outputs": [],
   "source": [
    "mm_df.describe()"
   ]
  },
  {
   "cell_type": "markdown",
   "id": "14d27778",
   "metadata": {},
   "source": [
    "### 참고) fit, transform 한번에 하는 방법"
   ]
  },
  {
   "cell_type": "code",
   "execution_count": null,
   "id": "57e51876",
   "metadata": {},
   "outputs": [],
   "source": [
    "ss.fit_transform(salary_df)"
   ]
  },
  {
   "cell_type": "markdown",
   "id": "2857739b",
   "metadata": {},
   "source": [
    "# 5. PCA analysis\n",
    "* 정보의 손실을 최소화하는 방향으로, 데이터의 차원을 축소하는 기법\n",
    "* 목적 : 변수의 갯수를 줄이기 위해, 차원을 축소하기 위해\n",
    "* 두 변수의 상관관계가 높으면 하나 없애주는 게 낫다\n",
    "* 장점 : 시각화할 때 유용하다\n",
    "* 단점 : 주성분 변수가 어떤 의미, 특성을 가지고 있는지 아무 정보를 가지고 있지 않음\n",
    "\n",
    "① PCA (Principal Component Analysis) : 차원 축소를 위한 기술. 데이터의 주요 특성을 유지하면서 차원을 줄여 계산 효율성을 높입니다.  \n",
    "② explained_variance_ratio_ : 주로 주성분 분석(Principal Component Analysis, PCA)과 같은 차원 축소 기법에서 사용되는 속성입니다. 이 속성은 각 주성분이 원본 데이터의 분산(variance)을 얼마나 설명하는지에 대한 비율을 나타냅니다.  \n"
   ]
  },
  {
   "cell_type": "markdown",
   "id": "4a42d138",
   "metadata": {},
   "source": [
    "## 1) PCA "
   ]
  },
  {
   "cell_type": "code",
   "execution_count": null,
   "id": "44fd56cf",
   "metadata": {},
   "outputs": [],
   "source": [
    "from sklearn.decomposition import PCA"
   ]
  },
  {
   "cell_type": "code",
   "execution_count": null,
   "id": "73ab4814",
   "metadata": {},
   "outputs": [],
   "source": [
    "pca = PCA()"
   ]
  },
  {
   "cell_type": "code",
   "execution_count": null,
   "id": "6560b13e",
   "metadata": {},
   "outputs": [],
   "source": [
    "#1)학습시키기\n",
    "pca.fit(salary_df)"
   ]
  },
  {
   "cell_type": "code",
   "execution_count": null,
   "id": "3d17fc50",
   "metadata": {
    "scrolled": false
   },
   "outputs": [],
   "source": [
    "#2)학습된 정보로 연산하기\n",
    "pd.DataFrame(pca.transform(salary_df))"
   ]
  },
  {
   "cell_type": "code",
   "execution_count": null,
   "id": "f8e13bb6",
   "metadata": {},
   "outputs": [],
   "source": [
    "#2개의 주성분으로만 학습시킨다\n",
    "pca = PCA(2)"
   ]
  },
  {
   "cell_type": "code",
   "execution_count": null,
   "id": "13f9d486",
   "metadata": {},
   "outputs": [],
   "source": [
    "pd.DataFrame(pca.fit_transform(salary_df), columns=['PC1', 'PC2'])"
   ]
  },
  {
   "cell_type": "code",
   "execution_count": null,
   "id": "e79485e6",
   "metadata": {},
   "outputs": [],
   "source": [
    "#거의 대부분의 정보를 두 개의 주성분이 가지고 있음을 확인\n",
    "(pca.explained_variance_ratio_).sum()"
   ]
  },
  {
   "cell_type": "markdown",
   "id": "03a60484",
   "metadata": {},
   "source": [
    "## 2) 상관관계 확인하기"
   ]
  },
  {
   "cell_type": "code",
   "execution_count": 13,
   "id": "aaf47d3f",
   "metadata": {},
   "outputs": [
    {
     "ename": "NameError",
     "evalue": "name 'salary_df' is not defined",
     "output_type": "error",
     "traceback": [
      "\u001b[0;31m---------------------------------------------------------------------------\u001b[0m",
      "\u001b[0;31mNameError\u001b[0m                                 Traceback (most recent call last)",
      "\u001b[0;32m/tmp/ipykernel_145/214869978.py\u001b[0m in \u001b[0;36m<module>\u001b[0;34m\u001b[0m\n\u001b[0;32m----> 1\u001b[0;31m \u001b[0msalary_df\u001b[0m\u001b[0;34m.\u001b[0m\u001b[0mcorr\u001b[0m\u001b[0;34m(\u001b[0m\u001b[0;34m)\u001b[0m\u001b[0;34m\u001b[0m\u001b[0;34m\u001b[0m\u001b[0m\n\u001b[0m",
      "\u001b[0;31mNameError\u001b[0m: name 'salary_df' is not defined"
     ]
    }
   ],
   "source": [
    "salary_df.corr()"
   ]
  },
  {
   "cell_type": "markdown",
   "id": "1c622dfb",
   "metadata": {},
   "source": [
    "* 나이, 경력이 상관관계가 높으니까 걸러주는 식으로 가능"
   ]
  },
  {
   "cell_type": "markdown",
   "id": "8b81abe3",
   "metadata": {},
   "source": [
    "# 6. Quiz"
   ]
  },
  {
   "cell_type": "code",
   "execution_count": null,
   "id": "69c4e731",
   "metadata": {},
   "outputs": [],
   "source": [
    "import pandas as pd\n",
    "import numpy as np\n",
    "import seaborn as sns"
   ]
  },
  {
   "cell_type": "code",
   "execution_count": null,
   "id": "4a07dfdd",
   "metadata": {},
   "outputs": [],
   "source": [
    "# salary_1 이름으로 salary_1.csv 불러오기 (데이터 위치: 'data/salary_1.csv')\n",
    "salary_1 = pd.read_csv('~/data/salary_1.csv')"
   ]
  },
  {
   "cell_type": "code",
   "execution_count": null,
   "id": "e548450d",
   "metadata": {},
   "outputs": [],
   "source": [
    "salary_1"
   ]
  },
  {
   "cell_type": "code",
   "execution_count": null,
   "id": "14afa285",
   "metadata": {},
   "outputs": [],
   "source": [
    "salary_2 = pd.read_csv('~/data/salary_2.csv')"
   ]
  },
  {
   "cell_type": "code",
   "execution_count": null,
   "id": "365075fd",
   "metadata": {},
   "outputs": [],
   "source": [
    "salary_2"
   ]
  },
  {
   "cell_type": "code",
   "execution_count": null,
   "id": "9f547e2f",
   "metadata": {},
   "outputs": [],
   "source": [
    "# salary_1 과 salary_2를 위/아래로 붙이고, salary_df 이름으로 저장하기\n",
    "salary_df = pd.concat([salary_1, salary_2])"
   ]
  },
  {
   "cell_type": "code",
   "execution_count": null,
   "id": "7e0073d1",
   "metadata": {},
   "outputs": [],
   "source": [
    "salary_df"
   ]
  },
  {
   "cell_type": "code",
   "execution_count": null,
   "id": "8b16f00f",
   "metadata": {},
   "outputs": [],
   "source": [
    "# salary_df의 결측치 비율 확인하기\n",
    "salary_df.isna().mean()"
   ]
  },
  {
   "cell_type": "code",
   "execution_count": null,
   "id": "183260a5",
   "metadata": {},
   "outputs": [],
   "source": [
    "# 결측치 행 제거하기\n",
    "salary_df =  salary_df.dropna()"
   ]
  },
  {
   "cell_type": "code",
   "execution_count": null,
   "id": "4b3df88e",
   "metadata": {},
   "outputs": [],
   "source": [
    "# Gender별 Salary의 평균(mean)을 구해 gender_salary 로 저장하기 \n",
    "gender_salary = salary_df.groupby('Gender')['Salary'].mean()"
   ]
  },
  {
   "cell_type": "code",
   "execution_count": null,
   "id": "c429380c",
   "metadata": {},
   "outputs": [],
   "source": [
    "# gender_salary의 인덱스(Gender)를 컬럼으로 전환하여 저장하기\n",
    "gender_salary =  gender_salary.reset_index()"
   ]
  },
  {
   "cell_type": "code",
   "execution_count": null,
   "id": "c6da2b13",
   "metadata": {},
   "outputs": [],
   "source": [
    "gender_salary"
   ]
  },
  {
   "cell_type": "code",
   "execution_count": null,
   "id": "efd5d79a",
   "metadata": {},
   "outputs": [],
   "source": [
    "# Gender를 기준으로 하여, salary_df에 gender_salary를 붙여서(left join) salary_df로 저장하기\n",
    "salary_df = salary_df.merge(gender_salary, on='Gender', how='left')"
   ]
  },
  {
   "cell_type": "code",
   "execution_count": null,
   "id": "b8e90805",
   "metadata": {},
   "outputs": [],
   "source": [
    "salary_df"
   ]
  },
  {
   "cell_type": "code",
   "execution_count": null,
   "id": "e415be2a",
   "metadata": {},
   "outputs": [],
   "source": [
    "# 컬럼이름 변경: \"Salary_x\"를 \"Salary\"로, \"Salary_y\"를 \"Gender_salary\"로 변경하여 저장\n",
    "salary_df = salary_df.rename({'Salary_x': 'Salary', 'Salary_y': 'Gender_salary'}, axis=1)"
   ]
  },
  {
   "cell_type": "code",
   "execution_count": null,
   "id": "1f1b3280",
   "metadata": {},
   "outputs": [],
   "source": [
    "# 다음 기준으로 Pivot Table 만들기 -> 행: Country, 열: Gender, 값: Years of Experience\n",
    "pd.pivot_table(salary_df, index='Country', columns='Gender', values='Years of Experience')"
   ]
  },
  {
   "cell_type": "code",
   "execution_count": null,
   "id": "23ad3b03",
   "metadata": {},
   "outputs": [],
   "source": [
    "# Salary 변수에 로그를 취하여 'Salary_log'로 저장하기\n",
    "salary_df['Salary_log'] = np.log(salary_df['Salary'])"
   ]
  },
  {
   "cell_type": "code",
   "execution_count": null,
   "id": "bb3b08ca",
   "metadata": {},
   "outputs": [],
   "source": [
    "# 변수 중 Data Type이 object인 변수들 제거하고 저장하기\n",
    "salary_df.info()"
   ]
  },
  {
   "cell_type": "code",
   "execution_count": null,
   "id": "b153cb17",
   "metadata": {},
   "outputs": [],
   "source": [
    "salary_df.drop(['Gender','Job Title','Country','Race'], axis=1, inplace=True)"
   ]
  },
  {
   "cell_type": "code",
   "execution_count": null,
   "id": "1774d7b7",
   "metadata": {},
   "outputs": [],
   "source": [
    "# RobustScaler 패키지 불러오기\n",
    "from sklearn.preprocessing import RobustScaler"
   ]
  },
  {
   "cell_type": "code",
   "execution_count": null,
   "id": "a38dc325",
   "metadata": {},
   "outputs": [],
   "source": [
    "rs = RobustScaler()"
   ]
  },
  {
   "cell_type": "code",
   "execution_count": null,
   "id": "a80b4d68",
   "metadata": {},
   "outputs": [],
   "source": [
    "rs.fit(salary_df)"
   ]
  },
  {
   "cell_type": "code",
   "execution_count": null,
   "id": "c65861b2",
   "metadata": {},
   "outputs": [],
   "source": [
    "rs_df = rs.transform(salary_df)"
   ]
  },
  {
   "cell_type": "code",
   "execution_count": null,
   "id": "2e488f83",
   "metadata": {},
   "outputs": [],
   "source": [
    "# rs_df를 Pandas DataFrame으로 변경하여 저장 (컬럼 이름도 기존 컬럼이름으로 채워넣기)\n",
    "rs_df =  pd.DataFrame(rs_df, columns= salary_df.columns)"
   ]
  },
  {
   "cell_type": "code",
   "execution_count": null,
   "id": "6b6f9284",
   "metadata": {},
   "outputs": [],
   "source": [
    "salary_df.columns"
   ]
  },
  {
   "cell_type": "code",
   "execution_count": null,
   "id": "6bb3e5fd",
   "metadata": {},
   "outputs": [],
   "source": [
    "# salary_df에서 주성분을 뽑을 경우, 최대로 뽑을 수 있는 주성분 개수는?\n",
    "salary_df.columns.nunique()"
   ]
  },
  {
   "cell_type": "code",
   "execution_count": null,
   "id": "a726aa66",
   "metadata": {},
   "outputs": [],
   "source": [
    "# PCA 패키지 불러오기\n",
    "from sklearn.decomposition import PCA"
   ]
  },
  {
   "cell_type": "code",
   "execution_count": null,
   "id": "0d036257",
   "metadata": {},
   "outputs": [],
   "source": [
    "# PCA를 사용하기 위해 pca 이름으로 저장: 2개의 주성분을 뽑을 수 있도록 설정\n",
    "pca = PCA(2)"
   ]
  },
  {
   "cell_type": "code",
   "execution_count": null,
   "id": "2e271792",
   "metadata": {},
   "outputs": [],
   "source": [
    "# pca로 salary_df를 학습 및 변환하여 pca_df로 저장\n",
    "pca_df =  pca.fit_transform(salary_df)"
   ]
  },
  {
   "cell_type": "code",
   "execution_count": null,
   "id": "e7f86184",
   "metadata": {},
   "outputs": [],
   "source": [
    "# pca_df를 Pandas DataFrame으로 변경하고, 각 컬럼이름을 PC1, PC2로 설정하여 pca_df로 저장\n",
    "pca_df = pd.DataFrame(pca_df, columns=['PC1','PC2'])"
   ]
  },
  {
   "cell_type": "code",
   "execution_count": null,
   "id": "781581d4",
   "metadata": {},
   "outputs": [],
   "source": [
    "# 추출된 두개의 주성분으로 기존 데이터 정보의 얼마만큼을 설명할 수 있는지 확인하는 코드 작성\n",
    "(pca.explained_variance_ratio_).sum()"
   ]
  },
  {
   "cell_type": "code",
   "execution_count": null,
   "id": "ac44c54e",
   "metadata": {},
   "outputs": [],
   "source": []
  }
 ],
 "metadata": {
  "kernelspec": {
   "display_name": "Python 3 (ipykernel)",
   "language": "python",
   "name": "python3"
  },
  "language_info": {
   "codemirror_mode": {
    "name": "ipython",
    "version": 3
   },
   "file_extension": ".py",
   "mimetype": "text/x-python",
   "name": "python",
   "nbconvert_exporter": "python",
   "pygments_lexer": "ipython3",
   "version": "3.9.7"
  }
 },
 "nbformat": 4,
 "nbformat_minor": 5
}
