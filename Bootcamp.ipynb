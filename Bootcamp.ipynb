{
  "nbformat": 4,
  "nbformat_minor": 0,
  "metadata": {
    "colab": {
      "provenance": [],
      "include_colab_link": true
    },
    "kernelspec": {
      "name": "python3",
      "display_name": "Python 3"
    },
    "language_info": {
      "name": "python"
    }
  },
  "cells": [
    {
      "cell_type": "markdown",
      "metadata": {
        "id": "view-in-github",
        "colab_type": "text"
      },
      "source": [
        "<a href=\"https://colab.research.google.com/github/Jean-yun/Aiffel_project/blob/main/Bootcamp.ipynb\" target=\"_parent\"><img src=\"https://colab.research.google.com/assets/colab-badge.svg\" alt=\"Open In Colab\"/></a>"
      ]
    },
    {
      "cell_type": "code",
      "source": [
        "import random\n",
        "import datetime\n",
        "\n",
        "def generate_transaction_id():  #거래 시마다 고유ID 생성\n",
        "  while True:\n",
        "    transaction_id = \"\".join(str(random.randint(0, 9)) for _ in range(9))\n",
        "    if transaction_id not in transactions:\n",
        "      return transaction_id\n",
        "transactions = set()   #수정하면 안되는 고유ID이므로 Tuple을 사용\n",
        "\n",
        "class Account:\n",
        "\n",
        "  def __init__(self,name,balance):\n",
        "    self.deposit_count = 0\n",
        "    self.deposit_log = []\n",
        "    self.withdraw_log = []\n",
        "\n",
        "    self.name = name\n",
        "    self.balance = balance\n",
        "    self.bankname = \"SC은행\"\n",
        "\n",
        "    num1 = random.randint(0,999)\n",
        "    num2 = random.randint(0,99)\n",
        "    num3 = random.randint(0,999999)\n",
        "\n",
        "    num1 = str(num1).zfill(3) #0값을 채움\n",
        "    num2 = str(num2).zfill(2)\n",
        "    num3 = str(num3).zfill(6)\n",
        "    self.account_number = num1 + '-' + num2 + '-' + num3\n",
        "\n",
        "  def deposit(self,amount):\n",
        "    if amount >= 1:\n",
        "      current_time = datetime.datetime.now() #현재 시간 Get\n",
        "      transaction_id = generate_transaction_id()\n",
        "      self.deposit_log.append((amount, current_time, transaction_id)) #금액과 시간 저장\n",
        "      self.balance += amount\n",
        "\n",
        "      self.deposit_count += 1\n",
        "      if self.deposit_count % 5 == 0:\n",
        "        self.balance = (self.balance * 1.01)\n",
        "\n",
        "  def withdraw(self,amount):\n",
        "    if self.balance > amount:\n",
        "      current_time = datetime.datetime.now() #현재 시간 Get\n",
        "      transaction_id = generate_transaction_id()\n",
        "      self.withdraw_log.append((amount,current_time, transaction_id)) #금액과 시간 저장\n",
        "      self.balance -= amount\n",
        "\n",
        "  def display_info(self):\n",
        "    print(\"은행이름: \", self.bankname,)\n",
        "    print(\"예금주: \", self.name)\n",
        "    print(\"계좌번호: \", self.account_number)\n",
        "    print(\"잔고: \", f\"{self.balance:,}\",\"원\")\n",
        "\n",
        "  def deposit_history(self):\n",
        "    for amount, time, transaction_id in self.deposit_log:\n",
        "      print(f\"Deposited {amount} at {time} (Transaction ID: {transaction_id})\")\n",
        "\n",
        "  def withdraw_history(self):\n",
        "    for amount, time, transaction_id in self.withdraw_log:\n",
        "      print(f\"Withdrew {amount} at {time} (Transaction ID: {transaction_id})\")\n",
        "\n",
        "  def all_history(self):\n",
        "    print(\"입금내역: \"),self.deposit_history()\n",
        "    print(\"출금내역: \"),self.withdraw_history()\n",
        "\n",
        "  def transfer(self, amount, recipient_account):  #타계좌로 이체하는 기능\n",
        "    if self.balance >= amount:\n",
        "      try:\n",
        "        recipient_account.deposit(amount)\n",
        "        self.withdraw(amount)\n",
        "        print(\"이체 완료!\")\n",
        "      except AttributeError:\n",
        "          print(\"입금자 계좌번호를 확인해주세요\")\n",
        "      else:\n",
        "        print(\"잔액이 부족합니다.\")\n",
        "lee = Account('파이썬',100)\n",
        "#print(lee.name)\n",
        "#print(lee.balance)\n",
        "#print(lee.bankname)\n",
        "print(lee.account_number)\n",
        "\n",
        "lee.deposit(100)\n",
        "lee.deposit(200)\n",
        "lee.deposit(200)\n",
        "lee.deposit(200)\n",
        "lee.deposit(200)\n",
        "#print(lee.balance)\n",
        "lee.deposit_history()\n",
        "lee.withdraw(500)\n",
        "lee.withdraw(10)\n",
        "lee.withdraw(5)\n",
        "lee.withdraw(20)\n",
        "#print(lee.balance)\n",
        "lee.withdraw_history()\n",
        "#lee.display_info()\n",
        "lee.all_history()\n",
        "\n",
        "account1 = Account(\"Alice\", 1000)\n",
        "account2 = Account(\"Bob\", 500)\n",
        "\n",
        "account1.transfer(200, account2)\n"
      ],
      "metadata": {
        "id": "F1LIaQ_PoKNv",
        "colab": {
          "base_uri": "https://localhost:8080/"
        },
        "outputId": "02637cac-43de-4f12-9b7c-1861a6f31f74"
      },
      "execution_count": null,
      "outputs": [
        {
          "output_type": "stream",
          "name": "stdout",
          "text": [
            "915-03-551442\n",
            "Deposited 100 at 2024-01-08 03:04:00.920377 (Transaction ID: 511543947)\n",
            "Deposited 200 at 2024-01-08 03:04:00.920427 (Transaction ID: 603596688)\n",
            "Deposited 200 at 2024-01-08 03:04:00.920462 (Transaction ID: 036790455)\n",
            "Deposited 200 at 2024-01-08 03:04:00.920495 (Transaction ID: 658090785)\n",
            "Deposited 200 at 2024-01-08 03:04:00.920527 (Transaction ID: 032790269)\n",
            "Withdrew 500 at 2024-01-08 03:04:00.923437 (Transaction ID: 199981338)\n",
            "Withdrew 10 at 2024-01-08 03:04:00.923496 (Transaction ID: 398822616)\n",
            "Withdrew 5 at 2024-01-08 03:04:00.923535 (Transaction ID: 762000193)\n",
            "Withdrew 20 at 2024-01-08 03:04:00.923569 (Transaction ID: 541964759)\n",
            "입금내역: \n",
            "Deposited 100 at 2024-01-08 03:04:00.920377 (Transaction ID: 511543947)\n",
            "Deposited 200 at 2024-01-08 03:04:00.920427 (Transaction ID: 603596688)\n",
            "Deposited 200 at 2024-01-08 03:04:00.920462 (Transaction ID: 036790455)\n",
            "Deposited 200 at 2024-01-08 03:04:00.920495 (Transaction ID: 658090785)\n",
            "Deposited 200 at 2024-01-08 03:04:00.920527 (Transaction ID: 032790269)\n",
            "출금내역: \n",
            "Withdrew 500 at 2024-01-08 03:04:00.923437 (Transaction ID: 199981338)\n",
            "Withdrew 10 at 2024-01-08 03:04:00.923496 (Transaction ID: 398822616)\n",
            "Withdrew 5 at 2024-01-08 03:04:00.923535 (Transaction ID: 762000193)\n",
            "Withdrew 20 at 2024-01-08 03:04:00.923569 (Transaction ID: 541964759)\n",
            "이체 완료!\n",
            "잔액이 부족합니다.\n"
          ]
        }
      ]
    },
    {
      "cell_type": "code",
      "source": [
        "lee.deposit_history()"
      ],
      "metadata": {
        "id": "ZXrdLkF8tber",
        "colab": {
          "base_uri": "https://localhost:8080/"
        },
        "outputId": "12af94d0-cf01-4163-d570-9cdd9cba9dd1"
      },
      "execution_count": null,
      "outputs": [
        {
          "output_type": "stream",
          "name": "stdout",
          "text": [
            "Deposited 100 at 2024-01-08 02:42:35.805673 (Transaction ID: 165815146)\n",
            "Deposited 200 at 2024-01-08 02:42:35.805722 (Transaction ID: 647985670)\n",
            "Deposited 200 at 2024-01-08 02:42:35.805755 (Transaction ID: 045258785)\n",
            "Deposited 200 at 2024-01-08 02:42:35.805785 (Transaction ID: 135629949)\n",
            "Deposited 200 at 2024-01-08 02:42:35.805816 (Transaction ID: 044026027)\n"
          ]
        }
      ]
    },
    {
      "cell_type": "code",
      "source": [],
      "metadata": {
        "id": "4tLaZH198-hY"
      },
      "execution_count": null,
      "outputs": []
    }
  ]
}