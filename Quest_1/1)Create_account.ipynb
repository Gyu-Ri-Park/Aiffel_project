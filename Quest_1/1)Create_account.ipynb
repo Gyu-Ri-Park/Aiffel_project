{
  "nbformat": 4,
  "nbformat_minor": 0,
  "metadata": {
    "colab": {
      "provenance": []
    },
    "kernelspec": {
      "name": "python3",
      "display_name": "Python 3"
    },
    "language_info": {
      "name": "python"
    }
  },
  "cells": [
    {
      "cell_type": "code",
      "source": [
        "import random\n",
        "import datetime"
      ],
      "metadata": {
        "id": "F1LIaQ_PoKNv"
      },
      "execution_count": 87,
      "outputs": []
    },
    {
      "cell_type": "code",
      "source": [
        "def generate_transaction_id():  #거래 시마다 고유ID 생성\n",
        "  while True:\n",
        "    transaction_id = \"\".join(str(random.randint(0, 9)) for _ in range(9))\n",
        "    if transaction_id not in transactions:\n",
        "      return transaction_id\n",
        "transactions = set()   #수정하면 안되는 고유ID이므로 Tuple을 사용"
      ],
      "metadata": {
        "id": "helFm-83krGn"
      },
      "execution_count": 88,
      "outputs": []
    },
    {
      "cell_type": "code",
      "source": [
        "class Account:\n",
        "\n",
        "  def __init__(self,name,balance):\n",
        "    self.deposit_count = 0\n",
        "    self.deposit_log = []\n",
        "    self.withdraw_log = []\n",
        "\n",
        "    self.name = name\n",
        "    self.balance = balance\n",
        "    self.bankname = \"SC은행\"\n",
        "\n",
        "    num1 = random.randint(0,999)\n",
        "    num2 = random.randint(0,99)\n",
        "    num3 = random.randint(0,999999)\n",
        "\n",
        "    num1 = str(num1).zfill(3) #0값을 채움\n",
        "    num2 = str(num2).zfill(2)\n",
        "    num3 = str(num3).zfill(6)\n",
        "    self.account_number = num1 + '-' + num2 + '-' + num3\n",
        "\n",
        "  def deposit(self,amount):\n",
        "    if amount >= 1:\n",
        "      current_time = datetime.datetime.now() #현재 시간 Get\n",
        "      transaction_id = generate_transaction_id()\n",
        "      self.deposit_log.append((amount, current_time, transaction_id)) #금액과 시간 저장\n",
        "      self.balance += amount\n",
        "\n",
        "      self.deposit_count += 1\n",
        "      if self.deposit_count % 5 == 0:\n",
        "        self.balance = (self.balance * 1.01)\n",
        "\n",
        "  def withdraw(self,amount):\n",
        "    if self.balance > amount:\n",
        "      current_time = datetime.datetime.now() #현재 시간 Get\n",
        "      transaction_id = generate_transaction_id()\n",
        "      self.withdraw_log.append((amount,current_time, transaction_id)) #금액과 시간 저장\n",
        "      self.balance -= amount\n",
        "\n",
        "  def display_info(self):\n",
        "    print(\"은행이름: \", self.bankname,)\n",
        "    print(\"예금주: \", self.name)\n",
        "    print(\"계좌번호: \", self.account_number)\n",
        "    print(\"잔고: \", f\"{self.balance:,}\",\"원\")\n",
        "\n",
        "  def deposit_history(self):\n",
        "    for amount, time, transaction_id in self.deposit_log:\n",
        "      print(f\"Deposited {amount} at {time} (Transaction ID: {transaction_id})\")\n",
        "\n",
        "  def withdraw_history(self):\n",
        "    for amount, time, transaction_id in self.withdraw_log:\n",
        "      print(f\"Withdrew {amount} at {time} (Transaction ID: {transaction_id})\")\n",
        "\n",
        "  def all_history(self):\n",
        "    print(\"입금내역: \"),self.deposit_history()\n",
        "    print(\"출금내역: \"),self.withdraw_history()\n",
        "\n",
        "  def transfer(self, amount, recipient_account):  #타계좌로 이체하는 기능\n",
        "    if self.balance >= amount:\n",
        "      try:\n",
        "        recipient_account.deposit(amount)\n",
        "        self.withdraw(amount)\n",
        "        print(\"이체 완료!\")\n",
        "      except AttributeError:\n",
        "          print(\"입금자 계좌번호를 확인해주세요\")\n",
        "    else:\n",
        "      print(\"잔액이 부족합니다.\")\n",
        "\n",
        "lee = Account('파이썬',100)\n"
      ],
      "metadata": {
        "id": "4tLaZH198-hY"
      },
      "execution_count": 93,
      "outputs": []
    },
    {
      "cell_type": "code",
      "source": [
        "print(lee.name)\n",
        "print(lee.balance)\n",
        "print(lee.bankname)\n",
        "print(lee.account_number)"
      ],
      "metadata": {
        "colab": {
          "base_uri": "https://localhost:8080/"
        },
        "id": "YeLeAThElY67",
        "outputId": "3dc1d2ec-dcf1-44ab-a228-dffae2cc0005"
      },
      "execution_count": 94,
      "outputs": [
        {
          "output_type": "stream",
          "name": "stdout",
          "text": [
            "파이썬\n",
            "100\n",
            "SC은행\n",
            "628-60-381133\n"
          ]
        }
      ]
    },
    {
      "cell_type": "code",
      "source": [
        "lee.deposit(100)\n",
        "lee.deposit(200)\n",
        "lee.deposit(200)\n",
        "lee.deposit(200)\n",
        "lee.deposit(200)\n",
        "\n",
        "print(lee.balance)"
      ],
      "metadata": {
        "colab": {
          "base_uri": "https://localhost:8080/"
        },
        "id": "NQGOXHlEk0SE",
        "outputId": "8b78da3c-73e9-40fa-b23f-80fceb922743"
      },
      "execution_count": 95,
      "outputs": [
        {
          "output_type": "stream",
          "name": "stdout",
          "text": [
            "1010.0\n"
          ]
        }
      ]
    },
    {
      "cell_type": "code",
      "source": [
        "lee.deposit_history()"
      ],
      "metadata": {
        "colab": {
          "base_uri": "https://localhost:8080/"
        },
        "id": "MC1SmAJylPEZ",
        "outputId": "64435b0d-1490-428e-fedf-5a95ddae7233"
      },
      "execution_count": 97,
      "outputs": [
        {
          "output_type": "stream",
          "name": "stdout",
          "text": [
            "Deposited 100 at 2024-01-08 05:42:44.240640 (Transaction ID: 070199695)\n",
            "Deposited 200 at 2024-01-08 05:42:44.240723 (Transaction ID: 516387998)\n",
            "Deposited 200 at 2024-01-08 05:42:44.240767 (Transaction ID: 879979724)\n",
            "Deposited 200 at 2024-01-08 05:42:44.240807 (Transaction ID: 849698444)\n",
            "Deposited 200 at 2024-01-08 05:42:44.240843 (Transaction ID: 090775387)\n"
          ]
        }
      ]
    },
    {
      "cell_type": "code",
      "source": [
        "lee.withdraw(500)\n",
        "lee.withdraw(10)\n",
        "lee.withdraw(5)\n",
        "lee.withdraw(20)\n",
        "\n",
        "print(lee.balance)"
      ],
      "metadata": {
        "colab": {
          "base_uri": "https://localhost:8080/"
        },
        "id": "vRP4bt0ZmG6Z",
        "outputId": "20c80f74-4d72-4c0f-9267-85916c7578f7"
      },
      "execution_count": 98,
      "outputs": [
        {
          "output_type": "stream",
          "name": "stdout",
          "text": [
            "440.0\n"
          ]
        }
      ]
    },
    {
      "cell_type": "code",
      "source": [
        "lee.withdraw_history()"
      ],
      "metadata": {
        "colab": {
          "base_uri": "https://localhost:8080/"
        },
        "id": "L-seP0-NlQOF",
        "outputId": "094e01dc-9fd4-435d-92d2-9712adcd6445"
      },
      "execution_count": 99,
      "outputs": [
        {
          "output_type": "stream",
          "name": "stdout",
          "text": [
            "Withdrew 500 at 2024-01-08 05:42:48.793558 (Transaction ID: 375266015)\n",
            "Withdrew 10 at 2024-01-08 05:42:48.793674 (Transaction ID: 048046055)\n",
            "Withdrew 5 at 2024-01-08 05:42:48.793753 (Transaction ID: 490315112)\n",
            "Withdrew 20 at 2024-01-08 05:42:48.793826 (Transaction ID: 469530289)\n",
            "Withdrew 10 at 2024-01-08 05:42:59.904199 (Transaction ID: 544668713)\n",
            "Withdrew 5 at 2024-01-08 05:42:59.904275 (Transaction ID: 639093336)\n",
            "Withdrew 20 at 2024-01-08 05:42:59.904316 (Transaction ID: 639245047)\n"
          ]
        }
      ]
    },
    {
      "cell_type": "code",
      "source": [
        "lee.display_info()"
      ],
      "metadata": {
        "colab": {
          "base_uri": "https://localhost:8080/"
        },
        "id": "Z0El7dDdmJ1Y",
        "outputId": "e88cfcb9-2499-43f9-850b-28a04295a17f"
      },
      "execution_count": 100,
      "outputs": [
        {
          "output_type": "stream",
          "name": "stdout",
          "text": [
            "은행이름:  SC은행\n",
            "예금주:  파이썬\n",
            "계좌번호:  628-60-381133\n",
            "잔고:  440.0 원\n"
          ]
        }
      ]
    },
    {
      "cell_type": "code",
      "source": [
        "lee.all_history()"
      ],
      "metadata": {
        "colab": {
          "base_uri": "https://localhost:8080/"
        },
        "id": "VLDylbJDmKUX",
        "outputId": "cc279e12-cff1-4f27-ec5c-4e25dc829ed0"
      },
      "execution_count": 101,
      "outputs": [
        {
          "output_type": "stream",
          "name": "stdout",
          "text": [
            "입금내역: \n",
            "Deposited 100 at 2024-01-08 05:42:44.240640 (Transaction ID: 070199695)\n",
            "Deposited 200 at 2024-01-08 05:42:44.240723 (Transaction ID: 516387998)\n",
            "Deposited 200 at 2024-01-08 05:42:44.240767 (Transaction ID: 879979724)\n",
            "Deposited 200 at 2024-01-08 05:42:44.240807 (Transaction ID: 849698444)\n",
            "Deposited 200 at 2024-01-08 05:42:44.240843 (Transaction ID: 090775387)\n",
            "출금내역: \n",
            "Withdrew 500 at 2024-01-08 05:42:48.793558 (Transaction ID: 375266015)\n",
            "Withdrew 10 at 2024-01-08 05:42:48.793674 (Transaction ID: 048046055)\n",
            "Withdrew 5 at 2024-01-08 05:42:48.793753 (Transaction ID: 490315112)\n",
            "Withdrew 20 at 2024-01-08 05:42:48.793826 (Transaction ID: 469530289)\n",
            "Withdrew 10 at 2024-01-08 05:42:59.904199 (Transaction ID: 544668713)\n",
            "Withdrew 5 at 2024-01-08 05:42:59.904275 (Transaction ID: 639093336)\n",
            "Withdrew 20 at 2024-01-08 05:42:59.904316 (Transaction ID: 639245047)\n"
          ]
        }
      ]
    },
    {
      "cell_type": "code",
      "source": [
        "account1 = Account(\"Alice\", 1000)\n",
        "account2 = Account(\"Bob\", 500)\n",
        "\n",
        "account1.transfer(200, account2)\n"
      ],
      "metadata": {
        "colab": {
          "base_uri": "https://localhost:8080/"
        },
        "id": "wIXRHGS1k4B8",
        "outputId": "788e7f87-611d-4861-9492-92d5c58cc0c3"
      },
      "execution_count": 102,
      "outputs": [
        {
          "output_type": "stream",
          "name": "stdout",
          "text": [
            "이체 완료!\n"
          ]
        }
      ]
    },
    {
      "cell_type": "markdown",
      "source": [
        "##회고 :\n",
        "\n",
        "*배운점 :  \n",
        "\n",
        "1)클래스의 기능들을 다시 한 번 리뷰했다  \n",
        "\n",
        "2)zfill, set, f\"{}\", join, datetime 과 같은 새로운 기능을 배우고 활용할 수 있었다  \n",
        "\n",
        "\n",
        "*아쉬운점:  \n",
        "\n",
        "1)코드를 짜면서 새로운 명령어를 숙지할 필요가 있어 각자 찾아보는 시간이 필요했다  \n",
        "\n",
        "\n",
        "*느낀점:  \n",
        "\n",
        "1)동료와 함께 코드를 짜며 서로 아는 지식을 같이 쌓아가는 것이 좋았다\n"
      ],
      "metadata": {
        "id": "FVpyng_vmSXw"
      }
    },
    {
      "cell_type": "code",
      "source": [],
      "metadata": {
        "id": "OUhZjdd1muCN"
      },
      "execution_count": null,
      "outputs": []
    }
  ]
}
