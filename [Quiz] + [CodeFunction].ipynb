{
 "cells": [
  {
   "cell_type": "code",
   "execution_count": 1,
   "id": "7de2f0d4",
   "metadata": {},
   "outputs": [],
   "source": [
    "import pandas as pd\n",
    "import numpy as np\n",
    "import seaborn as sns"
   ]
  },
  {
   "cell_type": "markdown",
   "id": "c84456da",
   "metadata": {},
   "source": [
    "# 1. 이상치, 결측치 처리"
   ]
  },
  {
   "cell_type": "code",
   "execution_count": 2,
   "id": "a8647b96",
   "metadata": {},
   "outputs": [],
   "source": [
    "# dating_df 이름으로 data/dating.csv 불러오기\n",
    "dating_df = pd.read_csv('~/data/dating.csv')"
   ]
  },
  {
   "cell_type": "code",
   "execution_count": 3,
   "id": "7080bbb4",
   "metadata": {},
   "outputs": [],
   "source": [
    "# 6가지 평가항목에 대해 아래와 같이 컬럼이름 변경 (평가항목: attractive, sincere, intelligence, funny, ambitious, shared_interests)\n",
    "# 예: \"pref_o_attractive\" --> \"o_important_attractive\"\n",
    "#     \"attractive_o\" --> \"o_score_attractive\"\n",
    "#     \"attractive_important\" --> \"i_important_attractive\"\n",
    "#     \"attractive_partner\" --> \"i_score_attractive\"\n",
    "\n",
    "new_cols = []\n",
    "\n",
    "for i in dating_df.columns:\n",
    "    if i.startswith('pref_o_'):\n",
    "        i = i.replace('pref_o_', 'o_important_')\n",
    "    elif i.endswith('_o'):\n",
    "        i = 'o_score_' + i.replace('_o','')\n",
    "    elif i.endswith('_important'):\n",
    "        i = 'i_important_' + i.replace('_important', '')\n",
    "    elif i.endswith('_partner'):\n",
    "        i = 'i_score_' + i.replace('_partner','')\n",
    "    new_cols.append(i)\n",
    "\n",
    "\n",
    "dating_df.columns = new_cols"
   ]
  },
  {
   "cell_type": "code",
   "execution_count": 4,
   "id": "b855f41f",
   "metadata": {},
   "outputs": [],
   "source": [
    "# 6가지 평가 항목 이외의 컬럼이름이 변경된 경우, 기존 이름으로 변경\n",
    "dating_df = dating_df.rename({'o_score_race': 'race_o', 'o_score_age':'age_o'}, axis=1)"
   ]
  },
  {
   "cell_type": "code",
   "execution_count": 5,
   "id": "f5f4c63b",
   "metadata": {},
   "outputs": [],
   "source": [
    "# \"o_important_\"와 \"i_important_\"로 시작되는 컬럼이름을 drop_cols라는 이름의 리스트에 모으기\n",
    "drop_cols = []\n",
    "\n",
    "for i in dating_df.columns:\n",
    "    if i.startswith('o_important_'):\n",
    "        drop_cols.append(i)\n",
    "    elif i.startswith('i_important_'):\n",
    "        drop_cols.append(i)"
   ]
  },
  {
   "cell_type": "code",
   "execution_count": 6,
   "id": "c0ca63e5",
   "metadata": {},
   "outputs": [],
   "source": [
    "# drop_cols에 속해있는 변수들의 결측치 행들을 제거하고 dating_df로 저장   \n",
    "dating_df = dating_df.dropna(subset = drop_cols)"
   ]
  },
  {
   "cell_type": "code",
   "execution_count": 7,
   "id": "5ed1db5c",
   "metadata": {},
   "outputs": [],
   "source": [
    "# 나머지 결측치를 -99로 채우고 dating_df로 저장\n",
    "dating_df = dating_df.fillna(-99)"
   ]
  },
  {
   "cell_type": "markdown",
   "id": "5faa1d25",
   "metadata": {},
   "source": [
    "# 2. 이상치 처리"
   ]
  },
  {
   "cell_type": "code",
   "execution_count": 8,
   "id": "c4f3f4e5",
   "metadata": {},
   "outputs": [],
   "source": [
    "# \"o_score_\", \"i_score_\"로 시작되는 변수 중, 10점 이상인 값은 10으로 대체(lambda 함수 활용하기)\n",
    "dating_df['o_score_attractive'] = dating_df['o_score_attractive'].apply(lambda x: 10 if x>10 else x)\n",
    "dating_df['o_score_funny'] = dating_df['o_score_funny'].apply(lambda x: 10 if x>10 else x)"
   ]
  },
  {
   "cell_type": "code",
   "execution_count": 9,
   "id": "90c04df4",
   "metadata": {},
   "outputs": [],
   "source": [
    "# \"o_important_\", \"i_important\"로 시작되는 각각의 6항목의 합은 100이 되어야한다. \n",
    "# 합이 100이 아닌 행들을 찾아 가중치를 부여하여 합이 100이 되도록 만들어보자.\n",
    "\n",
    "# o_important로 시작하는 변수 모으기\n",
    "o_imp = []\n",
    "\n",
    "for i in dating_df.columns:\n",
    "    if i.startswith('o_important'):\n",
    "        o_imp.append(i)\n",
    "\n",
    "# o_important로 시작하는 변수들의 합 구하기           \n",
    "dating_df['o_imp_sum'] = dating_df[o_imp].sum(axis=1)\n",
    "\n",
    "# i_important로 시작하는 변수 모으기\n",
    "i_imp = []\n",
    "\n",
    "for i in dating_df.columns:\n",
    "     if i.startswith('i_important'):\n",
    "         i_imp.append(i)\n",
    "        \n",
    "# i_important로 시작하는 변수들의 합 구하기        \n",
    "dating_df['i_imp_sum'] = dating_df[i_imp].sum(axis=1)\n",
    "\n",
    "# 가중치 부여하여 업데이트하기\n",
    "dating_df[o_imp] = dating_df.apply(lambda x: (100/ x['o_imp_sum']) * x[o_imp], axis =1)\n",
    "dating_df[i_imp] = dating_df.apply(lambda x: (100/ x['i_imp_sum']) * x[i_imp], axis =1)\n",
    "\n",
    "# 불필요 컬럼 제거\n",
    "dating_df.drop(['o_imp_sum','i_imp_sum'], axis=1, inplace = True)"
   ]
  },
  {
   "cell_type": "markdown",
   "id": "10f22462",
   "metadata": {},
   "source": [
    "# 3. Feature Engineering"
   ]
  },
  {
   "cell_type": "code",
   "execution_count": 10,
   "id": "47f8ee3d",
   "metadata": {},
   "outputs": [],
   "source": [
    "# \"남자의 나이-여자의 나이\" 를 구하는 함수를 age_func 이름으로 만들기 (나이에 -99가 있는 경우는 -99를 return)\n",
    "def age_func(x):\n",
    "    if x['age'] == -99:\n",
    "        return -99\n",
    "    elif x['age_o'] == -99:\n",
    "        return -99\n",
    "    elif x['gender'] == 'female':\n",
    "        return x['age_o'] - x['age']\n",
    "    else:\n",
    "        return x['age'] - x['age_o']"
   ]
  },
  {
   "cell_type": "code",
   "execution_count": 11,
   "id": "bae94a9f",
   "metadata": {},
   "outputs": [],
   "source": [
    "# dating_df를 age_func 함수에 적용시키고, 결과를 \"age_gap\" 이름의 새 변수로 저장\n",
    "dating_df['age_gap'] = dating_df.apply(age_func, axis=1)"
   ]
  },
  {
   "cell_type": "code",
   "execution_count": 12,
   "id": "0f461fce",
   "metadata": {},
   "outputs": [],
   "source": [
    "# \"age_gap\"변수가 음수인 경우는 'negative', 양수인 경우 'positive', 0인 경우 'zero'의 값으로 \"age_gap_dir\"이라는 새변수로 저장\n",
    "dating_df['age_gap_dir'] = dating_df['age_gap'].apply(lambda x : 'positive' if x>0 else 'negative' if x<0 else 'zero')"
   ]
  },
  {
   "cell_type": "code",
   "execution_count": 13,
   "id": "e6867e61",
   "metadata": {},
   "outputs": [],
   "source": [
    "# \"age_gap\" 변수를 절대값 처리하여 같은 이름으로 저장\n",
    "dating_df['age_gap'] = abs(dating_df['age_gap'])"
   ]
  },
  {
   "cell_type": "code",
   "execution_count": 14,
   "id": "09092f61",
   "metadata": {},
   "outputs": [],
   "source": [
    "# 양측 race 정보의 동일 여부를 비교하여, 동일할 경우 1, 다를 경우 -1로 \"same_race\"라는 새변수로 저장\n",
    "dating_df['same_race'] = (dating_df['race'] == dating_df['race_o']).astype(int).replace({0:-1})"
   ]
  },
  {
   "cell_type": "code",
   "execution_count": 15,
   "id": "52c6c298",
   "metadata": {},
   "outputs": [],
   "source": [
    "# \"same_race\"와 \"importance_same_race\" 변수를 곱하여 \"same_race_point\"라는 새변수로 저장\n",
    "dating_df['same_race_point'] = dating_df['same_race'] * dating_df['importance_same_race']"
   ]
  },
  {
   "cell_type": "code",
   "execution_count": 16,
   "id": "b2075d77",
   "metadata": {},
   "outputs": [],
   "source": [
    "# \"o_important\", \"o_score\", \"i_important\", \"i_score\"로 시작하는 변수 이름을 각각의 리스트로 저장\n",
    "o_important = []\n",
    "o_score = []\n",
    "i_important = []\n",
    "i_score = []\n",
    "\n",
    "for i in dating_df.columns:\n",
    "    if i.startswith('o_important'):\n",
    "        o_important.append(i)\n",
    "    elif i.startswith('o_score'):\n",
    "        o_score.append(i)\n",
    "    elif i.startswith('i_important'):\n",
    "        i_important.append(i)\n",
    "    elif i.startswith('i_score'):\n",
    "        i_score.append(i) "
   ]
  },
  {
   "cell_type": "code",
   "execution_count": 17,
   "id": "30a073c9",
   "metadata": {},
   "outputs": [],
   "source": [
    "# \"o_important\", \"i_important\"로 시작하는 변수에서 0인 값을 -99로 변경하여 저장\n",
    "dating_df[o_important] = dating_df[o_important].replace({0: -99})\n",
    "dating_df[i_important] = dating_df[i_important].replace({0: -99})"
   ]
  },
  {
   "cell_type": "code",
   "execution_count": 18,
   "id": "f4294f8d",
   "metadata": {},
   "outputs": [],
   "source": [
    "# rating 함수 만들기: important항목과 score 항목을 곱하되, -99가 들어있는 경우는 -99가 return되도록 정의\n",
    "def rating(data, important, score):\n",
    "    if data[score] == -99:\n",
    "        return -99\n",
    "    elif data[important] == -99:\n",
    "        return -99\n",
    "    else:\n",
    "        return data[important] * data[score]"
   ]
  },
  {
   "cell_type": "code",
   "execution_count": 19,
   "id": "1d4e84cf",
   "metadata": {},
   "outputs": [],
   "source": [
    "# 계산된 rating에 대한 컬럼 이름 설정    \n",
    "o_rating = ['o_rating_attractive',\n",
    " 'o_rating_sincere',\n",
    " 'o_rating_intellicence',\n",
    " 'o_rating_funny',\n",
    " 'o_rating_ambtition',\n",
    " 'o_rating_shared_interests']\n",
    "\n",
    "i_rating = ['i_rating_attractive',\n",
    " 'i_rating_sincere',\n",
    " 'i_rating_intellicence',\n",
    " 'i_rating_funny',\n",
    " 'i_rating_ambtition',\n",
    " 'i_rating_shared_interests']"
   ]
  },
  {
   "cell_type": "code",
   "execution_count": 20,
   "id": "aa8e569f",
   "metadata": {},
   "outputs": [],
   "source": [
    "# rating함수를 통해 \"나\"의 rating 값과 \"상대\"의 rating 값을 각각 계산하고 위에 정의된 이름의 변수로 저장 (for loop와 zip을 사용)\n",
    "for i, j, k in zip(o_important, o_score, o_rating):\n",
    "     dating_df[k] = dating_df.apply(lambda x: rating(x,i,j), axis=1)\n",
    "        \n",
    "for i, j, k in zip(i_important, i_score, i_rating):\n",
    "     dating_df[k] = dating_df.apply(lambda x: rating(x,i,j), axis=1)"
   ]
  },
  {
   "cell_type": "markdown",
   "id": "e7bedf65",
   "metadata": {},
   "source": [
    "# [심화] Code Function"
   ]
  },
  {
   "cell_type": "markdown",
   "id": "a09a367b",
   "metadata": {},
   "source": [
    "function을 파일로 저장하기"
   ]
  },
  {
   "cell_type": "code",
   "execution_count": 1,
   "id": "7ec3ad5e",
   "metadata": {},
   "outputs": [],
   "source": [
    "def add_ten(x):\n",
    "    return x + 10"
   ]
  },
  {
   "cell_type": "code",
   "execution_count": 2,
   "id": "b1b631d5",
   "metadata": {},
   "outputs": [
    {
     "data": {
      "text/plain": [
       "11"
      ]
     },
     "execution_count": 2,
     "metadata": {},
     "output_type": "execute_result"
    }
   ],
   "source": [
    "add_ten(1)"
   ]
  },
  {
   "cell_type": "code",
   "execution_count": 4,
   "id": "2d24d1d8",
   "metadata": {},
   "outputs": [],
   "source": [
    "script = \"\"\"\n",
    "def add_ten(x):\n",
    "    return x + 10\n",
    "\"\"\""
   ]
  },
  {
   "cell_type": "code",
   "execution_count": 5,
   "id": "2933b39b",
   "metadata": {},
   "outputs": [
    {
     "data": {
      "text/plain": [
       "'\\ndef add_ten(x):\\n    return x + 10\\n'"
      ]
     },
     "execution_count": 5,
     "metadata": {},
     "output_type": "execute_result"
    }
   ],
   "source": [
    "script"
   ]
  },
  {
   "cell_type": "code",
   "execution_count": 12,
   "id": "7a55fa89",
   "metadata": {},
   "outputs": [],
   "source": [
    "filename = './src/add_ten.py'"
   ]
  },
  {
   "cell_type": "code",
   "execution_count": 13,
   "id": "4a0a4fab",
   "metadata": {},
   "outputs": [
    {
     "ename": "FileNotFoundError",
     "evalue": "[Errno 2] No such file or directory: './src/add_ten.py'",
     "output_type": "error",
     "traceback": [
      "\u001b[0;31m---------------------------------------------------------------------------\u001b[0m",
      "\u001b[0;31mFileNotFoundError\u001b[0m                         Traceback (most recent call last)",
      "\u001b[0;32m/tmp/ipykernel_110/684355095.py\u001b[0m in \u001b[0;36m<module>\u001b[0;34m\u001b[0m\n\u001b[0;32m----> 1\u001b[0;31m \u001b[0;32mwith\u001b[0m \u001b[0mopen\u001b[0m\u001b[0;34m(\u001b[0m\u001b[0mfilename\u001b[0m\u001b[0;34m,\u001b[0m \u001b[0;34m'w'\u001b[0m\u001b[0;34m)\u001b[0m \u001b[0;32mas\u001b[0m \u001b[0mfile\u001b[0m\u001b[0;34m:\u001b[0m\u001b[0;34m\u001b[0m\u001b[0;34m\u001b[0m\u001b[0m\n\u001b[0m\u001b[1;32m      2\u001b[0m     \u001b[0mfile\u001b[0m\u001b[0;34m.\u001b[0m\u001b[0mwrite\u001b[0m\u001b[0;34m(\u001b[0m\u001b[0mscript\u001b[0m\u001b[0;34m)\u001b[0m\u001b[0;34m\u001b[0m\u001b[0;34m\u001b[0m\u001b[0m\n",
      "\u001b[0;31mFileNotFoundError\u001b[0m: [Errno 2] No such file or directory: './src/add_ten.py'"
     ]
    }
   ],
   "source": [
    "with open(filename, 'w') as file:\n",
    "    file.write(script)"
   ]
  },
  {
   "cell_type": "code",
   "execution_count": 14,
   "id": "f7ed1f43",
   "metadata": {},
   "outputs": [],
   "source": [
    "import sys"
   ]
  },
  {
   "cell_type": "code",
   "execution_count": 15,
   "id": "6b853dff",
   "metadata": {},
   "outputs": [],
   "source": [
    "sys.path.append('./src')"
   ]
  },
  {
   "cell_type": "code",
   "execution_count": 16,
   "id": "355fbf1e",
   "metadata": {},
   "outputs": [
    {
     "ename": "ModuleNotFoundError",
     "evalue": "No module named 'add_ten'",
     "output_type": "error",
     "traceback": [
      "\u001b[0;31m---------------------------------------------------------------------------\u001b[0m",
      "\u001b[0;31mModuleNotFoundError\u001b[0m                       Traceback (most recent call last)",
      "\u001b[0;32m/tmp/ipykernel_110/626050723.py\u001b[0m in \u001b[0;36m<module>\u001b[0;34m\u001b[0m\n\u001b[0;32m----> 1\u001b[0;31m \u001b[0;32mfrom\u001b[0m \u001b[0madd_ten\u001b[0m \u001b[0;32mimport\u001b[0m \u001b[0madd_ten\u001b[0m\u001b[0;34m\u001b[0m\u001b[0;34m\u001b[0m\u001b[0m\n\u001b[0m",
      "\u001b[0;31mModuleNotFoundError\u001b[0m: No module named 'add_ten'"
     ]
    }
   ],
   "source": [
    "from add_ten import add_ten"
   ]
  },
  {
   "cell_type": "code",
   "execution_count": 17,
   "id": "6ed0a024",
   "metadata": {},
   "outputs": [
    {
     "data": {
      "text/plain": [
       "13"
      ]
     },
     "execution_count": 17,
     "metadata": {},
     "output_type": "execute_result"
    }
   ],
   "source": [
    "add_ten(3)"
   ]
  }
 ],
 "metadata": {
  "kernelspec": {
   "display_name": "Python 3 (ipykernel)",
   "language": "python",
   "name": "python3"
  },
  "language_info": {
   "codemirror_mode": {
    "name": "ipython",
    "version": 3
   },
   "file_extension": ".py",
   "mimetype": "text/x-python",
   "name": "python",
   "nbconvert_exporter": "python",
   "pygments_lexer": "ipython3",
   "version": "3.9.7"
  }
 },
 "nbformat": 4,
 "nbformat_minor": 5
}
