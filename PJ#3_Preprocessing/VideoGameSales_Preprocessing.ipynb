{
 "cells": [
  {
   "cell_type": "markdown",
   "id": "0b9e0ae9",
   "metadata": {},
   "source": [
    "# Purpose  \n",
    "   \n",
    "Preprocess Video Sales data from Kaggle \n"
   ]
  },
  {
   "cell_type": "code",
   "execution_count": 6,
   "id": "5a0b5704",
   "metadata": {},
   "outputs": [],
   "source": [
    "import pandas as pd\n",
    "import numpy as np\n",
    "import seaborn as sns\n",
    "import matplotlib.pyplot as plt\n"
   ]
  },
  {
   "cell_type": "code",
   "execution_count": 7,
   "id": "4c87d0f4",
   "metadata": {
    "scrolled": true
   },
   "outputs": [
    {
     "data": {
      "text/html": [
       "<div>\n",
       "<style scoped>\n",
       "    .dataframe tbody tr th:only-of-type {\n",
       "        vertical-align: middle;\n",
       "    }\n",
       "\n",
       "    .dataframe tbody tr th {\n",
       "        vertical-align: top;\n",
       "    }\n",
       "\n",
       "    .dataframe thead th {\n",
       "        text-align: right;\n",
       "    }\n",
       "</style>\n",
       "<table border=\"1\" class=\"dataframe\">\n",
       "  <thead>\n",
       "    <tr style=\"text-align: right;\">\n",
       "      <th></th>\n",
       "      <th>Rank</th>\n",
       "      <th>Name</th>\n",
       "      <th>Platform</th>\n",
       "      <th>Year</th>\n",
       "      <th>Genre</th>\n",
       "      <th>Publisher</th>\n",
       "      <th>NA_Sales</th>\n",
       "      <th>EU_Sales</th>\n",
       "      <th>JP_Sales</th>\n",
       "      <th>Other_Sales</th>\n",
       "      <th>Global_Sales</th>\n",
       "    </tr>\n",
       "  </thead>\n",
       "  <tbody>\n",
       "    <tr>\n",
       "      <th>0</th>\n",
       "      <td>1</td>\n",
       "      <td>Wii Sports</td>\n",
       "      <td>Wii</td>\n",
       "      <td>2006.0</td>\n",
       "      <td>Sports</td>\n",
       "      <td>Nintendo</td>\n",
       "      <td>41.49</td>\n",
       "      <td>29.02</td>\n",
       "      <td>3.77</td>\n",
       "      <td>8.46</td>\n",
       "      <td>82.74</td>\n",
       "    </tr>\n",
       "    <tr>\n",
       "      <th>1</th>\n",
       "      <td>2</td>\n",
       "      <td>Super Mario Bros.</td>\n",
       "      <td>NES</td>\n",
       "      <td>1985.0</td>\n",
       "      <td>Platform</td>\n",
       "      <td>Nintendo</td>\n",
       "      <td>29.08</td>\n",
       "      <td>3.58</td>\n",
       "      <td>6.81</td>\n",
       "      <td>0.77</td>\n",
       "      <td>40.24</td>\n",
       "    </tr>\n",
       "    <tr>\n",
       "      <th>2</th>\n",
       "      <td>3</td>\n",
       "      <td>Mario Kart Wii</td>\n",
       "      <td>Wii</td>\n",
       "      <td>2008.0</td>\n",
       "      <td>Racing</td>\n",
       "      <td>Nintendo</td>\n",
       "      <td>15.85</td>\n",
       "      <td>12.88</td>\n",
       "      <td>3.79</td>\n",
       "      <td>3.31</td>\n",
       "      <td>35.82</td>\n",
       "    </tr>\n",
       "    <tr>\n",
       "      <th>3</th>\n",
       "      <td>4</td>\n",
       "      <td>Wii Sports Resort</td>\n",
       "      <td>Wii</td>\n",
       "      <td>2009.0</td>\n",
       "      <td>Sports</td>\n",
       "      <td>Nintendo</td>\n",
       "      <td>15.75</td>\n",
       "      <td>11.01</td>\n",
       "      <td>3.28</td>\n",
       "      <td>2.96</td>\n",
       "      <td>33.00</td>\n",
       "    </tr>\n",
       "    <tr>\n",
       "      <th>4</th>\n",
       "      <td>5</td>\n",
       "      <td>Pokemon Red/Pokemon Blue</td>\n",
       "      <td>GB</td>\n",
       "      <td>1996.0</td>\n",
       "      <td>Role-Playing</td>\n",
       "      <td>Nintendo</td>\n",
       "      <td>11.27</td>\n",
       "      <td>8.89</td>\n",
       "      <td>10.22</td>\n",
       "      <td>1.00</td>\n",
       "      <td>31.37</td>\n",
       "    </tr>\n",
       "  </tbody>\n",
       "</table>\n",
       "</div>"
      ],
      "text/plain": [
       "   Rank                      Name Platform    Year         Genre Publisher  \\\n",
       "0     1                Wii Sports      Wii  2006.0        Sports  Nintendo   \n",
       "1     2         Super Mario Bros.      NES  1985.0      Platform  Nintendo   \n",
       "2     3            Mario Kart Wii      Wii  2008.0        Racing  Nintendo   \n",
       "3     4         Wii Sports Resort      Wii  2009.0        Sports  Nintendo   \n",
       "4     5  Pokemon Red/Pokemon Blue       GB  1996.0  Role-Playing  Nintendo   \n",
       "\n",
       "   NA_Sales  EU_Sales  JP_Sales  Other_Sales  Global_Sales  \n",
       "0     41.49     29.02      3.77         8.46         82.74  \n",
       "1     29.08      3.58      6.81         0.77         40.24  \n",
       "2     15.85     12.88      3.79         3.31         35.82  \n",
       "3     15.75     11.01      3.28         2.96         33.00  \n",
       "4     11.27      8.89     10.22         1.00         31.37  "
      ]
     },
     "execution_count": 7,
     "metadata": {},
     "output_type": "execute_result"
    }
   ],
   "source": [
    "import os\n",
    "csv_file_path = os.getenv('HOME') + '/aiffel/data_preprocess/data/vgsales.csv'\n",
    "sales = pd.read_csv(csv_file_path)\n",
    "sales.head()"
   ]
  },
  {
   "cell_type": "markdown",
   "id": "7d416c78",
   "metadata": {},
   "source": [
    "# 1. Preprocessing"
   ]
  },
  {
   "cell_type": "markdown",
   "id": "7f792640",
   "metadata": {},
   "source": [
    "## 1) Missing Values "
   ]
  },
  {
   "cell_type": "code",
   "execution_count": 10,
   "id": "673c3155",
   "metadata": {},
   "outputs": [
    {
     "data": {
      "text/plain": [
       "Rank              0\n",
       "Name              0\n",
       "Platform          0\n",
       "Year            271\n",
       "Genre             0\n",
       "Publisher        58\n",
       "NA_Sales          0\n",
       "EU_Sales          0\n",
       "JP_Sales          0\n",
       "Other_Sales       0\n",
       "Global_Sales      0\n",
       "dtype: int64"
      ]
     },
     "execution_count": 10,
     "metadata": {},
     "output_type": "execute_result"
    }
   ],
   "source": [
    "#Check if there are any missing values \n",
    "\n",
    "\n",
    "sales.isnull().sum()"
   ]
  },
  {
   "cell_type": "code",
   "execution_count": 11,
   "id": "41761761",
   "metadata": {},
   "outputs": [],
   "source": [
    "#Remove all the rows with missing values\n",
    "\n",
    "sales = sales.dropna(subset=['Year', 'Publisher'], axis=0)\n",
    "sales = sales.reset_index(drop=True)"
   ]
  },
  {
   "cell_type": "code",
   "execution_count": 12,
   "id": "c8bcabbb",
   "metadata": {},
   "outputs": [
    {
     "data": {
      "text/plain": [
       "Rank            0\n",
       "Name            0\n",
       "Platform        0\n",
       "Year            0\n",
       "Genre           0\n",
       "Publisher       0\n",
       "NA_Sales        0\n",
       "EU_Sales        0\n",
       "JP_Sales        0\n",
       "Other_Sales     0\n",
       "Global_Sales    0\n",
       "dtype: int64"
      ]
     },
     "execution_count": 12,
     "metadata": {},
     "output_type": "execute_result"
    }
   ],
   "source": [
    "sales.isnull().sum()"
   ]
  },
  {
   "cell_type": "markdown",
   "id": "ef663076",
   "metadata": {},
   "source": [
    "## 2) Data Type"
   ]
  },
  {
   "cell_type": "code",
   "execution_count": 13,
   "id": "bc11efbf",
   "metadata": {},
   "outputs": [
    {
     "name": "stdout",
     "output_type": "stream",
     "text": [
      "<class 'pandas.core.frame.DataFrame'>\n",
      "RangeIndex: 16291 entries, 0 to 16290\n",
      "Data columns (total 11 columns):\n",
      " #   Column        Non-Null Count  Dtype  \n",
      "---  ------        --------------  -----  \n",
      " 0   Rank          16291 non-null  int64  \n",
      " 1   Name          16291 non-null  object \n",
      " 2   Platform      16291 non-null  object \n",
      " 3   Year          16291 non-null  float64\n",
      " 4   Genre         16291 non-null  object \n",
      " 5   Publisher     16291 non-null  object \n",
      " 6   NA_Sales      16291 non-null  float64\n",
      " 7   EU_Sales      16291 non-null  float64\n",
      " 8   JP_Sales      16291 non-null  float64\n",
      " 9   Other_Sales   16291 non-null  float64\n",
      " 10  Global_Sales  16291 non-null  float64\n",
      "dtypes: float64(6), int64(1), object(4)\n",
      "memory usage: 1.4+ MB\n"
     ]
    }
   ],
   "source": [
    "sales.info()"
   ]
  },
  {
   "cell_type": "code",
   "execution_count": 14,
   "id": "51fea2d9",
   "metadata": {},
   "outputs": [
    {
     "data": {
      "text/plain": [
       "dtype('int64')"
      ]
     },
     "execution_count": 14,
     "metadata": {},
     "output_type": "execute_result"
    }
   ],
   "source": [
    "sales['Year'] = sales['Year'].astype(int)\n",
    "sales['Year'].dtype"
   ]
  },
  {
   "cell_type": "markdown",
   "id": "4e2b6b3a",
   "metadata": {},
   "source": [
    "## 3) Duplicate"
   ]
  },
  {
   "cell_type": "code",
   "execution_count": 15,
   "id": "7962ef72",
   "metadata": {},
   "outputs": [
    {
     "data": {
      "text/html": [
       "<div>\n",
       "<style scoped>\n",
       "    .dataframe tbody tr th:only-of-type {\n",
       "        vertical-align: middle;\n",
       "    }\n",
       "\n",
       "    .dataframe tbody tr th {\n",
       "        vertical-align: top;\n",
       "    }\n",
       "\n",
       "    .dataframe thead th {\n",
       "        text-align: right;\n",
       "    }\n",
       "</style>\n",
       "<table border=\"1\" class=\"dataframe\">\n",
       "  <thead>\n",
       "    <tr style=\"text-align: right;\">\n",
       "      <th></th>\n",
       "      <th>Rank</th>\n",
       "      <th>Name</th>\n",
       "      <th>Platform</th>\n",
       "      <th>Year</th>\n",
       "      <th>Genre</th>\n",
       "      <th>Publisher</th>\n",
       "      <th>NA_Sales</th>\n",
       "      <th>EU_Sales</th>\n",
       "      <th>JP_Sales</th>\n",
       "      <th>Other_Sales</th>\n",
       "      <th>Global_Sales</th>\n",
       "    </tr>\n",
       "  </thead>\n",
       "  <tbody>\n",
       "  </tbody>\n",
       "</table>\n",
       "</div>"
      ],
      "text/plain": [
       "Empty DataFrame\n",
       "Columns: [Rank, Name, Platform, Year, Genre, Publisher, NA_Sales, EU_Sales, JP_Sales, Other_Sales, Global_Sales]\n",
       "Index: []"
      ]
     },
     "execution_count": 15,
     "metadata": {},
     "output_type": "execute_result"
    }
   ],
   "source": [
    "sales[sales.duplicated()]"
   ]
  },
  {
   "cell_type": "code",
   "execution_count": 16,
   "id": "a7033dad",
   "metadata": {
    "scrolled": true
   },
   "outputs": [
    {
     "data": {
      "text/plain": [
       "0"
      ]
     },
     "execution_count": 16,
     "metadata": {},
     "output_type": "execute_result"
    }
   ],
   "source": [
    "len(sales) - len(sales.drop_duplicates())"
   ]
  },
  {
   "cell_type": "markdown",
   "id": "4defaca8",
   "metadata": {},
   "source": [
    "# 2. Standardization"
   ]
  },
  {
   "cell_type": "code",
   "execution_count": 31,
   "id": "96a54d59",
   "metadata": {},
   "outputs": [
    {
     "data": {
      "text/html": [
       "<div>\n",
       "<style scoped>\n",
       "    .dataframe tbody tr th:only-of-type {\n",
       "        vertical-align: middle;\n",
       "    }\n",
       "\n",
       "    .dataframe tbody tr th {\n",
       "        vertical-align: top;\n",
       "    }\n",
       "\n",
       "    .dataframe thead th {\n",
       "        text-align: right;\n",
       "    }\n",
       "</style>\n",
       "<table border=\"1\" class=\"dataframe\">\n",
       "  <thead>\n",
       "    <tr style=\"text-align: right;\">\n",
       "      <th></th>\n",
       "      <th>NA_Sales</th>\n",
       "      <th>EU_Sales</th>\n",
       "      <th>JP_Sales</th>\n",
       "      <th>Other_Sales</th>\n",
       "      <th>Global_Sales</th>\n",
       "    </tr>\n",
       "  </thead>\n",
       "  <tbody>\n",
       "    <tr>\n",
       "      <th>0</th>\n",
       "      <td>50.124931</td>\n",
       "      <td>56.689775</td>\n",
       "      <td>11.835234</td>\n",
       "      <td>44.252142</td>\n",
       "      <td>52.444813</td>\n",
       "    </tr>\n",
       "    <tr>\n",
       "      <th>1</th>\n",
       "      <td>35.035540</td>\n",
       "      <td>6.739150</td>\n",
       "      <td>21.582588</td>\n",
       "      <td>3.796102</td>\n",
       "      <td>25.328886</td>\n",
       "    </tr>\n",
       "    <tr>\n",
       "      <th>2</th>\n",
       "      <td>18.949106</td>\n",
       "      <td>24.999402</td>\n",
       "      <td>11.899361</td>\n",
       "      <td>17.158695</td>\n",
       "      <td>22.508829</td>\n",
       "    </tr>\n",
       "    <tr>\n",
       "      <th>3</th>\n",
       "      <td>18.827515</td>\n",
       "      <td>21.327717</td>\n",
       "      <td>10.264115</td>\n",
       "      <td>15.317393</td>\n",
       "      <td>20.709608</td>\n",
       "    </tr>\n",
       "    <tr>\n",
       "      <th>4</th>\n",
       "      <td>13.380257</td>\n",
       "      <td>17.165165</td>\n",
       "      <td>32.516298</td>\n",
       "      <td>5.006100</td>\n",
       "      <td>19.669632</td>\n",
       "    </tr>\n",
       "  </tbody>\n",
       "</table>\n",
       "</div>"
      ],
      "text/plain": [
       "    NA_Sales   EU_Sales   JP_Sales  Other_Sales  Global_Sales\n",
       "0  50.124931  56.689775  11.835234    44.252142     52.444813\n",
       "1  35.035540   6.739150  21.582588     3.796102     25.328886\n",
       "2  18.949106  24.999402  11.899361    17.158695     22.508829\n",
       "3  18.827515  21.327717  10.264115    15.317393     20.709608\n",
       "4  13.380257  17.165165  32.516298     5.006100     19.669632"
      ]
     },
     "execution_count": 31,
     "metadata": {},
     "output_type": "execute_result"
    }
   ],
   "source": [
    "cols = ['NA_Sales', 'EU_Sales', 'JP_Sales','Other_Sales','Global_Sales']\n",
    "sales_stand = (sales[cols] - sales[cols].mean())/ sales[cols].std()\n",
    "sales_stand.head()"
   ]
  },
  {
   "cell_type": "code",
   "execution_count": 32,
   "id": "a2cb9f7f",
   "metadata": {
    "scrolled": false
   },
   "outputs": [
    {
     "data": {
      "text/html": [
       "<div>\n",
       "<style scoped>\n",
       "    .dataframe tbody tr th:only-of-type {\n",
       "        vertical-align: middle;\n",
       "    }\n",
       "\n",
       "    .dataframe tbody tr th {\n",
       "        vertical-align: top;\n",
       "    }\n",
       "\n",
       "    .dataframe thead th {\n",
       "        text-align: right;\n",
       "    }\n",
       "</style>\n",
       "<table border=\"1\" class=\"dataframe\">\n",
       "  <thead>\n",
       "    <tr style=\"text-align: right;\">\n",
       "      <th></th>\n",
       "      <th>NA_Sales</th>\n",
       "      <th>EU_Sales</th>\n",
       "      <th>JP_Sales</th>\n",
       "      <th>Other_Sales</th>\n",
       "      <th>Global_Sales</th>\n",
       "    </tr>\n",
       "  </thead>\n",
       "  <tbody>\n",
       "    <tr>\n",
       "      <th>count</th>\n",
       "      <td>1.629100e+04</td>\n",
       "      <td>1.629100e+04</td>\n",
       "      <td>1.629100e+04</td>\n",
       "      <td>1.629100e+04</td>\n",
       "      <td>1.629100e+04</td>\n",
       "    </tr>\n",
       "    <tr>\n",
       "      <th>mean</th>\n",
       "      <td>-5.582805e-17</td>\n",
       "      <td>-5.582805e-17</td>\n",
       "      <td>-5.582805e-17</td>\n",
       "      <td>5.582805e-17</td>\n",
       "      <td>5.582805e-17</td>\n",
       "    </tr>\n",
       "    <tr>\n",
       "      <th>std</th>\n",
       "      <td>1.000000e+00</td>\n",
       "      <td>1.000000e+00</td>\n",
       "      <td>1.000000e+00</td>\n",
       "      <td>1.000000e+00</td>\n",
       "      <td>1.000000e+00</td>\n",
       "    </tr>\n",
       "    <tr>\n",
       "      <th>min</th>\n",
       "      <td>-3.230013e-01</td>\n",
       "      <td>-2.900656e-01</td>\n",
       "      <td>-2.527678e-01</td>\n",
       "      <td>-2.547632e-01</td>\n",
       "      <td>-3.387324e-01</td>\n",
       "    </tr>\n",
       "    <tr>\n",
       "      <th>25%</th>\n",
       "      <td>-3.230013e-01</td>\n",
       "      <td>-2.900656e-01</td>\n",
       "      <td>-2.527678e-01</td>\n",
       "      <td>-2.547632e-01</td>\n",
       "      <td>-3.068313e-01</td>\n",
       "    </tr>\n",
       "    <tr>\n",
       "      <th>50%</th>\n",
       "      <td>-2.257289e-01</td>\n",
       "      <td>-2.507962e-01</td>\n",
       "      <td>-2.527678e-01</td>\n",
       "      <td>-2.021546e-01</td>\n",
       "      <td>-2.366489e-01</td>\n",
       "    </tr>\n",
       "    <tr>\n",
       "      <th>75%</th>\n",
       "      <td>-3.118394e-02</td>\n",
       "      <td>-7.408413e-02</td>\n",
       "      <td>-1.245131e-01</td>\n",
       "      <td>-4.432869e-02</td>\n",
       "      <td>-3.886211e-02</td>\n",
       "    </tr>\n",
       "    <tr>\n",
       "      <th>max</th>\n",
       "      <td>5.012493e+01</td>\n",
       "      <td>5.668978e+01</td>\n",
       "      <td>3.251630e+01</td>\n",
       "      <td>5.535256e+01</td>\n",
       "      <td>5.244481e+01</td>\n",
       "    </tr>\n",
       "  </tbody>\n",
       "</table>\n",
       "</div>"
      ],
      "text/plain": [
       "           NA_Sales      EU_Sales      JP_Sales   Other_Sales  Global_Sales\n",
       "count  1.629100e+04  1.629100e+04  1.629100e+04  1.629100e+04  1.629100e+04\n",
       "mean  -5.582805e-17 -5.582805e-17 -5.582805e-17  5.582805e-17  5.582805e-17\n",
       "std    1.000000e+00  1.000000e+00  1.000000e+00  1.000000e+00  1.000000e+00\n",
       "min   -3.230013e-01 -2.900656e-01 -2.527678e-01 -2.547632e-01 -3.387324e-01\n",
       "25%   -3.230013e-01 -2.900656e-01 -2.527678e-01 -2.547632e-01 -3.068313e-01\n",
       "50%   -2.257289e-01 -2.507962e-01 -2.527678e-01 -2.021546e-01 -2.366489e-01\n",
       "75%   -3.118394e-02 -7.408413e-02 -1.245131e-01 -4.432869e-02 -3.886211e-02\n",
       "max    5.012493e+01  5.668978e+01  3.251630e+01  5.535256e+01  5.244481e+01"
      ]
     },
     "execution_count": 32,
     "metadata": {},
     "output_type": "execute_result"
    }
   ],
   "source": [
    "sales_stand.describe()"
   ]
  },
  {
   "cell_type": "markdown",
   "id": "adff85c5",
   "metadata": {},
   "source": [
    "# 3. Binning"
   ]
  },
  {
   "cell_type": "code",
   "execution_count": 40,
   "id": "8b9829da",
   "metadata": {},
   "outputs": [
    {
     "data": {
      "text/plain": [
       "0                       (0.61, 82.74]\n",
       "1                       (0.61, 82.74]\n",
       "2                       (0.61, 82.74]\n",
       "3                       (0.61, 82.74]\n",
       "4                       (0.61, 82.74]\n",
       "                     ...             \n",
       "16286    (0.009000000000000001, 0.05]\n",
       "16287    (0.009000000000000001, 0.05]\n",
       "16288    (0.009000000000000001, 0.05]\n",
       "16289    (0.009000000000000001, 0.05]\n",
       "16290    (0.009000000000000001, 0.05]\n",
       "Name: Global_Sales, Length: 16291, dtype: category\n",
       "Categories (5, interval[float64, right]): [(0.009000000000000001, 0.05] < (0.05, 0.12] < (0.12, 0.25] < (0.25, 0.61] < (0.61, 82.74]]"
      ]
     },
     "execution_count": 40,
     "metadata": {},
     "output_type": "execute_result"
    }
   ],
   "source": [
    "ctg = pd.qcut(sales['Global_Sales'], q=5)\n",
    "ctg"
   ]
  },
  {
   "cell_type": "code",
   "execution_count": 41,
   "id": "ee6c5e84",
   "metadata": {},
   "outputs": [
    {
     "name": "stdout",
     "output_type": "stream",
     "text": [
      "(0.009000000000000001, 0.05]    3698\n",
      "(0.05, 0.12]                    3106\n",
      "(0.12, 0.25]                    2991\n",
      "(0.25, 0.61]                    3263\n",
      "(0.61, 82.74]                   3233\n",
      "Name: Global_Sales, dtype: int64\n"
     ]
    }
   ],
   "source": [
    "print(ctg.value_counts().sort_index())"
   ]
  },
  {
   "cell_type": "markdown",
   "id": "5f241435",
   "metadata": {},
   "source": [
    "# 4. EDA"
   ]
  },
  {
   "cell_type": "markdown",
   "id": "0cfd7ef9",
   "metadata": {},
   "source": [
    "## Genre Popularity"
   ]
  },
  {
   "cell_type": "code",
   "execution_count": 17,
   "id": "49161a84",
   "metadata": {
    "scrolled": true
   },
   "outputs": [
    {
     "data": {
      "text/plain": [
       "Action          3251\n",
       "Sports          2304\n",
       "Misc            1686\n",
       "Role-Playing    1470\n",
       "Shooter         1282\n",
       "Adventure       1274\n",
       "Racing          1225\n",
       "Platform         875\n",
       "Simulation       848\n",
       "Fighting         836\n",
       "Strategy         670\n",
       "Puzzle           570\n",
       "Name: Genre, dtype: int64"
      ]
     },
     "execution_count": 17,
     "metadata": {},
     "output_type": "execute_result"
    }
   ],
   "source": [
    "# What Genre have been popular the most ? \n",
    "\n",
    "sales['Genre'].value_counts()"
   ]
  },
  {
   "cell_type": "code",
   "execution_count": 18,
   "id": "be9ac76f",
   "metadata": {
    "scrolled": false
   },
   "outputs": [
    {
     "data": {
      "text/plain": [
       "(array([ 0,  1,  2,  3,  4,  5,  6,  7,  8,  9, 10, 11]),\n",
       " [Text(0, 0, 'Action'),\n",
       "  Text(1, 0, 'Sports'),\n",
       "  Text(2, 0, 'Misc'),\n",
       "  Text(3, 0, 'Role-Playing'),\n",
       "  Text(4, 0, 'Shooter'),\n",
       "  Text(5, 0, 'Adventure'),\n",
       "  Text(6, 0, 'Racing'),\n",
       "  Text(7, 0, 'Platform'),\n",
       "  Text(8, 0, 'Simulation'),\n",
       "  Text(9, 0, 'Fighting'),\n",
       "  Text(10, 0, 'Strategy'),\n",
       "  Text(11, 0, 'Puzzle')])"
      ]
     },
     "execution_count": 18,
     "metadata": {},
     "output_type": "execute_result"
    },
    {
     "data": {
      "image/png": "[encoded data removed]",
      "text/plain": [
       "<Figure size 1080x720 with 1 Axes>"
      ]
     },
     "metadata": {
      "needs_background": "light"
     },
     "output_type": "display_data"
    }
   ],
   "source": [
    "plt.figure(figsize=(15, 10))\n",
    "sns.countplot(x='Genre', data=sales, order=sales['Genre'].value_counts().index)\n",
    "plt.xticks(rotation=90)"
   ]
  },
  {
   "cell_type": "markdown",
   "id": "1c6d3a41",
   "metadata": {},
   "source": [
    "> Action, Sports genre aret the most popular "
   ]
  },
  {
   "cell_type": "markdown",
   "id": "d34d8b0b",
   "metadata": {},
   "source": [
    "## Year Popularity "
   ]
  },
  {
   "cell_type": "code",
   "execution_count": 19,
   "id": "5c2c93f3",
   "metadata": {
    "scrolled": false
   },
   "outputs": [
    {
     "data": {
      "text/plain": [
       "(array([ 0,  1,  2,  3,  4,  5,  6,  7,  8,  9, 10, 11, 12, 13, 14, 15, 16,\n",
       "        17, 18, 19, 20, 21, 22, 23, 24, 25, 26, 27, 28, 29, 30, 31, 32, 33,\n",
       "        34, 35, 36, 37, 38]),\n",
       " [Text(0, 0, '2009'),\n",
       "  Text(1, 0, '2008'),\n",
       "  Text(2, 0, '2010'),\n",
       "  Text(3, 0, '2007'),\n",
       "  Text(4, 0, '2011'),\n",
       "  Text(5, 0, '2006'),\n",
       "  Text(6, 0, '2005'),\n",
       "  Text(7, 0, '2002'),\n",
       "  Text(8, 0, '2003'),\n",
       "  Text(9, 0, '2004'),\n",
       "  Text(10, 0, '2012'),\n",
       "  Text(11, 0, '2015'),\n",
       "  Text(12, 0, '2014'),\n",
       "  Text(13, 0, '2013'),\n",
       "  Text(14, 0, '2001'),\n",
       "  Text(15, 0, '1998'),\n",
       "  Text(16, 0, '2000'),\n",
       "  Text(17, 0, '2016'),\n",
       "  Text(18, 0, '1999'),\n",
       "  Text(19, 0, '1997'),\n",
       "  Text(20, 0, '1996'),\n",
       "  Text(21, 0, '1995'),\n",
       "  Text(22, 0, '1994'),\n",
       "  Text(23, 0, '1993'),\n",
       "  Text(24, 0, '1981'),\n",
       "  Text(25, 0, '1992'),\n",
       "  Text(26, 0, '1991'),\n",
       "  Text(27, 0, '1982'),\n",
       "  Text(28, 0, '1986'),\n",
       "  Text(29, 0, '1989'),\n",
       "  Text(30, 0, '1983'),\n",
       "  Text(31, 0, '1987'),\n",
       "  Text(32, 0, '1990'),\n",
       "  Text(33, 0, '1988'),\n",
       "  Text(34, 0, '1985'),\n",
       "  Text(35, 0, '1984'),\n",
       "  Text(36, 0, '1980'),\n",
       "  Text(37, 0, '2017'),\n",
       "  Text(38, 0, '2020')])"
      ]
     },
     "execution_count": 19,
     "metadata": {},
     "output_type": "execute_result"
    },
    {
     "data": {
      "image/png": "[encoded data removed]",
      "text/plain": [
       "<Figure size 1080x720 with 1 Axes>"
      ]
     },
     "metadata": {
      "needs_background": "light"
     },
     "output_type": "display_data"
    }
   ],
   "source": [
    "plt.figure(figsize=(15,10))\n",
    "sns.countplot(x='Year', data=sales, order= sales.groupby('Year')['Name'].count().sort_values(ascending=False).index)\n",
    "plt.xticks(rotation=90)"
   ]
  },
  {
   "cell_type": "markdown",
   "id": "79e9545d",
   "metadata": {},
   "source": [
    "## Global sales ranking by Year"
   ]
  },
  {
   "cell_type": "code",
   "execution_count": 20,
   "id": "23ce2a10",
   "metadata": {},
   "outputs": [],
   "source": [
    "#Groupby : 그룹별로 분할하여, 그룹별로 통계량 확인 (groupby함수 + 통계함수)\n",
    "\n",
    "sales_year = sales.groupby('Year')['Global_Sales'].sum()\n",
    "sales_year = sales_year.reset_index()"
   ]
  },
  {
   "cell_type": "code",
   "execution_count": 39,
   "id": "2f301a96",
   "metadata": {
    "scrolled": false
   },
   "outputs": [
    {
     "data": {
      "text/plain": [
       "(array([ 0,  1,  2,  3,  4,  5,  6,  7,  8,  9, 10, 11, 12, 13, 14, 15, 16,\n",
       "        17, 18, 19, 20, 21, 22, 23, 24, 25, 26, 27, 28, 29, 30, 31, 32, 33,\n",
       "        34, 35, 36, 37, 38]),\n",
       " [Text(0, 0, '1980'),\n",
       "  Text(1, 0, '1981'),\n",
       "  Text(2, 0, '1982'),\n",
       "  Text(3, 0, '1983'),\n",
       "  Text(4, 0, '1984'),\n",
       "  Text(5, 0, '1985'),\n",
       "  Text(6, 0, '1986'),\n",
       "  Text(7, 0, '1987'),\n",
       "  Text(8, 0, '1988'),\n",
       "  Text(9, 0, '1989'),\n",
       "  Text(10, 0, '1990'),\n",
       "  Text(11, 0, '1991'),\n",
       "  Text(12, 0, '1992'),\n",
       "  Text(13, 0, '1993'),\n",
       "  Text(14, 0, '1994'),\n",
       "  Text(15, 0, '1995'),\n",
       "  Text(16, 0, '1996'),\n",
       "  Text(17, 0, '1997'),\n",
       "  Text(18, 0, '1998'),\n",
       "  Text(19, 0, '1999'),\n",
       "  Text(20, 0, '2000'),\n",
       "  Text(21, 0, '2001'),\n",
       "  Text(22, 0, '2002'),\n",
       "  Text(23, 0, '2003'),\n",
       "  Text(24, 0, '2004'),\n",
       "  Text(25, 0, '2005'),\n",
       "  Text(26, 0, '2006'),\n",
       "  Text(27, 0, '2007'),\n",
       "  Text(28, 0, '2008'),\n",
       "  Text(29, 0, '2009'),\n",
       "  Text(30, 0, '2010'),\n",
       "  Text(31, 0, '2011'),\n",
       "  Text(32, 0, '2012'),\n",
       "  Text(33, 0, '2013'),\n",
       "  Text(34, 0, '2014'),\n",
       "  Text(35, 0, '2015'),\n",
       "  Text(36, 0, '2016'),\n",
       "  Text(37, 0, '2017'),\n",
       "  Text(38, 0, '2020')])"
      ]
     },
     "execution_count": 39,
     "metadata": {},
     "output_type": "execute_result"
    },
    {
     "data": {
      "image/png": "[encoded data removed]",
      "text/plain": [
       "<Figure size 1080x576 with 1 Axes>"
      ]
     },
     "metadata": {
      "needs_background": "light"
     },
     "output_type": "display_data"
    }
   ],
   "source": [
    "plt.figure(figsize=(15,8))\n",
    "sns.barplot(x='Year', y='Global_Sales', data=sales_year)\n",
    "plt.xticks(rotation=90)"
   ]
  },
  {
   "cell_type": "markdown",
   "id": "a942962d",
   "metadata": {},
   "source": [
    "## What Platform has the highest sale price?"
   ]
  },
  {
   "cell_type": "code",
   "execution_count": 22,
   "id": "a2b3f3ec",
   "metadata": {},
   "outputs": [],
   "source": [
    "#sort_values 값을 기준으로 레이블을 정렬한다 \n",
    "#df.sort_values(by, axis=0, ascending=True, inplace=False, kind='quicksort', na_position='last', ignore_index=False, key=None)\n",
    "\n",
    "sales_platform = sales.groupby('Platform')['Global_Sales'].sum().reset_index()\n",
    "sales_platform = sales_platform.sort_values(by=['Global_Sales'], ascending=False)"
   ]
  },
  {
   "cell_type": "code",
   "execution_count": 23,
   "id": "08415851",
   "metadata": {},
   "outputs": [
    {
     "data": {
      "text/html": [
       "<div>\n",
       "<style scoped>\n",
       "    .dataframe tbody tr th:only-of-type {\n",
       "        vertical-align: middle;\n",
       "    }\n",
       "\n",
       "    .dataframe tbody tr th {\n",
       "        vertical-align: top;\n",
       "    }\n",
       "\n",
       "    .dataframe thead th {\n",
       "        text-align: right;\n",
       "    }\n",
       "</style>\n",
       "<table border=\"1\" class=\"dataframe\">\n",
       "  <thead>\n",
       "    <tr style=\"text-align: right;\">\n",
       "      <th></th>\n",
       "      <th>Platform</th>\n",
       "      <th>Global_Sales</th>\n",
       "    </tr>\n",
       "  </thead>\n",
       "  <tbody>\n",
       "    <tr>\n",
       "      <th>16</th>\n",
       "      <td>PS2</td>\n",
       "      <td>1233.46</td>\n",
       "    </tr>\n",
       "    <tr>\n",
       "      <th>28</th>\n",
       "      <td>X360</td>\n",
       "      <td>969.60</td>\n",
       "    </tr>\n",
       "    <tr>\n",
       "      <th>17</th>\n",
       "      <td>PS3</td>\n",
       "      <td>949.35</td>\n",
       "    </tr>\n",
       "    <tr>\n",
       "      <th>26</th>\n",
       "      <td>Wii</td>\n",
       "      <td>909.81</td>\n",
       "    </tr>\n",
       "    <tr>\n",
       "      <th>4</th>\n",
       "      <td>DS</td>\n",
       "      <td>818.91</td>\n",
       "    </tr>\n",
       "  </tbody>\n",
       "</table>\n",
       "</div>"
      ],
      "text/plain": [
       "   Platform  Global_Sales\n",
       "16      PS2       1233.46\n",
       "28     X360        969.60\n",
       "17      PS3        949.35\n",
       "26      Wii        909.81\n",
       "4        DS        818.91"
      ]
     },
     "execution_count": 23,
     "metadata": {},
     "output_type": "execute_result"
    }
   ],
   "source": [
    "sales_platform.head()"
   ]
  },
  {
   "cell_type": "code",
   "execution_count": 38,
   "id": "d78d50ff",
   "metadata": {},
   "outputs": [
    {
     "data": {
      "text/plain": [
       "<AxesSubplot:xlabel='Platform', ylabel='Global_Sales'>"
      ]
     },
     "execution_count": 38,
     "metadata": {},
     "output_type": "execute_result"
    },
    {
     "data": {
      "image/png": "[encoded data removed]",
      "text/plain": [
       "<Figure size 1080x576 with 1 Axes>"
      ]
     },
     "metadata": {
      "needs_background": "light"
     },
     "output_type": "display_data"
    }
   ],
   "source": [
    "plt.figure(figsize=(15,8))\n",
    "sns.barplot(x='Platform', y='Global_Sales', data=sales_platform)"
   ]
  },
  {
   "cell_type": "markdown",
   "id": "66c519f8",
   "metadata": {},
   "source": [
    "## Sales of Diff Genre by Country"
   ]
  },
  {
   "cell_type": "code",
   "execution_count": 25,
   "id": "f9a7ac13",
   "metadata": {},
   "outputs": [
    {
     "data": {
      "text/plain": [
       "Text(0.5, 1.0, 'Sales of different genre in Europe')"
      ]
     },
     "execution_count": 25,
     "metadata": {},
     "output_type": "execute_result"
    },
    {
     "data": {
      "image/png": "[encoded data removed]",
      "text/plain": [
       "<Figure size 1080x360 with 1 Axes>"
      ]
     },
     "metadata": {
      "needs_background": "light"
     },
     "output_type": "display_data"
    }
   ],
   "source": [
    "plt.figure(figsize=(15,5))\n",
    "sns.barplot(x='Genre', y='EU_Sales', data=sales, palette='Paired')\n",
    "plt.ylabel('Sales')\n",
    "plt.title('Sales of different genre in Europe')\n"
   ]
  },
  {
   "cell_type": "code",
   "execution_count": 34,
   "id": "7f219f78",
   "metadata": {},
   "outputs": [
    {
     "data": {
      "text/plain": [
       "Text(0.5, 1.0, 'Sales of different genre in North America')"
      ]
     },
     "execution_count": 34,
     "metadata": {},
     "output_type": "execute_result"
    },
    {
     "data": {
      "image/png": "[encoded data removed]",
      "text/plain": [
       "<Figure size 1080x360 with 1 Axes>"
      ]
     },
     "metadata": {
      "needs_background": "light"
     },
     "output_type": "display_data"
    }
   ],
   "source": [
    "plt.figure(figsize=(15,5))\n",
    "sns.barplot(x='Genre', y='NA_Sales', data=sales, palette='Paired')\n",
    "plt.ylabel('Sales')\n",
    "plt.title('Sales of different genre in North America')"
   ]
  },
  {
   "cell_type": "code",
   "execution_count": 35,
   "id": "4871dea6",
   "metadata": {},
   "outputs": [
    {
     "data": {
      "text/plain": [
       "Text(0.5, 1.0, 'Sales of different genre in Japan')"
      ]
     },
     "execution_count": 35,
     "metadata": {},
     "output_type": "execute_result"
    },
    {
     "data": {
      "image/png": "[encoded data removed]",
      "text/plain": [
       "<Figure size 1080x360 with 1 Axes>"
      ]
     },
     "metadata": {
      "needs_background": "light"
     },
     "output_type": "display_data"
    }
   ],
   "source": [
    "plt.figure(figsize=(15,5))\n",
    "sns.barplot(x='Genre', y='JP_Sales', data=sales, palette='Paired')\n",
    "plt.ylabel('Sales')\n",
    "plt.title('Sales of different genre in Japan')"
   ]
  },
  {
   "cell_type": "code",
   "execution_count": 37,
   "id": "89247638",
   "metadata": {},
   "outputs": [
    {
     "data": {
      "text/plain": [
       "Text(0.5, 1.0, 'Sales of different genre Globally')"
      ]
     },
     "execution_count": 37,
     "metadata": {},
     "output_type": "execute_result"
    },
    {
     "data": {
      "image/png": "[encoded data removed]",
      "text/plain": [
       "<Figure size 1080x360 with 1 Axes>"
      ]
     },
     "metadata": {
      "needs_background": "light"
     },
     "output_type": "display_data"
    }
   ],
   "source": [
    "plt.figure(figsize=(15,5))\n",
    "sns.barplot(x='Genre', y='Global_Sales', data=sales, palette='Paired')\n",
    "plt.ylabel('Sales')\n",
    "plt.title('Sales of different genre Globally')"
   ]
  }
 ],
 "metadata": {
  "kernelspec": {
   "display_name": "Python 3 (ipykernel)",
   "language": "python",
   "name": "python3"
  },
  "language_info": {
   "codemirror_mode": {
    "name": "ipython",
    "version": 3
   },
   "file_extension": ".py",
   "mimetype": "text/x-python",
   "name": "python",
   "nbconvert_exporter": "python",
   "pygments_lexer": "ipython3",
   "version": "3.9.7"
  }
 },
 "nbformat": 4,
 "nbformat_minor": 5
}
