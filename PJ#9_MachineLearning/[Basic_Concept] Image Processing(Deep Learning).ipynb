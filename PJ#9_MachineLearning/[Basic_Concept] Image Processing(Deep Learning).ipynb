{
 "cells": [
  {
   "cell_type": "markdown",
   "id": "f5829bbf",
   "metadata": {},
   "source": [
    "# 딥러닝 Deep Learning"
   ]
  },
  {
   "cell_type": "code",
   "execution_count": 1,
   "id": "655af4b2",
   "metadata": {},
   "outputs": [],
   "source": [
    "#라이브러리 불러오기\n",
    "import tensorflow as tf\n",
    "import matplotlib.pyplot as plt"
   ]
  },
  {
   "cell_type": "code",
   "execution_count": 2,
   "id": "dfd26be5",
   "metadata": {},
   "outputs": [
    {
     "data": {
      "text/plain": [
       "'2.11.1'"
      ]
     },
     "execution_count": 2,
     "metadata": {},
     "output_type": "execute_result"
    }
   ],
   "source": [
    "#tensorflow 버전 확인\n",
    "tf.__version__"
   ]
  },
  {
   "cell_type": "code",
   "execution_count": 3,
   "id": "fa5e78a7",
   "metadata": {},
   "outputs": [],
   "source": [
    "#데이터셋 불러오기 (sklearn 처럼 load_data로 데이터를 불러온다)\n",
    "mnist = tf.keras.datasets.mnist\n",
    "(X_train, y_train), (X_test, y_test) = mnist.load_data()"
   ]
  },
  {
   "cell_type": "code",
   "execution_count": 4,
   "id": "e3f23543",
   "metadata": {},
   "outputs": [
    {
     "data": {
      "text/plain": [
       "((60000, 28, 28), (60000,), (10000, 28, 28), (10000,))"
      ]
     },
     "execution_count": 4,
     "metadata": {},
     "output_type": "execute_result"
    }
   ],
   "source": [
    "#데이터 확인\n",
    "X_train.shape, y_train.shape, X_test.shape, y_test.shape"
   ]
  },
  {
   "cell_type": "code",
   "execution_count": 5,
   "id": "b032494a",
   "metadata": {
    "scrolled": false
   },
   "outputs": [
    {
     "name": "stdout",
     "output_type": "stream",
     "text": [
      "[[  0   0   0   0   0   0   0   0   0   0   0   0   0   0   0   0   0   0   0   0   0   0   0   0   0   0   0   0]\n",
      " [  0   0   0   0   0   0   0   0   0   0   0   0   0   0   0   0   0   0   0   0   0   0   0   0   0   0   0   0]\n",
      " [  0   0   0   0   0   0   0   0   0   0   0   0   0   0   0   0   0   0   0   0   0   0   0   0   0   0   0   0]\n",
      " [  0   0   0   0   0   0   0   0   0   0   0   0   0   0   0   0   0   0   0   0   0   0   0   0   0   0   0   0]\n",
      " [  0   0   0   0   0   0   0   0   0   0   0   0   0   0   0   0   0   0   0   0   0   0   0   0   0   0   0   0]\n",
      " [  0   0   0   0   0   0   0   0   0   0   0   0   3  18  18  18 126 136 175  26 166 255 247 127   0   0   0   0]\n",
      " [  0   0   0   0   0   0   0   0  30  36  94 154 170 253 253 253 253 253 225 172 253 242 195  64   0   0   0   0]\n",
      " [  0   0   0   0   0   0   0  49 238 253 253 253 253 253 253 253 253 251  93  82  82  56  39   0   0   0   0   0]\n",
      " [  0   0   0   0   0   0   0  18 219 253 253 253 253 253 198 182 247 241   0   0   0   0   0   0   0   0   0   0]\n",
      " [  0   0   0   0   0   0   0   0  80 156 107 253 253 205  11   0  43 154   0   0   0   0   0   0   0   0   0   0]\n",
      " [  0   0   0   0   0   0   0   0   0  14   1 154 253  90   0   0   0   0   0   0   0   0   0   0   0   0   0   0]\n",
      " [  0   0   0   0   0   0   0   0   0   0   0 139 253 190   2   0   0   0   0   0   0   0   0   0   0   0   0   0]\n",
      " [  0   0   0   0   0   0   0   0   0   0   0  11 190 253  70   0   0   0   0   0   0   0   0   0   0   0   0   0]\n",
      " [  0   0   0   0   0   0   0   0   0   0   0   0  35 241 225 160 108   1   0   0   0   0   0   0   0   0   0   0]\n",
      " [  0   0   0   0   0   0   0   0   0   0   0   0   0  81 240 253 253 119  25   0   0   0   0   0   0   0   0   0]\n",
      " [  0   0   0   0   0   0   0   0   0   0   0   0   0   0  45 186 253 253 150  27   0   0   0   0   0   0   0   0]\n",
      " [  0   0   0   0   0   0   0   0   0   0   0   0   0   0   0  16  93 252 253 187   0   0   0   0   0   0   0   0]\n",
      " [  0   0   0   0   0   0   0   0   0   0   0   0   0   0   0   0   0 249 253 249  64   0   0   0   0   0   0   0]\n",
      " [  0   0   0   0   0   0   0   0   0   0   0   0   0   0  46 130 183 253 253 207   2   0   0   0   0   0   0   0]\n",
      " [  0   0   0   0   0   0   0   0   0   0   0   0  39 148 229 253 253 253 250 182   0   0   0   0   0   0   0   0]\n",
      " [  0   0   0   0   0   0   0   0   0   0  24 114 221 253 253 253 253 201  78   0   0   0   0   0   0   0   0   0]\n",
      " [  0   0   0   0   0   0   0   0  23  66 213 253 253 253 253 198  81   2   0   0   0   0   0   0   0   0   0   0]\n",
      " [  0   0   0   0   0   0  18 171 219 253 253 253 253 195  80   9   0   0   0   0   0   0   0   0   0   0   0   0]\n",
      " [  0   0   0   0  55 172 226 253 253 253 253 244 133  11   0   0   0   0   0   0   0   0   0   0   0   0   0   0]\n",
      " [  0   0   0   0 136 253 253 253 212 135 132  16   0   0   0   0   0   0   0   0   0   0   0   0   0   0   0   0]\n",
      " [  0   0   0   0   0   0   0   0   0   0   0   0   0   0   0   0   0   0   0   0   0   0   0   0   0   0   0   0]\n",
      " [  0   0   0   0   0   0   0   0   0   0   0   0   0   0   0   0   0   0   0   0   0   0   0   0   0   0   0   0]\n",
      " [  0   0   0   0   0   0   0   0   0   0   0   0   0   0   0   0   0   0   0   0   0   0   0   0   0   0   0   0]]\n"
     ]
    }
   ],
   "source": [
    "import numpy as np\n",
    "np.set_printoptions(linewidth=120)\n",
    "print(X_train[0])"
   ]
  },
  {
   "cell_type": "code",
   "execution_count": 6,
   "id": "e6610e19",
   "metadata": {
    "scrolled": true
   },
   "outputs": [
    {
     "data": {
      "text/plain": [
       "<matplotlib.image.AxesImage at 0x7f3f1219dc10>"
      ]
     },
     "execution_count": 6,
     "metadata": {},
     "output_type": "execute_result"
    },
    {
     "data": {
      "image/png": "[encoded data removed]",
      "text/plain": [
       "<Figure size 432x288 with 1 Axes>"
      ]
     },
     "metadata": {
      "needs_background": "light"
     },
     "output_type": "display_data"
    }
   ],
   "source": [
    "#이미지 확인\n",
    "plt.imshow(X_train[0])"
   ]
  },
  {
   "cell_type": "code",
   "execution_count": 7,
   "id": "89709d47",
   "metadata": {},
   "outputs": [
    {
     "data": {
      "text/plain": [
       "5"
      ]
     },
     "execution_count": 7,
     "metadata": {},
     "output_type": "execute_result"
    }
   ],
   "source": [
    "#label 확인\n",
    "y_train[0]"
   ]
  },
  {
   "cell_type": "markdown",
   "id": "70720765",
   "metadata": {},
   "source": [
    "### 그래도 확실히 5라고 단정짓기 어렵다. 그럼 이제 tensorflow를 활용해 이 숫자를 예측해보자."
   ]
  },
  {
   "cell_type": "markdown",
   "id": "11a6aed0",
   "metadata": {},
   "source": [
    "## 1) 시퀀셜 모델\n",
    "- flatten (한줄로 평평하계) : data 출력을 한줄로 펼쳐준다. 행렬을 하나의 행으로 표시\n",
    "- dense (완전연결 레이어): layer이다. (unit, activation) unit은 생략 가능하며, 정해진 거 없다.\n",
    "    - relu를 많이 쓴다 (0보다 작은건 다 0, 0보다 큰 값은 그 값으로 넣는 함수)\n",
    "   \n",
    "- 마지막 dense : 예측해야 되는 숫자가 0~10이니까 10이라고 쓴 것이고, softmax는 결과가 [0.1, 0.3, 0.6] 등 합이 1인 확률값으로 나옴\n",
    "    - 이 중 가장 큰 확률값을 선택하게 된다"
   ]
  },
  {
   "cell_type": "code",
   "execution_count": 8,
   "id": "e0817175",
   "metadata": {},
   "outputs": [],
   "source": [
    "#모델 만들기\n",
    "from tensorflow.keras.layers import Flatten, Dense\n",
    "from tensorflow.keras.models import Sequential\n",
    "\n",
    "model = Sequential([\n",
    "        Flatten(input_shape=(28,28)),\n",
    "        Dense(256, activation='relu'),\n",
    "        Dense(10, activation='softmax')\n",
    "])"
   ]
  },
  {
   "cell_type": "code",
   "execution_count": 9,
   "id": "8a70fba4",
   "metadata": {
    "scrolled": true
   },
   "outputs": [
    {
     "name": "stdout",
     "output_type": "stream",
     "text": [
      "Model: \"sequential\"\n",
      "_________________________________________________________________\n",
      " Layer (type)                Output Shape              Param #   \n",
      "=================================================================\n",
      " flatten (Flatten)           (None, 784)               0         \n",
      "                                                                 \n",
      " dense (Dense)               (None, 256)               200960    \n",
      "                                                                 \n",
      " dense_1 (Dense)             (None, 10)                2570      \n",
      "                                                                 \n",
      "=================================================================\n",
      "Total params: 203,530\n",
      "Trainable params: 203,530\n",
      "Non-trainable params: 0\n",
      "_________________________________________________________________\n"
     ]
    }
   ],
   "source": [
    "#모델 요약\n",
    "model.summary()"
   ]
  },
  {
   "cell_type": "markdown",
   "id": "92adb982",
   "metadata": {},
   "source": [
    "* Output Shape = 28x28 = 784"
   ]
  },
  {
   "cell_type": "markdown",
   "id": "39216e78",
   "metadata": {},
   "source": [
    "## 2) 모델 컴파일\n",
    "- 아래 세가지 변수를 설정해준다\n",
    "- optimizer : adam을 주로 많이 쓴다. adam이 성능이 좋대\n",
    "- loss : 다중 분류\n",
    "- metrics : 정확도, R2 이런거 확인"
   ]
  },
  {
   "cell_type": "code",
   "execution_count": 10,
   "id": "98773785",
   "metadata": {},
   "outputs": [],
   "source": [
    "#컴파일\n",
    "model.compile(optimizer='adam', \n",
    "             loss='sparse_categorical_crossentropy',\n",
    "             metrics=['accuracy'])"
   ]
  },
  {
   "cell_type": "markdown",
   "id": "15bfaf92",
   "metadata": {},
   "source": [
    "## 3) 학습\n",
    "- fit(X_train, y_train, epochs=5)\n",
    "- epochs : 전체 데이터가 5번 학습된다. "
   ]
  },
  {
   "cell_type": "code",
   "execution_count": 11,
   "id": "d7b5d782",
   "metadata": {},
   "outputs": [
    {
     "name": "stdout",
     "output_type": "stream",
     "text": [
      "Epoch 1/5\n",
      "1875/1875 [==============================] - 10s 5ms/step - loss: 2.4726 - accuracy: 0.8903\n",
      "Epoch 2/5\n",
      "1875/1875 [==============================] - 9s 5ms/step - loss: 0.3289 - accuracy: 0.9272\n",
      "Epoch 3/5\n",
      "1875/1875 [==============================] - 10s 5ms/step - loss: 0.2721 - accuracy: 0.9363\n",
      "Epoch 4/5\n",
      "1875/1875 [==============================] - 10s 5ms/step - loss: 0.2366 - accuracy: 0.9438\n",
      "Epoch 5/5\n",
      "1875/1875 [==============================] - 9s 5ms/step - loss: 0.2261 - accuracy: 0.9473\n"
     ]
    }
   ],
   "source": [
    "history = model.fit(X_train, y_train, epochs=5)"
   ]
  },
  {
   "cell_type": "markdown",
   "id": "634e3ca0",
   "metadata": {},
   "source": [
    "* Epoch 1/5 : 몇번째 학습인지\n",
    "* 1875 : 60,000개 데이터 아니라, 기본 batch 사이즈가 32이므로 그걸 나누면 1875개로 나옴\n",
    "* loss : 오차 (점점 낮아짐)\n",
    "* accuracy : 정확도 (점점 올라감)"
   ]
  },
  {
   "cell_type": "code",
   "execution_count": 12,
   "id": "75fca369",
   "metadata": {},
   "outputs": [
    {
     "data": {
      "text/plain": [
       "<matplotlib.legend.Legend at 0x7f3ef929fa90>"
      ]
     },
     "execution_count": 12,
     "metadata": {},
     "output_type": "execute_result"
    },
    {
     "data": {
      "image/png": "[encoded data removed]",
      "text/plain": [
       "<Figure size 432x288 with 1 Axes>"
      ]
     },
     "metadata": {
      "needs_background": "light"
     },
     "output_type": "display_data"
    }
   ],
   "source": [
    "#학습 정확도 (epoch에 따른 accuracy 변화)\n",
    "plt.plot(history.history['accuracy'], label='acc')\n",
    "plt.xlabel('epochs')\n",
    "plt.ylabel('accuracy')\n",
    "plt.legend()"
   ]
  },
  {
   "cell_type": "code",
   "execution_count": 13,
   "id": "7204fc1c",
   "metadata": {},
   "outputs": [
    {
     "data": {
      "text/plain": [
       "<matplotlib.legend.Legend at 0x7f3f0378b880>"
      ]
     },
     "execution_count": 13,
     "metadata": {},
     "output_type": "execute_result"
    },
    {
     "data": {
      "image/png": "[encoded data removed]",
      "text/plain": [
       "<Figure size 432x288 with 1 Axes>"
      ]
     },
     "metadata": {
      "needs_background": "light"
     },
     "output_type": "display_data"
    }
   ],
   "source": [
    "#학습 정확도 (epoch에 따른 loss 변화)\n",
    "plt.plot(history.history['loss'], label='acc')\n",
    "plt.xlabel('epochs')\n",
    "plt.ylabel('loss')\n",
    "plt.legend()"
   ]
  },
  {
   "cell_type": "markdown",
   "id": "3bf4d363",
   "metadata": {},
   "source": [
    " ---"
   ]
  },
  {
   "cell_type": "markdown",
   "id": "6f29fefd",
   "metadata": {},
   "source": [
    "# 실습\n",
    "# 1) fashion_mnist 데이터"
   ]
  },
  {
   "cell_type": "code",
   "execution_count": 14,
   "id": "1ae29d1f",
   "metadata": {},
   "outputs": [],
   "source": [
    "import tensorflow as tf\n",
    "import numpy as np\n",
    "import matplotlib.pyplot as plt"
   ]
  },
  {
   "cell_type": "code",
   "execution_count": 15,
   "id": "b2608c8e",
   "metadata": {},
   "outputs": [],
   "source": [
    "mnist = tf.keras.datasets.fashion_mnist\n",
    "(X_train, y_train), (X_test, y_test) = mnist.load_data()"
   ]
  },
  {
   "cell_type": "code",
   "execution_count": 16,
   "id": "893e588e",
   "metadata": {},
   "outputs": [],
   "source": [
    "#정규화 (0~1) 255픽셀이니까요!\n",
    "X_train, X_test = X_train/255.0, X_test/255.0"
   ]
  },
  {
   "cell_type": "code",
   "execution_count": 17,
   "id": "a2e58a6f",
   "metadata": {},
   "outputs": [
    {
     "data": {
      "text/plain": [
       "<matplotlib.image.AxesImage at 0x7f3f1d63fdc0>"
      ]
     },
     "execution_count": 17,
     "metadata": {},
     "output_type": "execute_result"
    },
    {
     "data": {
      "image/png": "[encoded data removed]",
      "text/plain": [
       "<Figure size 432x288 with 1 Axes>"
      ]
     },
     "metadata": {
      "needs_background": "light"
     },
     "output_type": "display_data"
    }
   ],
   "source": [
    "#이미지 확인\n",
    "plt.imshow(X_train[0])"
   ]
  },
  {
   "cell_type": "code",
   "execution_count": 18,
   "id": "a6bf8509",
   "metadata": {},
   "outputs": [
    {
     "data": {
      "text/plain": [
       "9"
      ]
     },
     "execution_count": 18,
     "metadata": {},
     "output_type": "execute_result"
    }
   ],
   "source": [
    "#label 확인\n",
    "y_train[0]"
   ]
  },
  {
   "cell_type": "markdown",
   "id": "570f23e8",
   "metadata": {},
   "source": [
    "* 이렇게만 나오면 무슨 품목인지 모르니까, 이름으로 출력되도록 하자"
   ]
  },
  {
   "cell_type": "code",
   "execution_count": 19,
   "id": "b4001853",
   "metadata": {},
   "outputs": [
    {
     "name": "stdout",
     "output_type": "stream",
     "text": [
      "Ankle boot\n"
     ]
    }
   ],
   "source": [
    "#label 이름 확인\n",
    "classes = ['T-shirt/top', 'Trouser', 'Pullover', 'Dress', 'Coat',\n",
    "          'Sandal', 'Shirt', 'Sneaker', 'Bag', 'Ankle boot']\n",
    "\n",
    "print(classes[y_train[0]])"
   ]
  },
  {
   "cell_type": "markdown",
   "id": "f61d2dee",
   "metadata": {},
   "source": [
    "* 그럼 이번엔 다른 데이터"
   ]
  },
  {
   "cell_type": "code",
   "execution_count": 20,
   "id": "66f653ce",
   "metadata": {},
   "outputs": [
    {
     "name": "stdout",
     "output_type": "stream",
     "text": [
      "T-shirt/top\n"
     ]
    },
    {
     "data": {
      "text/plain": [
       "<matplotlib.image.AxesImage at 0x7f3f1d621e50>"
      ]
     },
     "execution_count": 20,
     "metadata": {},
     "output_type": "execute_result"
    },
    {
     "data": {
      "image/png": "[encoded data removed]",
      "text/plain": [
       "<Figure size 432x288 with 1 Axes>"
      ]
     },
     "metadata": {
      "needs_background": "light"
     },
     "output_type": "display_data"
    }
   ],
   "source": [
    "print(classes[y_train[1]])\n",
    "plt.imshow(X_train[1])"
   ]
  },
  {
   "cell_type": "markdown",
   "id": "bd52107b",
   "metadata": {},
   "source": [
    "* 오케이, 좋아. 그러면 이제 시퀀셜 모델을 만들어서 한 번 tensowflow로 예측을 해보자"
   ]
  },
  {
   "cell_type": "code",
   "execution_count": 21,
   "id": "85658c90",
   "metadata": {},
   "outputs": [],
   "source": [
    "#모델\n",
    "#- Dense : 완전연결\n",
    "#- Dropout : percent를 정할 수 있다 (0.5라고 하면, 2개는 연결하고 2개는 랜덤하게 생략시켜서, 과적합을 방지하는 효과가 있다)\n",
    "\n",
    "from tensorflow.keras.layers import Flatten, Dense, Dropout\n",
    "from tensorflow.keras.models import Sequential\n",
    "\n",
    "model = Sequential([\n",
    "                    Flatten(input_shape=(28,28)),\n",
    "                    Dense(128, activation='relu'),\n",
    "                    Dropout(0.2),\n",
    "                    Dense(10, activation='softmax')\n",
    "])\n",
    "\n",
    "#컴파일\n",
    "#- sparse가 왜 붙냐 : 지금 레이블은 자연수로 되어있으니까 sparse필요한데, \n",
    "#만약 원핫인코딩돼서 0,0,1,0 식이면 sparse라는 단어 필요없이 categorical_crossentropy만 넣어주면 됨\n",
    "model.compile(optimizer='adam',\n",
    "             loss='sparse_categorical_crossentropy',\n",
    "             metrics=['accuracy'])"
   ]
  },
  {
   "cell_type": "code",
   "execution_count": 22,
   "id": "87707f7d",
   "metadata": {},
   "outputs": [
    {
     "name": "stdout",
     "output_type": "stream",
     "text": [
      "Epoch 1/10\n",
      "1875/1875 [==============================] - 9s 4ms/step - loss: 0.5260 - accuracy: 0.8132 - val_loss: 0.4130 - val_accuracy: 0.8533\n",
      "Epoch 2/10\n",
      "1875/1875 [==============================] - 8s 4ms/step - loss: 0.3991 - accuracy: 0.8555 - val_loss: 0.3961 - val_accuracy: 0.8576\n",
      "Epoch 3/10\n",
      "1875/1875 [==============================] - 7s 4ms/step - loss: 0.3639 - accuracy: 0.8680 - val_loss: 0.3771 - val_accuracy: 0.8655\n",
      "Epoch 4/10\n",
      "1875/1875 [==============================] - 7s 4ms/step - loss: 0.3447 - accuracy: 0.8736 - val_loss: 0.3530 - val_accuracy: 0.8727\n",
      "Epoch 5/10\n",
      "1875/1875 [==============================] - 7s 4ms/step - loss: 0.3310 - accuracy: 0.8775 - val_loss: 0.3411 - val_accuracy: 0.8795\n",
      "Epoch 6/10\n",
      "1875/1875 [==============================] - 7s 4ms/step - loss: 0.3173 - accuracy: 0.8825 - val_loss: 0.3411 - val_accuracy: 0.8780\n",
      "Epoch 7/10\n",
      "1875/1875 [==============================] - 7s 4ms/step - loss: 0.3028 - accuracy: 0.8874 - val_loss: 0.3506 - val_accuracy: 0.8752\n",
      "Epoch 8/10\n",
      "1875/1875 [==============================] - 7s 4ms/step - loss: 0.2978 - accuracy: 0.8901 - val_loss: 0.3507 - val_accuracy: 0.8735\n",
      "Epoch 9/10\n",
      "1875/1875 [==============================] - 7s 4ms/step - loss: 0.2867 - accuracy: 0.8936 - val_loss: 0.3406 - val_accuracy: 0.8826\n",
      "Epoch 10/10\n",
      "1875/1875 [==============================] - 7s 3ms/step - loss: 0.2818 - accuracy: 0.8952 - val_loss: 0.3439 - val_accuracy: 0.8782\n"
     ]
    }
   ],
   "source": [
    "#학습\n",
    "history = model.fit(X_train, y_train, validation_data=(X_test, y_test), epochs=10)"
   ]
  },
  {
   "cell_type": "markdown",
   "id": "0f91a0b1",
   "metadata": {},
   "source": [
    "* history 변수에 학습과정을 저장하는 이유는, 아래에서 그림으로 그려보기 위함이다\n",
    "* train loss는 무조건 떨어질텐데, 우리가 중요하게 봐야할 것은 validation_loss이다. 떨어지다가 다시 튀어오를 수도 있으니까.\n",
    "* accuracy도 validation으로 확인해야 한다"
   ]
  },
  {
   "cell_type": "code",
   "execution_count": 23,
   "id": "bd280801",
   "metadata": {},
   "outputs": [
    {
     "data": {
      "text/plain": [
       "<matplotlib.legend.Legend at 0x7f3f1b410af0>"
      ]
     },
     "execution_count": 23,
     "metadata": {},
     "output_type": "execute_result"
    },
    {
     "data": {
      "image/png": "[encoded data removed]",
      "text/plain": [
       "<Figure size 432x288 with 1 Axes>"
      ]
     },
     "metadata": {
      "needs_background": "light"
     },
     "output_type": "display_data"
    }
   ],
   "source": [
    "#시각화 accuracy\n",
    "plt.plot(history.history['accuracy'], label='acc')\n",
    "plt.plot(history.history['val_accuracy'], label='val_acc')\n",
    "plt.xlabel('epochs')\n",
    "plt.ylabel('accuracy')\n",
    "plt.legend()"
   ]
  },
  {
   "cell_type": "code",
   "execution_count": 24,
   "id": "06eb278e",
   "metadata": {},
   "outputs": [
    {
     "data": {
      "text/plain": [
       "<matplotlib.legend.Legend at 0x7f3f1c3c11f0>"
      ]
     },
     "execution_count": 24,
     "metadata": {},
     "output_type": "execute_result"
    },
    {
     "data": {
      "image/png": "[encoded data removed]",
      "text/plain": [
       "<Figure size 432x288 with 1 Axes>"
      ]
     },
     "metadata": {
      "needs_background": "light"
     },
     "output_type": "display_data"
    }
   ],
   "source": [
    "#시각화 loss\n",
    "plt.plot(history.history['loss'], label='loss')\n",
    "plt.plot(history.history['val_loss'], label='val_loss')\n",
    "plt.xlabel('epochs')\n",
    "plt.ylabel('loss')\n",
    "plt.legend()"
   ]
  },
  {
   "cell_type": "markdown",
   "id": "094ca896",
   "metadata": {},
   "source": [
    "### 이제 예측을 해보자!"
   ]
  },
  {
   "cell_type": "code",
   "execution_count": 25,
   "id": "126c698b",
   "metadata": {},
   "outputs": [
    {
     "name": "stdout",
     "output_type": "stream",
     "text": [
      "313/313 [==============================] - 1s 1ms/step\n"
     ]
    },
    {
     "data": {
      "text/plain": [
       "array([3.2296950e-05, 8.6906457e-18, 9.9991053e-01, 1.3597987e-12, 2.7038152e-05, 2.4457223e-19, 3.0060115e-05,\n",
       "       7.0428200e-24, 1.5020138e-12, 3.4282814e-20], dtype=float32)"
      ]
     },
     "execution_count": 25,
     "metadata": {},
     "output_type": "execute_result"
    }
   ],
   "source": [
    "pred = model.predict(X_test)\n",
    "pred[1]"
   ]
  },
  {
   "cell_type": "code",
   "execution_count": 26,
   "id": "60f2b996",
   "metadata": {},
   "outputs": [
    {
     "data": {
      "text/plain": [
       "2"
      ]
     },
     "execution_count": 26,
     "metadata": {},
     "output_type": "execute_result"
    }
   ],
   "source": [
    "#가장 높은 값 찾기 (np.argmax()는 데이터 중 가장 높은 인덱스값을 반환한다)\n",
    "np.argmax(pred[1])"
   ]
  },
  {
   "cell_type": "code",
   "execution_count": 27,
   "id": "3d3ad104",
   "metadata": {},
   "outputs": [
    {
     "data": {
      "text/plain": [
       "'Pullover'"
      ]
     },
     "execution_count": 27,
     "metadata": {},
     "output_type": "execute_result"
    }
   ],
   "source": [
    "#예측한 label\n",
    "classes[np.argmax(pred[1])]"
   ]
  },
  {
   "cell_type": "code",
   "execution_count": 28,
   "id": "0739d6cd",
   "metadata": {},
   "outputs": [
    {
     "data": {
      "text/plain": [
       "'Pullover'"
      ]
     },
     "execution_count": 28,
     "metadata": {},
     "output_type": "execute_result"
    }
   ],
   "source": [
    "#실제 label\n",
    "classes[y_test[1]]"
   ]
  },
  {
   "cell_type": "code",
   "execution_count": 29,
   "id": "0489aff8",
   "metadata": {},
   "outputs": [
    {
     "data": {
      "text/plain": [
       "<matplotlib.image.AxesImage at 0x7f3f1c35a850>"
      ]
     },
     "execution_count": 29,
     "metadata": {},
     "output_type": "execute_result"
    },
    {
     "data": {
      "image/png": "[encoded data removed]",
      "text/plain": [
       "<Figure size 432x288 with 1 Axes>"
      ]
     },
     "metadata": {
      "needs_background": "light"
     },
     "output_type": "display_data"
    }
   ],
   "source": [
    "#이미지 확인\n",
    "plt.imshow(X_test[1])"
   ]
  },
  {
   "cell_type": "markdown",
   "id": "8686cb46",
   "metadata": {},
   "source": [
    "# CNN 을 활용한 이미지 분류\n",
    "- CNN : Convolution Neural Network"
   ]
  },
  {
   "cell_type": "code",
   "execution_count": 30,
   "id": "0192d8dd",
   "metadata": {},
   "outputs": [],
   "source": [
    "#라이브러리\n",
    "import tensorflow as tf\n",
    "import matplotlib.pyplot as plt\n",
    "from tensorflow.keras.layers import Flatten, Dense, Dropout, Conv2D, MaxPooling2D\n",
    "from tensorflow.keras.models import Sequential\n",
    "\n",
    "#데이터 불러오기\n",
    "mnist = tf.keras.datasets.fashion_mnist\n",
    "(X_train, y_train), (X_test, y_test) = mnist.load_data()\n",
    "\n",
    "#shape변경 (Convolusion layer에 넣기 위해서는 reshape이 필요하다)\n",
    "X_train = X_train.reshape((60000, 28, 28, 1))\n",
    "X_test = X_test.reshape((10000, 28, 28, 1))\n",
    "\n",
    "#정규화 (0~1)\n",
    "X_train, X_test = X_train/255.0, X_test/255.0\n",
    "\n",
    "#모델\n",
    "model = Sequential([\n",
    "                    Conv2D(32, (3,3), activation='relu', input_shape=(28, 28, 1)),\n",
    "                    MaxPooling2D((2,2)),\n",
    "                    Conv2D(64, (3,3), activation='relu',),\n",
    "                    MaxPooling2D((2,2)),\n",
    "                    Flatten(),\n",
    "                    Dense(64, activation='relu',),\n",
    "                    Dense(10, activation='softmax')\n",
    "])\n",
    "\n",
    "#컴파일\n",
    "model.compile(optimizer='adam', loss='sparse_categorical_crossentropy', metrics=['accuracy'])"
   ]
  },
  {
   "cell_type": "markdown",
   "id": "55d83496",
   "metadata": {},
   "source": [
    "* Conv2D + MaxPooling2D를 같이 짝꿍처럼 묶어서 쓴다"
   ]
  },
  {
   "cell_type": "code",
   "execution_count": 31,
   "id": "92b727ff",
   "metadata": {},
   "outputs": [
    {
     "name": "stdout",
     "output_type": "stream",
     "text": [
      "Model: \"sequential_2\"\n",
      "_________________________________________________________________\n",
      " Layer (type)                Output Shape              Param #   \n",
      "=================================================================\n",
      " conv2d (Conv2D)             (None, 26, 26, 32)        320       \n",
      "                                                                 \n",
      " max_pooling2d (MaxPooling2D  (None, 13, 13, 32)       0         \n",
      " )                                                               \n",
      "                                                                 \n",
      " conv2d_1 (Conv2D)           (None, 11, 11, 64)        18496     \n",
      "                                                                 \n",
      " max_pooling2d_1 (MaxPooling  (None, 5, 5, 64)         0         \n",
      " 2D)                                                             \n",
      "                                                                 \n",
      " flatten_2 (Flatten)         (None, 1600)              0         \n",
      "                                                                 \n",
      " dense_4 (Dense)             (None, 64)                102464    \n",
      "                                                                 \n",
      " dense_5 (Dense)             (None, 10)                650       \n",
      "                                                                 \n",
      "=================================================================\n",
      "Total params: 121,930\n",
      "Trainable params: 121,930\n",
      "Non-trainable params: 0\n",
      "_________________________________________________________________\n"
     ]
    }
   ],
   "source": [
    "model.summary()"
   ]
  },
  {
   "cell_type": "markdown",
   "id": "8c9b879f",
   "metadata": {},
   "source": [
    "* (None, 11, 11, 64) : (11x11) 행렬이 64개 있다는 말 \n",
    "* flatten : 5x5x64 = 1600으로 한줄로 쭉 펼쳐지는 것"
   ]
  },
  {
   "cell_type": "code",
   "execution_count": 32,
   "id": "fb63f4e0",
   "metadata": {},
   "outputs": [
    {
     "name": "stdout",
     "output_type": "stream",
     "text": [
      "Epoch 1/5\n",
      "1875/1875 [==============================] - 134s 71ms/step - loss: 0.4712 - accuracy: 0.8293 - val_loss: 0.3968 - val_accuracy: 0.8579\n",
      "Epoch 2/5\n",
      "1875/1875 [==============================] - 138s 74ms/step - loss: 0.3174 - accuracy: 0.8852 - val_loss: 0.3140 - val_accuracy: 0.8872\n",
      "Epoch 3/5\n",
      "1875/1875 [==============================] - 130s 69ms/step - loss: 0.2698 - accuracy: 0.9020 - val_loss: 0.2991 - val_accuracy: 0.8911\n",
      "Epoch 4/5\n",
      "1875/1875 [==============================] - 129s 69ms/step - loss: 0.2387 - accuracy: 0.9129 - val_loss: 0.2767 - val_accuracy: 0.8979\n",
      "Epoch 5/5\n",
      "1875/1875 [==============================] - 129s 69ms/step - loss: 0.2133 - accuracy: 0.9214 - val_loss: 0.2713 - val_accuracy: 0.9021\n"
     ]
    }
   ],
   "source": [
    "#학습\n",
    "history = model.fit(X_train, y_train, validation_data=(X_test, y_test), epochs=5)"
   ]
  },
  {
   "cell_type": "code",
   "execution_count": 33,
   "id": "2d161479",
   "metadata": {},
   "outputs": [
    {
     "data": {
      "text/plain": [
       "<matplotlib.legend.Legend at 0x7f3f1ca9eac0>"
      ]
     },
     "execution_count": 33,
     "metadata": {},
     "output_type": "execute_result"
    },
    {
     "data": {
      "image/png": "[encoded data removed]",
      "text/plain": [
       "<Figure size 432x288 with 1 Axes>"
      ]
     },
     "metadata": {
      "needs_background": "light"
     },
     "output_type": "display_data"
    }
   ],
   "source": [
    "#시각화 accuracy\n",
    "plt.plot(history.history['accuracy'], label='train_acc')\n",
    "plt.plot(history.history['val_accuracy'], label='val_acc')\n",
    "plt.xlabel('epochs')\n",
    "plt.ylabel('accuracy')\n",
    "plt.legend()"
   ]
  },
  {
   "cell_type": "code",
   "execution_count": 34,
   "id": "1cabdb5a",
   "metadata": {},
   "outputs": [
    {
     "data": {
      "text/plain": [
       "<matplotlib.legend.Legend at 0x7f3f1ca17ca0>"
      ]
     },
     "execution_count": 34,
     "metadata": {},
     "output_type": "execute_result"
    },
    {
     "data": {
      "image/png": "[encoded data removed]",
      "text/plain": [
       "<Figure size 432x288 with 1 Axes>"
      ]
     },
     "metadata": {
      "needs_background": "light"
     },
     "output_type": "display_data"
    }
   ],
   "source": [
    "#시각화 loss\n",
    "plt.plot(history.history['loss'], label='train_loss')\n",
    "plt.plot(history.history['val_loss'], label='val_loss')\n",
    "plt.xlabel('epochs')\n",
    "plt.ylabel('loss')\n",
    "plt.legend()"
   ]
  },
  {
   "cell_type": "code",
   "execution_count": null,
   "id": "cd70f4fd",
   "metadata": {},
   "outputs": [],
   "source": []
  }
 ],
 "metadata": {
  "kernelspec": {
   "display_name": "Python 3 (ipykernel)",
   "language": "python",
   "name": "python3"
  },
  "language_info": {
   "codemirror_mode": {
    "name": "ipython",
    "version": 3
   },
   "file_extension": ".py",
   "mimetype": "text/x-python",
   "name": "python",
   "nbconvert_exporter": "python",
   "pygments_lexer": "ipython3",
   "version": "3.9.7"
  }
 },
 "nbformat": 4,
 "nbformat_minor": 5
}
