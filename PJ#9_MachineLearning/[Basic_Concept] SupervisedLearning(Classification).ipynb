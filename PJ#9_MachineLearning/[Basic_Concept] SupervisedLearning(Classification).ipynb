{
 "cells": [
  {
   "cell_type": "code",
   "execution_count": 1,
   "id": "82708a8c",
   "metadata": {},
   "outputs": [
    {
     "data": {
      "text/plain": [
       "((284, 30), (285, 30), (284,), (285,))"
      ]
     },
     "execution_count": 1,
     "metadata": {},
     "output_type": "execute_result"
    }
   ],
   "source": [
    "# 데이터 로드\n",
    "import pandas as pd\n",
    "from sklearn.model_selection import train_test_split\n",
    "from sklearn.metrics import accuracy_score\n",
    "from sklearn.datasets import load_breast_cancer\n",
    "\n",
    "def make_dataset():\n",
    "    bc = load_breast_cancer()\n",
    "    df = pd.DataFrame(bc.data, columns=bc.feature_names)\n",
    "    df['target'] = bc.target\n",
    "    X_train, X_test, y_train, y_test = train_test_split(\n",
    "        df.drop('target', axis=1), df['target'], test_size=0.5, random_state=1004)\n",
    "    return X_train, X_test, y_train, y_test\n",
    "\n",
    "X_train, X_test, y_train, y_test = make_dataset()\n",
    "X_train.shape, X_test.shape, y_train.shape, y_test.shape"
   ]
  },
  {
   "cell_type": "markdown",
   "id": "7b6c50ca",
   "metadata": {},
   "source": [
    "# 1. 의사결정 나무 (Decision Tree)\n",
    "- 트리의 루트(root)에서 시작해서 정보이득이 최대가 되는 특성으로 데이터를 분류합니다.\n",
    "- 지도학습 알고리즘 (분류, 회귀) 에 모두 사용 가능\n",
    "- 직관적 모델 형태   \n",
    "- 정보 이득(info gain = 1-불순도) 가 최대가 되는 특성을 나누는 기준은 ‘지니’, & ‘엔트로피’\n",
    "- 데이터가 1개 종류뿐이면 지니/엔트로피 불순도는 0에 가깝다.\n",
    "- 서로 다른 데이터 비율이 비슷하면 불순도는 1에 가깝다"
   ]
  },
  {
   "cell_type": "code",
   "execution_count": 2,
   "id": "712ff487",
   "metadata": {},
   "outputs": [],
   "source": [
    "from sklearn.tree import DecisionTreeClassifier"
   ]
  },
  {
   "cell_type": "code",
   "execution_count": 6,
   "id": "f0ba5774",
   "metadata": {},
   "outputs": [
    {
     "data": {
      "text/plain": [
       "array([1, 0, 1, 1, 0, 0, 0, 1, 0, 1, 1, 1, 0, 1, 1, 1, 1, 1, 0, 1, 1, 0,\n",
       "       0, 1, 1, 0, 1, 1, 1, 1, 1, 1, 0, 0, 1, 0, 1, 0, 0, 0, 1, 0, 1, 0,\n",
       "       1, 1, 1, 0, 0, 0, 1, 1, 1, 1, 0, 0, 1, 1, 1, 0, 1, 0, 1, 1, 1, 0,\n",
       "       1, 1, 1, 1, 1, 1, 1, 0, 1, 1, 0, 1, 0, 0, 0, 1, 1, 0, 1, 0, 0, 1,\n",
       "       1, 0, 1, 0, 1, 1, 0, 0, 1, 1, 1, 1, 1, 1, 1, 0, 0, 1, 1, 1, 1, 1,\n",
       "       1, 0, 0, 1, 0, 0, 1, 1, 0, 1, 0, 1, 1, 0, 0, 0, 0, 1, 0, 1, 1, 1,\n",
       "       1, 0, 1, 1, 1, 1, 0, 1, 0, 1, 1, 0, 0, 0, 1, 1, 0, 0, 0, 0, 0, 1,\n",
       "       1, 1, 0, 1, 1, 1, 1, 1, 1, 1, 1, 1, 1, 1, 1, 1, 0, 1, 1, 0, 1, 1,\n",
       "       1, 1, 1, 1, 0, 1, 1, 1, 1, 1, 1, 1, 1, 0, 1, 1, 0, 1, 0, 0, 1, 0,\n",
       "       1, 1, 1, 0, 1, 1, 1, 0, 1, 1, 1, 0, 0, 1, 1, 1, 1, 1, 1, 1, 1, 1,\n",
       "       1, 0, 1, 1, 0, 1, 0, 1, 1, 1, 1, 0, 1, 0, 0, 0, 0, 1, 0, 0, 1, 0,\n",
       "       0, 1, 0, 0, 1, 1, 1, 1, 1, 0, 1, 0, 1, 0, 0, 1, 1, 0, 1, 1, 1, 1,\n",
       "       1, 1, 1, 1, 0, 1, 1, 0, 1, 0, 1, 0, 0, 1, 0, 0, 0, 0, 1, 1, 1])"
      ]
     },
     "execution_count": 6,
     "metadata": {},
     "output_type": "execute_result"
    }
   ],
   "source": [
    "#random state 값 무조건 지정해주기\n",
    "\n",
    "model = DecisionTreeClassifier(random_state=0)\n",
    "model.fit(X_train, y_train)\n",
    "pred = model.predict(X_test)\n",
    "pred"
   ]
  },
  {
   "cell_type": "code",
   "execution_count": 7,
   "id": "c491d47c",
   "metadata": {},
   "outputs": [
    {
     "data": {
      "text/plain": [
       "0.9263157894736842"
      ]
     },
     "execution_count": 7,
     "metadata": {},
     "output_type": "execute_result"
    }
   ],
   "source": [
    "#정확도 검증 (accuracy_score(실제값, 예측값))\n",
    "\n",
    "accuracy_score(y_test, pred)"
   ]
  },
  {
   "cell_type": "markdown",
   "id": "dd357be1",
   "metadata": {},
   "source": [
    "# 의사결정나무 하이퍼 파라미터\n",
    "- criterion(기본값 gini) : 불순도 지표 (혹은 엔트로피 entropy)\n",
    "- max depth(기본값 None) : 최대한도 깊이 (지정 안해줄 경우 overfitting될 수 있다)\n",
    "- min_samples_split(기본값 2) : 자식 노드 갖기 위한 최소한의 데이터 수\n",
    "- min_samples_leaf (기본값 1) : 잎 노드가 되기 위한 최소한의 샘플 수"
   ]
  },
  {
   "cell_type": "code",
   "execution_count": 45,
   "id": "ca757349",
   "metadata": {},
   "outputs": [
    {
     "data": {
      "text/plain": [
       "0.9403508771929825"
      ]
     },
     "execution_count": 45,
     "metadata": {},
     "output_type": "execute_result"
    }
   ],
   "source": [
    "from sklearn.tree import DecisionTreeClassifier\n",
    "model = DecisionTreeClassifier(\n",
    "    criterion = 'entropy', \n",
    "    max_depth =4, \n",
    "    min_samples_split = 5,\n",
    "    min_samples_leaf=2, \n",
    "    random_state=0)\n",
    "model.fit(X_train, y_train)\n",
    "pred = model.predict(X_test)\n",
    "accuracy_score(y_test, pred)"
   ]
  },
  {
   "cell_type": "markdown",
   "id": "1b6d266b",
   "metadata": {},
   "source": [
    "# 2. 랜덤 포레스트\n",
    "- 지도학습 알고리즘 (분류, 회귀) 에 모두 사용 가능\n",
    "- 의사결정 나무의 앙상블\n",
    "- 성능이 좋다 (overfitting 가능성 낮음)\n",
    "- 부트스트랩 샘플링 (데이터셋 중복 허용)\n",
    "- 최종 다수결 투표 형식\n",
    "- 배깅 : 같은 알고리즘으로 여러 모델 만들어 분류 (랜덤 포레스트)\n",
    "- 부스팅 : 학습, 예측하며 가중치 반영 (xgboost)\n"
   ]
  },
  {
   "cell_type": "code",
   "execution_count": 46,
   "id": "7910715e",
   "metadata": {},
   "outputs": [
    {
     "data": {
      "text/plain": [
       "0.9438596491228071"
      ]
     },
     "execution_count": 46,
     "metadata": {},
     "output_type": "execute_result"
    }
   ],
   "source": [
    "from sklearn.ensemble import RandomForestClassifier\n",
    "model = RandomForestClassifier(random_state=0)\n",
    "model.fit(X_train, y_train)\n",
    "pred = model.predict(X_test)\n",
    "accuracy_score(y_test, pred)"
   ]
  },
  {
   "cell_type": "markdown",
   "id": "3158426e",
   "metadata": {},
   "source": [
    "# 랜덤포레스트 하이퍼 파라미터\n",
    "- n_estimators (기본값100) : 트리의 수\n",
    "- criterion(기본값 gini) : 불순도 지표\n",
    "- max depth(기본값 None) : 최대한도 깊이\n",
    "- min_samples_split\n",
    "- min_samples_leaf"
   ]
  },
  {
   "cell_type": "code",
   "execution_count": 49,
   "id": "2015293a",
   "metadata": {},
   "outputs": [
    {
     "data": {
      "text/plain": [
       "0.9438596491228071"
      ]
     },
     "execution_count": 49,
     "metadata": {},
     "output_type": "execute_result"
    }
   ],
   "source": [
    "from sklearn.ensemble import RandomForestClassifier\n",
    "model = RandomForestClassifier(n_estimators=100, max_depth=3, random_state=0)\n",
    "model.fit(X_train,y_train)\n",
    "pred = model.predict(X_test)\n",
    "accuracy_score(y_test, pred)\n",
    "\n",
    "#0.9473684210526315 , n_estimators=200, max_depth=3 "
   ]
  },
  {
   "cell_type": "markdown",
   "id": "e1240cd1",
   "metadata": {},
   "source": [
    "# 3. XgBoost\n",
    "- eXtreme Gradient Boosting\n",
    "- 부스팅(앙상블) 기반 알고리즘\n",
    "- 트리 앙상블 중 성능이 좋은 알고리즘    \n",
    "\n",
    "  \n",
    "- booster(기본값 gbtree): 부스팅 알고리즘 (또는 dart, gblinear)\n",
    "- objective(기본값 binary:logistic): 이진분류 (다중분류: multi:softmax)\n",
    "- max_depth(기본값 6): 최대 한도 깊이\n",
    "- learning_rate(기본값 0.1): 학습률\n",
    "- n_estimators(기본값 100): 트리의 수\n",
    "- subsample(기본값 1): 훈련 샘플 개수의 비율\n",
    "- colsample_bytree(기본값 1): 특성 개수의 비율\n",
    "- n_jobs(기본값 1): 사용 코어 수 (-1: 모든 코어를 다 사용)"
   ]
  },
  {
   "cell_type": "code",
   "execution_count": 51,
   "id": "5d2e66fd",
   "metadata": {},
   "outputs": [
    {
     "data": {
      "text/plain": [
       "0.9508771929824561"
      ]
     },
     "execution_count": 51,
     "metadata": {},
     "output_type": "execute_result"
    }
   ],
   "source": [
    "from xgboost import XGBClassifier\n",
    "model = XGBClassifier(random_state=0, use_label_encoder=False, eval_metric='logloss')\n",
    "model.fit(X_train, y_train)\n",
    "pred = model.predict(X_test)\n",
    "accuracy_score(y_test, pred)"
   ]
  },
  {
   "cell_type": "markdown",
   "id": "921415a7",
   "metadata": {},
   "source": [
    "# XgBoost 하이퍼파라미터"
   ]
  },
  {
   "cell_type": "code",
   "execution_count": 58,
   "id": "23a313db",
   "metadata": {},
   "outputs": [
    {
     "data": {
      "text/plain": [
       "0.9649122807017544"
      ]
     },
     "execution_count": 58,
     "metadata": {},
     "output_type": "execute_result"
    }
   ],
   "source": [
    "from xgboost import XGBClassifier\n",
    "model = XGBClassifier(\n",
    "    random_state=0,\n",
    "    use_label_encoder=False,\n",
    "    eval_metric='logloss',\n",
    "    booster= 'gbtree',\n",
    "    objective='binary:logistic',\n",
    "    max_depth=5,\n",
    "    learning_rate=0.05,\n",
    "    n_estimators=500,\n",
    "    subsample=1,\n",
    "    colsample_bytree=1,\n",
    "    n_jobs = -1)\n",
    "model.fit(X_train, y_train)\n",
    "pred = model.predict(X_test)\n",
    "accuracy_score(y_test, pred)\n",
    "\n",
    "#0.9649122807017544 max_depth=4\n"
   ]
  },
  {
   "cell_type": "code",
   "execution_count": 62,
   "id": "0d1fc4dc",
   "metadata": {},
   "outputs": [
    {
     "name": "stdout",
     "output_type": "stream",
     "text": [
      "[0]\tvalidation_0-logloss:0.63880\n",
      "[1]\tvalidation_0-logloss:0.59157\n",
      "[2]\tvalidation_0-logloss:0.55021\n",
      "[3]\tvalidation_0-logloss:0.51449\n",
      "[4]\tvalidation_0-logloss:0.48246\n",
      "[5]\tvalidation_0-logloss:0.45355\n",
      "[6]\tvalidation_0-logloss:0.42780\n",
      "[7]\tvalidation_0-logloss:0.40420\n",
      "[8]\tvalidation_0-logloss:0.38292\n",
      "[9]\tvalidation_0-logloss:0.36367\n",
      "[10]\tvalidation_0-logloss:0.34635\n",
      "[11]\tvalidation_0-logloss:0.33034\n",
      "[12]\tvalidation_0-logloss:0.31616\n",
      "[13]\tvalidation_0-logloss:0.30343\n",
      "[14]\tvalidation_0-logloss:0.29195\n",
      "[15]\tvalidation_0-logloss:0.28100\n",
      "[16]\tvalidation_0-logloss:0.27132\n",
      "[17]\tvalidation_0-logloss:0.26184\n",
      "[18]\tvalidation_0-logloss:0.25334\n",
      "[19]\tvalidation_0-logloss:0.24553\n",
      "[20]\tvalidation_0-logloss:0.23862\n",
      "[21]\tvalidation_0-logloss:0.23211\n",
      "[22]\tvalidation_0-logloss:0.22642\n",
      "[23]\tvalidation_0-logloss:0.22168\n",
      "[24]\tvalidation_0-logloss:0.21725\n",
      "[25]\tvalidation_0-logloss:0.21317\n",
      "[26]\tvalidation_0-logloss:0.20890\n",
      "[27]\tvalidation_0-logloss:0.20540\n",
      "[28]\tvalidation_0-logloss:0.20107\n",
      "[29]\tvalidation_0-logloss:0.19800\n",
      "[30]\tvalidation_0-logloss:0.19552\n",
      "[31]\tvalidation_0-logloss:0.19308\n",
      "[32]\tvalidation_0-logloss:0.19007\n",
      "[33]\tvalidation_0-logloss:0.18747\n",
      "[34]\tvalidation_0-logloss:0.18458\n",
      "[35]\tvalidation_0-logloss:0.18219\n",
      "[36]\tvalidation_0-logloss:0.18098\n",
      "[37]\tvalidation_0-logloss:0.17886\n",
      "[38]\tvalidation_0-logloss:0.17714\n",
      "[39]\tvalidation_0-logloss:0.17536\n",
      "[40]\tvalidation_0-logloss:0.17369\n",
      "[41]\tvalidation_0-logloss:0.17137\n",
      "[42]\tvalidation_0-logloss:0.17047\n",
      "[43]\tvalidation_0-logloss:0.16921\n",
      "[44]\tvalidation_0-logloss:0.16870\n",
      "[45]\tvalidation_0-logloss:0.16774\n",
      "[46]\tvalidation_0-logloss:0.16635\n",
      "[47]\tvalidation_0-logloss:0.16578\n",
      "[48]\tvalidation_0-logloss:0.16537\n",
      "[49]\tvalidation_0-logloss:0.16525\n",
      "[50]\tvalidation_0-logloss:0.16543\n",
      "[51]\tvalidation_0-logloss:0.16566\n",
      "[52]\tvalidation_0-logloss:0.16531\n",
      "[53]\tvalidation_0-logloss:0.16485\n",
      "[54]\tvalidation_0-logloss:0.16489\n",
      "[55]\tvalidation_0-logloss:0.16383\n",
      "[56]\tvalidation_0-logloss:0.16362\n",
      "[57]\tvalidation_0-logloss:0.16226\n",
      "[58]\tvalidation_0-logloss:0.16257\n",
      "[59]\tvalidation_0-logloss:0.16245\n",
      "[60]\tvalidation_0-logloss:0.16162\n",
      "[61]\tvalidation_0-logloss:0.16201\n",
      "[62]\tvalidation_0-logloss:0.16088\n",
      "[63]\tvalidation_0-logloss:0.16107\n",
      "[64]\tvalidation_0-logloss:0.16182\n",
      "[65]\tvalidation_0-logloss:0.16227\n",
      "[66]\tvalidation_0-logloss:0.16237\n",
      "[67]\tvalidation_0-logloss:0.16269\n",
      "[68]\tvalidation_0-logloss:0.16328\n",
      "[69]\tvalidation_0-logloss:0.16352\n",
      "[70]\tvalidation_0-logloss:0.16249\n",
      "[71]\tvalidation_0-logloss:0.16301\n",
      "[72]\tvalidation_0-logloss:0.16335\n"
     ]
    },
    {
     "data": {
      "text/plain": [
       "0.9473684210526315"
      ]
     },
     "execution_count": 62,
     "metadata": {},
     "output_type": "execute_result"
    }
   ],
   "source": [
    "# 조기 종료 (ex. 10번을 돌렸는데 성능이 더 좋아지지 않으면 멈춰라. (숫자가 작아질수록 좋은거))\n",
    "\n",
    "model = XGBClassifier(\n",
    "    random_state=0,\n",
    "    use_label_encoder=False,\n",
    "    eval_metric='logloss',\n",
    "    learning_rate=0.07,\n",
    "    n_estimators=500)\n",
    "\n",
    "\n",
    "eval_set = [(X_test, y_test)]\n",
    "model.fit(X_train, y_train, eval_set=eval_set, early_stopping_rounds= 10)\n",
    "pred = model.predict(X_test)\n",
    "accuracy_score(y_test, pred)"
   ]
  },
  {
   "cell_type": "markdown",
   "id": "6550ef56",
   "metadata": {},
   "source": [
    "# 4. 교차검증\n",
    "- 전체데이터에서 KFold(k=5)데이터를 5개로 쪼개서, 4개는 학습용, 1개는 검증용으로 사용"
   ]
  },
  {
   "cell_type": "markdown",
   "id": "fde8ece7",
   "metadata": {},
   "source": [
    "# KFold \n",
    "- 가장 일반적으로 사용되는 교차검증 기법"
   ]
  },
  {
   "cell_type": "code",
   "execution_count": 75,
   "id": "ff6eab74",
   "metadata": {},
   "outputs": [],
   "source": [
    "def make_dataset2():\n",
    "    bc = load_breast_cancer()\n",
    "    df = pd.DataFrame(bc.data, columns=bc.feature_names)\n",
    "    df['target'] = bc.target\n",
    "    return df.drop('target', axis=1), df['target']\n",
    "X, y = make_dataset2()"
   ]
  },
  {
   "cell_type": "code",
   "execution_count": 80,
   "id": "a6da452e",
   "metadata": {},
   "outputs": [
    {
     "name": "stdout",
     "output_type": "stream",
     "text": [
      "0.8771929824561403\n",
      "0.9122807017543859\n",
      "0.9473684210526315\n",
      "0.9385964912280702\n",
      "0.8407079646017699\n"
     ]
    }
   ],
   "source": [
    "from sklearn.model_selection import KFold\n",
    "\n",
    "model = DecisionTreeClassifier(random_state=0)\n",
    "\n",
    "kfold = KFold(n_splits=5)\n",
    "\n",
    "for train_idx, test_idx in kfold.split(X):\n",
    "    X_train, X_test = X.iloc[train_idx], X.iloc[test_idx]\n",
    "    y_train, y_test = y.iloc[train_idx], y.iloc[test_idx]\n",
    "    \n",
    "    model.fit(X_train, y_train)\n",
    "    pred = model.predict(X_test)\n",
    "    print(accuracy_score(y_test, pred))"
   ]
  },
  {
   "cell_type": "markdown",
   "id": "39a207be",
   "metadata": {},
   "source": [
    "# StratifiedKfold\n",
    "- 불균형한 타겟(y)비율 가진 데이터를 확인하고, 이것이 한쪽으로 치우치는 것을 방지"
   ]
  },
  {
   "cell_type": "code",
   "execution_count": 82,
   "id": "2b6ab9e0",
   "metadata": {},
   "outputs": [
    {
     "name": "stdout",
     "output_type": "stream",
     "text": [
      "0.9035087719298246\n",
      "0.9210526315789473\n",
      "0.9122807017543859\n",
      "0.9473684210526315\n",
      "0.9026548672566371\n"
     ]
    }
   ],
   "source": [
    "from sklearn.model_selection import StratifiedKFold\n",
    "\n",
    "model = DecisionTreeClassifier(random_state=0)\n",
    "\n",
    "kfold = StratifiedKFold(n_splits=5)\n",
    "\n",
    "for train_idx, test_idx in kfold.split(X, y):\n",
    "    X_train, X_test = X.iloc[train_idx], X.iloc[test_idx]\n",
    "    y_train, y_test = y.iloc[train_idx], y.iloc[test_idx]\n",
    "    \n",
    "    model.fit(X_train, y_train)\n",
    "    pred = model.predict(X_test)\n",
    "    print(accuracy_score(y_test, pred))"
   ]
  },
  {
   "cell_type": "markdown",
   "id": "4d681772",
   "metadata": {},
   "source": [
    "* 편차가 줄어들었다. 그냥 KFold는 84-94% 범위였지만, StratifiedKfold는 90-94%"
   ]
  },
  {
   "cell_type": "markdown",
   "id": "72422c41",
   "metadata": {},
   "source": [
    "# 사이킷런 교차 검증\n",
    "- fit- predict - evaluation"
   ]
  },
  {
   "cell_type": "code",
   "execution_count": 83,
   "id": "9c5172d4",
   "metadata": {},
   "outputs": [
    {
     "data": {
      "text/plain": [
       "array([0.88947368, 0.94210526, 0.86243386])"
      ]
     },
     "execution_count": 83,
     "metadata": {},
     "output_type": "execute_result"
    }
   ],
   "source": [
    "from sklearn.model_selection import cross_val_score\n",
    "scores = cross_val_score(model, X, y, cv=3)\n",
    "scores"
   ]
  },
  {
   "cell_type": "code",
   "execution_count": 84,
   "id": "879ad6a0",
   "metadata": {},
   "outputs": [
    {
     "data": {
      "text/plain": [
       "0.8980042699340944"
      ]
     },
     "execution_count": 84,
     "metadata": {},
     "output_type": "execute_result"
    }
   ],
   "source": [
    "scores.mean()"
   ]
  },
  {
   "cell_type": "code",
   "execution_count": 87,
   "id": "6303c004",
   "metadata": {},
   "outputs": [
    {
     "data": {
      "text/plain": [
       "array([0.90350877, 0.92105263, 0.9122807 , 0.94736842, 0.90265487])"
      ]
     },
     "execution_count": 87,
     "metadata": {},
     "output_type": "execute_result"
    }
   ],
   "source": [
    "# 교차검증 Stratified Kfold\n",
    "\n",
    "kfold = StratifiedKFold(n_splits=5)\n",
    "scores = cross_val_score(model, X, y, cv=kfold)\n",
    "scores"
   ]
  },
  {
   "cell_type": "markdown",
   "id": "b571a701",
   "metadata": {},
   "source": [
    "# 5. 평가\n",
    "- Accuracy : 실제값, 예측값 일치 비율 \n",
    "- precision : 양성으로 예측한 값 중 실제 양성인 값 (precision, recall은 역의 관계)\n",
    "- recall : 실제 양성 값 중 양성으로 예측한 값\n",
    "- F1 : precision, recall의 조화평균\n",
    "- ROC-AUC \n",
    "    - ROC(참 양성비율에 대한 거짓양성비율)\n",
    "    - AUC(ROC곡선 면적 아래. 완벽히 분류되면 AUC=1)"
   ]
  },
  {
   "cell_type": "code",
   "execution_count": 88,
   "id": "7e56ab4f",
   "metadata": {},
   "outputs": [
    {
     "data": {
      "text/plain": [
       "0.9026548672566371"
      ]
     },
     "execution_count": 88,
     "metadata": {},
     "output_type": "execute_result"
    }
   ],
   "source": [
    "# accuracy\n",
    "\n",
    "from sklearn.metrics import accuracy_score\n",
    "accuracy_score(y_test, pred)"
   ]
  },
  {
   "cell_type": "code",
   "execution_count": 89,
   "id": "272f8f1d",
   "metadata": {},
   "outputs": [
    {
     "data": {
      "text/plain": [
       "0.9545454545454546"
      ]
     },
     "execution_count": 89,
     "metadata": {},
     "output_type": "execute_result"
    }
   ],
   "source": [
    "# precision\n",
    "\n",
    "from sklearn.metrics import precision_score\n",
    "precision_score(y_test, pred)"
   ]
  },
  {
   "cell_type": "code",
   "execution_count": 90,
   "id": "35189afd",
   "metadata": {},
   "outputs": [
    {
     "data": {
      "text/plain": [
       "0.8873239436619719"
      ]
     },
     "execution_count": 90,
     "metadata": {},
     "output_type": "execute_result"
    }
   ],
   "source": [
    "# recall\n",
    "\n",
    "from sklearn.metrics import recall_score\n",
    "recall_score(y_test, pred)"
   ]
  },
  {
   "cell_type": "code",
   "execution_count": 91,
   "id": "cc23563a",
   "metadata": {},
   "outputs": [
    {
     "data": {
      "text/plain": [
       "0.9197080291970803"
      ]
     },
     "execution_count": 91,
     "metadata": {},
     "output_type": "execute_result"
    }
   ],
   "source": [
    "# f1 score\n",
    "\n",
    "from sklearn.metrics import f1_score\n",
    "f1_score(y_test, pred)"
   ]
  },
  {
   "cell_type": "code",
   "execution_count": 96,
   "id": "468222c6",
   "metadata": {},
   "outputs": [
    {
     "data": {
      "text/plain": [
       "0.999664654594232"
      ]
     },
     "execution_count": 96,
     "metadata": {},
     "output_type": "execute_result"
    }
   ],
   "source": [
    "# roc_auc (predict_proba 가 중요!)\n",
    "\n",
    "from sklearn.metrics import roc_auc_score\n",
    "model = XGBClassifier(random_state=0, use_label_encoder=False, eval_metric='logloss')\n",
    "model.fit(X_train, y_train)\n",
    "pred = model.predict_proba(X_test)\n",
    "pred\n",
    "\n",
    "roc_auc_score(y_test, pred[:, 1])"
   ]
  },
  {
   "cell_type": "code",
   "execution_count": null,
   "id": "c44325b1",
   "metadata": {},
   "outputs": [],
   "source": []
  }
 ],
 "metadata": {
  "kernelspec": {
   "display_name": "Python 3 (ipykernel)",
   "language": "python",
   "name": "python3"
  },
  "language_info": {
   "codemirror_mode": {
    "name": "ipython",
    "version": 3
   },
   "file_extension": ".py",
   "mimetype": "text/x-python",
   "name": "python",
   "nbconvert_exporter": "python",
   "pygments_lexer": "ipython3",
   "version": "3.9.7"
  }
 },
 "nbformat": 4,
 "nbformat_minor": 5
}
