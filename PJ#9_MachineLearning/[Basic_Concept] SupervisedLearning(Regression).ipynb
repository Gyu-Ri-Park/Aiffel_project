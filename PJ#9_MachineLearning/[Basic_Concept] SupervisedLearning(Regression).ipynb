{
 "cells": [
  {
   "cell_type": "markdown",
   "id": "1febc627",
   "metadata": {},
   "source": [
    "# 선형회귀\n",
    "- 선형회귀 \n",
    "    - 단순선형회귀 : feature 1개\n",
    "    - 다중선형회귀 : feature 2개 이상  \n",
    "    \n",
    "\n",
    "- 비용함수 (Cost Function)\n",
    "    - 손실함수 (loss function), 목적함수 (objective function)\n",
    "    - 오차(error)를 계산\n",
    "    - MSE를 최소화하는 파라미터를 찾는다  \n",
    "      \n",
    "      \n",
    "- 경사하강법 (Gradient Descent)\n",
    "    - 최소 에러값을 찾는다"
   ]
  },
  {
   "cell_type": "code",
   "execution_count": 1,
   "id": "ebc47f16",
   "metadata": {},
   "outputs": [],
   "source": [
    "import pandas as pd\n",
    "from sklearn.model_selection import train_test_split\n",
    "from sklearn.metrics import mean_squared_error"
   ]
  },
  {
   "cell_type": "code",
   "execution_count": 2,
   "id": "38e08f0e",
   "metadata": {},
   "outputs": [
    {
     "data": {
      "text/plain": [
       "((353, 10), (89, 10), (353,), (89,))"
      ]
     },
     "execution_count": 2,
     "metadata": {},
     "output_type": "execute_result"
    }
   ],
   "source": [
    "from sklearn.datasets import load_diabetes # 당뇨병 환자 데이터\n",
    "def make_dataset():\n",
    "    dataset = load_diabetes()\n",
    "    df = pd.DataFrame(dataset.data, columns=dataset.feature_names)\n",
    "    df['target'] = dataset.target\n",
    "    X_train, X_test, y_train, y_test = train_test_split(\n",
    "        df.drop('target', axis=1), df['target'], test_size=0.2, random_state=1004)\n",
    "    return X_train, X_test, y_train, y_test\n",
    "\n",
    "X_train, X_test, y_train, y_test = make_dataset()\n",
    "X_train.shape, X_test.shape, y_train.shape, y_test.shape"
   ]
  },
  {
   "cell_type": "code",
   "execution_count": 3,
   "id": "c34664bd",
   "metadata": {},
   "outputs": [
    {
     "data": {
      "text/html": [
       "<div>\n",
       "<style scoped>\n",
       "    .dataframe tbody tr th:only-of-type {\n",
       "        vertical-align: middle;\n",
       "    }\n",
       "\n",
       "    .dataframe tbody tr th {\n",
       "        vertical-align: top;\n",
       "    }\n",
       "\n",
       "    .dataframe thead th {\n",
       "        text-align: right;\n",
       "    }\n",
       "</style>\n",
       "<table border=\"1\" class=\"dataframe\">\n",
       "  <thead>\n",
       "    <tr style=\"text-align: right;\">\n",
       "      <th></th>\n",
       "      <th>age</th>\n",
       "      <th>sex</th>\n",
       "      <th>bmi</th>\n",
       "      <th>bp</th>\n",
       "      <th>s1</th>\n",
       "      <th>s2</th>\n",
       "      <th>s3</th>\n",
       "      <th>s4</th>\n",
       "      <th>s5</th>\n",
       "      <th>s6</th>\n",
       "    </tr>\n",
       "  </thead>\n",
       "  <tbody>\n",
       "    <tr>\n",
       "      <th>152</th>\n",
       "      <td>-0.034575</td>\n",
       "      <td>0.050680</td>\n",
       "      <td>-0.000817</td>\n",
       "      <td>0.070073</td>\n",
       "      <td>0.039710</td>\n",
       "      <td>0.066952</td>\n",
       "      <td>-0.065491</td>\n",
       "      <td>0.108111</td>\n",
       "      <td>0.026714</td>\n",
       "      <td>0.073480</td>\n",
       "    </tr>\n",
       "    <tr>\n",
       "      <th>417</th>\n",
       "      <td>-0.052738</td>\n",
       "      <td>-0.044642</td>\n",
       "      <td>0.071397</td>\n",
       "      <td>-0.074528</td>\n",
       "      <td>-0.015328</td>\n",
       "      <td>-0.001314</td>\n",
       "      <td>0.004460</td>\n",
       "      <td>-0.021412</td>\n",
       "      <td>-0.046879</td>\n",
       "      <td>0.003064</td>\n",
       "    </tr>\n",
       "    <tr>\n",
       "      <th>172</th>\n",
       "      <td>0.041708</td>\n",
       "      <td>0.050680</td>\n",
       "      <td>0.071397</td>\n",
       "      <td>0.008101</td>\n",
       "      <td>0.038334</td>\n",
       "      <td>0.015909</td>\n",
       "      <td>-0.017629</td>\n",
       "      <td>0.034309</td>\n",
       "      <td>0.073410</td>\n",
       "      <td>0.085907</td>\n",
       "    </tr>\n",
       "    <tr>\n",
       "      <th>438</th>\n",
       "      <td>-0.005515</td>\n",
       "      <td>0.050680</td>\n",
       "      <td>-0.015906</td>\n",
       "      <td>-0.067642</td>\n",
       "      <td>0.049341</td>\n",
       "      <td>0.079165</td>\n",
       "      <td>-0.028674</td>\n",
       "      <td>0.034309</td>\n",
       "      <td>-0.018118</td>\n",
       "      <td>0.044485</td>\n",
       "    </tr>\n",
       "    <tr>\n",
       "      <th>296</th>\n",
       "      <td>0.067136</td>\n",
       "      <td>-0.044642</td>\n",
       "      <td>-0.061174</td>\n",
       "      <td>-0.040099</td>\n",
       "      <td>-0.026336</td>\n",
       "      <td>-0.024487</td>\n",
       "      <td>0.033914</td>\n",
       "      <td>-0.039493</td>\n",
       "      <td>-0.056158</td>\n",
       "      <td>-0.059067</td>\n",
       "    </tr>\n",
       "  </tbody>\n",
       "</table>\n",
       "</div>"
      ],
      "text/plain": [
       "          age       sex       bmi        bp        s1        s2        s3  \\\n",
       "152 -0.034575  0.050680 -0.000817  0.070073  0.039710  0.066952 -0.065491   \n",
       "417 -0.052738 -0.044642  0.071397 -0.074528 -0.015328 -0.001314  0.004460   \n",
       "172  0.041708  0.050680  0.071397  0.008101  0.038334  0.015909 -0.017629   \n",
       "438 -0.005515  0.050680 -0.015906 -0.067642  0.049341  0.079165 -0.028674   \n",
       "296  0.067136 -0.044642 -0.061174 -0.040099 -0.026336 -0.024487  0.033914   \n",
       "\n",
       "           s4        s5        s6  \n",
       "152  0.108111  0.026714  0.073480  \n",
       "417 -0.021412 -0.046879  0.003064  \n",
       "172  0.034309  0.073410  0.085907  \n",
       "438  0.034309 -0.018118  0.044485  \n",
       "296 -0.039493 -0.056158 -0.059067  "
      ]
     },
     "execution_count": 3,
     "metadata": {},
     "output_type": "execute_result"
    }
   ],
   "source": [
    "# train sample\n",
    "\n",
    "X_train.head()"
   ]
  },
  {
   "cell_type": "code",
   "execution_count": 4,
   "id": "6998e9ee",
   "metadata": {},
   "outputs": [
    {
     "data": {
      "text/plain": [
       "152    292.0\n",
       "417     55.0\n",
       "172    295.0\n",
       "438    104.0\n",
       "296     89.0\n",
       "Name: target, dtype: float64"
      ]
     },
     "execution_count": 4,
     "metadata": {},
     "output_type": "execute_result"
    }
   ],
   "source": [
    "# target\n",
    "\n",
    "y_train.head()"
   ]
  },
  {
   "cell_type": "code",
   "execution_count": 5,
   "id": "52ad2322",
   "metadata": {},
   "outputs": [
    {
     "data": {
      "text/plain": [
       "<AxesSubplot:>"
      ]
     },
     "execution_count": 5,
     "metadata": {},
     "output_type": "execute_result"
    },
    {
     "data": {
      "image/png": "[encoded data removed]",
      "text/plain": [
       "<Figure size 432x288 with 1 Axes>"
      ]
     },
     "metadata": {
      "needs_background": "light"
     },
     "output_type": "display_data"
    }
   ],
   "source": [
    "y_train.hist()"
   ]
  },
  {
   "cell_type": "markdown",
   "id": "69dd560e",
   "metadata": {},
   "source": [
    "# 1. 선형회귀"
   ]
  },
  {
   "cell_type": "code",
   "execution_count": 6,
   "id": "d7db69f6",
   "metadata": {},
   "outputs": [
    {
     "data": {
      "text/plain": [
       "2707.6236708320466"
      ]
     },
     "execution_count": 6,
     "metadata": {},
     "output_type": "execute_result"
    }
   ],
   "source": [
    "from sklearn.linear_model import LinearRegression\n",
    "model = LinearRegression()\n",
    "\n",
    "model.fit(X_train, y_train)\n",
    "pred = model.predict(X_test)\n",
    "\n",
    "#평가 mse로 해보기 (작을수록 좋다)\n",
    "mean_squared_error(y_test, pred)"
   ]
  },
  {
   "cell_type": "markdown",
   "id": "ae08a32e",
   "metadata": {},
   "source": [
    "# 2. 릿지회귀\n",
    "- 규제(regularization) 적용\n",
    "- 오버피팅 방지\n",
    "- 규제방식 : L2 규제\n",
    "- 파라미터(alpha) 값 통해 조절하며, alpha 값이 커질수록 회귀 계수 값을 작게 만든다"
   ]
  },
  {
   "cell_type": "code",
   "execution_count": 7,
   "id": "a5f8a8a8",
   "metadata": {},
   "outputs": [
    {
     "data": {
      "text/plain": [
       "3522.1129142470336"
      ]
     },
     "execution_count": 7,
     "metadata": {},
     "output_type": "execute_result"
    }
   ],
   "source": [
    "# 릿지 회귀\n",
    "from sklearn.linear_model import Ridge\n",
    "model = Ridge()\n",
    "model.fit(X_train, y_train)\n",
    "pred = model.predict(X_test)\n",
    "\n",
    "mean_squared_error(y_test, pred)"
   ]
  },
  {
   "cell_type": "code",
   "execution_count": 8,
   "id": "a3f588b0",
   "metadata": {},
   "outputs": [
    {
     "data": {
      "text/plain": [
       "array([  31.29328664,  -71.4495795 ,  267.60515296,  197.36474485,\n",
       "         14.61310594,  -13.88479022, -124.64995467,  106.21296774,\n",
       "        221.06805238,  101.20265138])"
      ]
     },
     "execution_count": 8,
     "metadata": {},
     "output_type": "execute_result"
    }
   ],
   "source": [
    "# 회귀 계수\n",
    "model.coef_"
   ]
  },
  {
   "cell_type": "code",
   "execution_count": 9,
   "id": "6133a988",
   "metadata": {},
   "outputs": [
    {
     "data": {
      "text/html": [
       "<div>\n",
       "<style scoped>\n",
       "    .dataframe tbody tr th:only-of-type {\n",
       "        vertical-align: middle;\n",
       "    }\n",
       "\n",
       "    .dataframe tbody tr th {\n",
       "        vertical-align: top;\n",
       "    }\n",
       "\n",
       "    .dataframe thead th {\n",
       "        text-align: right;\n",
       "    }\n",
       "</style>\n",
       "<table border=\"1\" class=\"dataframe\">\n",
       "  <thead>\n",
       "    <tr style=\"text-align: right;\">\n",
       "      <th></th>\n",
       "      <th>alpha1</th>\n",
       "    </tr>\n",
       "  </thead>\n",
       "  <tbody>\n",
       "    <tr>\n",
       "      <th>age</th>\n",
       "      <td>31.293287</td>\n",
       "    </tr>\n",
       "    <tr>\n",
       "      <th>sex</th>\n",
       "      <td>-71.449580</td>\n",
       "    </tr>\n",
       "    <tr>\n",
       "      <th>bmi</th>\n",
       "      <td>267.605153</td>\n",
       "    </tr>\n",
       "    <tr>\n",
       "      <th>bp</th>\n",
       "      <td>197.364745</td>\n",
       "    </tr>\n",
       "    <tr>\n",
       "      <th>s1</th>\n",
       "      <td>14.613106</td>\n",
       "    </tr>\n",
       "    <tr>\n",
       "      <th>s2</th>\n",
       "      <td>-13.884790</td>\n",
       "    </tr>\n",
       "    <tr>\n",
       "      <th>s3</th>\n",
       "      <td>-124.649955</td>\n",
       "    </tr>\n",
       "    <tr>\n",
       "      <th>s4</th>\n",
       "      <td>106.212968</td>\n",
       "    </tr>\n",
       "    <tr>\n",
       "      <th>s5</th>\n",
       "      <td>221.068052</td>\n",
       "    </tr>\n",
       "    <tr>\n",
       "      <th>s6</th>\n",
       "      <td>101.202651</td>\n",
       "    </tr>\n",
       "  </tbody>\n",
       "</table>\n",
       "</div>"
      ],
      "text/plain": [
       "         alpha1\n",
       "age   31.293287\n",
       "sex  -71.449580\n",
       "bmi  267.605153\n",
       "bp   197.364745\n",
       "s1    14.613106\n",
       "s2   -13.884790\n",
       "s3  -124.649955\n",
       "s4   106.212968\n",
       "s5   221.068052\n",
       "s6   101.202651"
      ]
     },
     "execution_count": 9,
     "metadata": {},
     "output_type": "execute_result"
    }
   ],
   "source": [
    "coef = pd.DataFrame(data=model.coef_, index=X_train.columns, columns=['alpha1'])\n",
    "coef"
   ]
  },
  {
   "cell_type": "code",
   "execution_count": 10,
   "id": "b07f9b26",
   "metadata": {},
   "outputs": [
    {
     "data": {
      "text/plain": [
       "5521.882311176061"
      ]
     },
     "execution_count": 10,
     "metadata": {},
     "output_type": "execute_result"
    }
   ],
   "source": [
    "# 릿지 회귀 (alpha = 10)\n",
    "\n",
    "model = Ridge(alpha=10)\n",
    "model.fit(X_train, y_train)\n",
    "pred = model.predict(X_test)\n",
    "\n",
    "mean_squared_error(y_test, pred)"
   ]
  },
  {
   "cell_type": "code",
   "execution_count": 11,
   "id": "b1d1b51a",
   "metadata": {
    "scrolled": true
   },
   "outputs": [
    {
     "data": {
      "text/html": [
       "<div>\n",
       "<style scoped>\n",
       "    .dataframe tbody tr th:only-of-type {\n",
       "        vertical-align: middle;\n",
       "    }\n",
       "\n",
       "    .dataframe tbody tr th {\n",
       "        vertical-align: top;\n",
       "    }\n",
       "\n",
       "    .dataframe thead th {\n",
       "        text-align: right;\n",
       "    }\n",
       "</style>\n",
       "<table border=\"1\" class=\"dataframe\">\n",
       "  <thead>\n",
       "    <tr style=\"text-align: right;\">\n",
       "      <th></th>\n",
       "      <th>alpha1</th>\n",
       "      <th>alpha10</th>\n",
       "    </tr>\n",
       "  </thead>\n",
       "  <tbody>\n",
       "    <tr>\n",
       "      <th>age</th>\n",
       "      <td>31.293287</td>\n",
       "      <td>16.703159</td>\n",
       "    </tr>\n",
       "    <tr>\n",
       "      <th>sex</th>\n",
       "      <td>-71.449580</td>\n",
       "      <td>-1.796452</td>\n",
       "    </tr>\n",
       "    <tr>\n",
       "      <th>bmi</th>\n",
       "      <td>267.605153</td>\n",
       "      <td>61.026348</td>\n",
       "    </tr>\n",
       "    <tr>\n",
       "      <th>bp</th>\n",
       "      <td>197.364745</td>\n",
       "      <td>47.435152</td>\n",
       "    </tr>\n",
       "    <tr>\n",
       "      <th>s1</th>\n",
       "      <td>14.613106</td>\n",
       "      <td>18.491225</td>\n",
       "    </tr>\n",
       "    <tr>\n",
       "      <th>s2</th>\n",
       "      <td>-13.884790</td>\n",
       "      <td>13.440080</td>\n",
       "    </tr>\n",
       "    <tr>\n",
       "      <th>s3</th>\n",
       "      <td>-124.649955</td>\n",
       "      <td>-35.542084</td>\n",
       "    </tr>\n",
       "    <tr>\n",
       "      <th>s4</th>\n",
       "      <td>106.212968</td>\n",
       "      <td>38.896129</td>\n",
       "    </tr>\n",
       "    <tr>\n",
       "      <th>s5</th>\n",
       "      <td>221.068052</td>\n",
       "      <td>55.276214</td>\n",
       "    </tr>\n",
       "    <tr>\n",
       "      <th>s6</th>\n",
       "      <td>101.202651</td>\n",
       "      <td>35.868345</td>\n",
       "    </tr>\n",
       "  </tbody>\n",
       "</table>\n",
       "</div>"
      ],
      "text/plain": [
       "         alpha1    alpha10\n",
       "age   31.293287  16.703159\n",
       "sex  -71.449580  -1.796452\n",
       "bmi  267.605153  61.026348\n",
       "bp   197.364745  47.435152\n",
       "s1    14.613106  18.491225\n",
       "s2   -13.884790  13.440080\n",
       "s3  -124.649955 -35.542084\n",
       "s4   106.212968  38.896129\n",
       "s5   221.068052  55.276214\n",
       "s6   101.202651  35.868345"
      ]
     },
     "execution_count": 11,
     "metadata": {},
     "output_type": "execute_result"
    }
   ],
   "source": [
    "# 회귀 계수 (alpha = 10)\n",
    "coef['alpha10'] = model.coef_\n",
    "coef"
   ]
  },
  {
   "cell_type": "markdown",
   "id": "5fd3b8a7",
   "metadata": {},
   "source": [
    "* 회귀계수가 줄어들었다"
   ]
  },
  {
   "cell_type": "code",
   "execution_count": 12,
   "id": "531fcd42",
   "metadata": {},
   "outputs": [
    {
     "data": {
      "text/plain": [
       "2744.899739917671"
      ]
     },
     "execution_count": 12,
     "metadata": {},
     "output_type": "execute_result"
    }
   ],
   "source": [
    "# 릿지 회귀 (alpha = 0.1)\n",
    "\n",
    "model = Ridge(alpha=0.1)\n",
    "model.fit(X_train, y_train)\n",
    "pred = model.predict(X_test)\n",
    "\n",
    "mean_squared_error(y_test, pred)"
   ]
  },
  {
   "cell_type": "code",
   "execution_count": 13,
   "id": "f5ffbdd4",
   "metadata": {},
   "outputs": [
    {
     "data": {
      "text/html": [
       "<div>\n",
       "<style scoped>\n",
       "    .dataframe tbody tr th:only-of-type {\n",
       "        vertical-align: middle;\n",
       "    }\n",
       "\n",
       "    .dataframe tbody tr th {\n",
       "        vertical-align: top;\n",
       "    }\n",
       "\n",
       "    .dataframe thead th {\n",
       "        text-align: right;\n",
       "    }\n",
       "</style>\n",
       "<table border=\"1\" class=\"dataframe\">\n",
       "  <thead>\n",
       "    <tr style=\"text-align: right;\">\n",
       "      <th></th>\n",
       "      <th>alpha1</th>\n",
       "      <th>alpha10</th>\n",
       "      <th>alpha0.1</th>\n",
       "    </tr>\n",
       "  </thead>\n",
       "  <tbody>\n",
       "    <tr>\n",
       "      <th>age</th>\n",
       "      <td>31.293287</td>\n",
       "      <td>16.703159</td>\n",
       "      <td>4.274486</td>\n",
       "    </tr>\n",
       "    <tr>\n",
       "      <th>sex</th>\n",
       "      <td>-71.449580</td>\n",
       "      <td>-1.796452</td>\n",
       "      <td>-205.214645</td>\n",
       "    </tr>\n",
       "    <tr>\n",
       "      <th>bmi</th>\n",
       "      <td>267.605153</td>\n",
       "      <td>61.026348</td>\n",
       "      <td>450.905500</td>\n",
       "    </tr>\n",
       "    <tr>\n",
       "      <th>bp</th>\n",
       "      <td>197.364745</td>\n",
       "      <td>47.435152</td>\n",
       "      <td>331.931307</td>\n",
       "    </tr>\n",
       "    <tr>\n",
       "      <th>s1</th>\n",
       "      <td>14.613106</td>\n",
       "      <td>18.491225</td>\n",
       "      <td>-84.310050</td>\n",
       "    </tr>\n",
       "    <tr>\n",
       "      <th>s2</th>\n",
       "      <td>-13.884790</td>\n",
       "      <td>13.440080</td>\n",
       "      <td>-54.665887</td>\n",
       "    </tr>\n",
       "    <tr>\n",
       "      <th>s3</th>\n",
       "      <td>-124.649955</td>\n",
       "      <td>-35.542084</td>\n",
       "      <td>-158.707920</td>\n",
       "    </tr>\n",
       "    <tr>\n",
       "      <th>s4</th>\n",
       "      <td>106.212968</td>\n",
       "      <td>38.896129</td>\n",
       "      <td>114.068214</td>\n",
       "    </tr>\n",
       "    <tr>\n",
       "      <th>s5</th>\n",
       "      <td>221.068052</td>\n",
       "      <td>55.276214</td>\n",
       "      <td>391.230355</td>\n",
       "    </tr>\n",
       "    <tr>\n",
       "      <th>s6</th>\n",
       "      <td>101.202651</td>\n",
       "      <td>35.868345</td>\n",
       "      <td>78.555719</td>\n",
       "    </tr>\n",
       "  </tbody>\n",
       "</table>\n",
       "</div>"
      ],
      "text/plain": [
       "         alpha1    alpha10    alpha0.1\n",
       "age   31.293287  16.703159    4.274486\n",
       "sex  -71.449580  -1.796452 -205.214645\n",
       "bmi  267.605153  61.026348  450.905500\n",
       "bp   197.364745  47.435152  331.931307\n",
       "s1    14.613106  18.491225  -84.310050\n",
       "s2   -13.884790  13.440080  -54.665887\n",
       "s3  -124.649955 -35.542084 -158.707920\n",
       "s4   106.212968  38.896129  114.068214\n",
       "s5   221.068052  55.276214  391.230355\n",
       "s6   101.202651  35.868345   78.555719"
      ]
     },
     "execution_count": 13,
     "metadata": {},
     "output_type": "execute_result"
    }
   ],
   "source": [
    "coef['alpha0.1'] = model.coef_\n",
    "coef"
   ]
  },
  {
   "cell_type": "markdown",
   "id": "f0983959",
   "metadata": {},
   "source": [
    "* alpha가 줄어들수록 작아진다"
   ]
  },
  {
   "cell_type": "code",
   "execution_count": 14,
   "id": "967a0241",
   "metadata": {
    "scrolled": true
   },
   "outputs": [
    {
     "name": "stdout",
     "output_type": "stream",
     "text": [
      "2698.0335313137407\n",
      "2675.8081810831413\n",
      "2699.6575055293893\n",
      "2744.899739917671\n",
      "3522.1129142470336\n",
      "5521.882311176061\n"
     ]
    }
   ],
   "source": [
    "# Q. 릿지 회귀의 alpha 값을 0.001, 0.01, 0.05, 0.1, 1, 10을 각각 넣어보고,\n",
    "# 어떤 alpha 값이 가장 mean squared error가 작은지 찾아보세요.\n",
    "# 힌트 : for문을 사용하면 좀더 효율적으로 퀴즈를 풀 수 있습니다.\n",
    "from sklearn.linear_model import Ridge\n",
    "lst = [0.001, 0.01, 0.05, 0.1, 1, 10]\n",
    "\n",
    "for x in lst : \n",
    "    model = Ridge(alpha=x)\n",
    "    model.fit(X_train, y_train)\n",
    "    pred = model.predict(X_test)\n",
    "    print(mean_squared_error(y_test, pred))"
   ]
  },
  {
   "cell_type": "markdown",
   "id": "561113e7",
   "metadata": {},
   "source": [
    "* alpha = 0.01 일때 MSE가 가장 작다 (2675.80)"
   ]
  },
  {
   "cell_type": "markdown",
   "id": "e8165229",
   "metadata": {},
   "source": [
    "# 3. 라쏘회귀\n",
    "- 규제(regularization) 적용\n",
    "- 오버피팅 방지\n",
    "- 규제방식 : L1 규제\n",
    "- L2 에 비해 회귀계수를 급격하게 감소시켜 0으로 만든다\n",
    "- (L1 규제는 중요한 feature만 선택하는 특성이 있다)"
   ]
  },
  {
   "cell_type": "code",
   "execution_count": 15,
   "id": "1b497306",
   "metadata": {},
   "outputs": [
    {
     "data": {
      "text/plain": [
       "4179.146884323723"
      ]
     },
     "execution_count": 15,
     "metadata": {},
     "output_type": "execute_result"
    }
   ],
   "source": [
    "from sklearn.linear_model import Lasso\n",
    "\n",
    "\n",
    "model = Lasso(alpha=1)\n",
    "model.fit(X_train, y_train)\n",
    "pred = model.predict(X_test)\n",
    "mean_squared_error(y_test, pred)"
   ]
  },
  {
   "cell_type": "code",
   "execution_count": 16,
   "id": "649c5e1f",
   "metadata": {},
   "outputs": [
    {
     "data": {
      "text/html": [
       "<div>\n",
       "<style scoped>\n",
       "    .dataframe tbody tr th:only-of-type {\n",
       "        vertical-align: middle;\n",
       "    }\n",
       "\n",
       "    .dataframe tbody tr th {\n",
       "        vertical-align: top;\n",
       "    }\n",
       "\n",
       "    .dataframe thead th {\n",
       "        text-align: right;\n",
       "    }\n",
       "</style>\n",
       "<table border=\"1\" class=\"dataframe\">\n",
       "  <thead>\n",
       "    <tr style=\"text-align: right;\">\n",
       "      <th></th>\n",
       "      <th>alpha1</th>\n",
       "    </tr>\n",
       "  </thead>\n",
       "  <tbody>\n",
       "    <tr>\n",
       "      <th>age</th>\n",
       "      <td>0.000000</td>\n",
       "    </tr>\n",
       "    <tr>\n",
       "      <th>sex</th>\n",
       "      <td>-0.000000</td>\n",
       "    </tr>\n",
       "    <tr>\n",
       "      <th>bmi</th>\n",
       "      <td>343.588370</td>\n",
       "    </tr>\n",
       "    <tr>\n",
       "      <th>bp</th>\n",
       "      <td>46.375388</td>\n",
       "    </tr>\n",
       "    <tr>\n",
       "      <th>s1</th>\n",
       "      <td>0.000000</td>\n",
       "    </tr>\n",
       "    <tr>\n",
       "      <th>s2</th>\n",
       "      <td>0.000000</td>\n",
       "    </tr>\n",
       "    <tr>\n",
       "      <th>s3</th>\n",
       "      <td>-0.000000</td>\n",
       "    </tr>\n",
       "    <tr>\n",
       "      <th>s4</th>\n",
       "      <td>0.000000</td>\n",
       "    </tr>\n",
       "    <tr>\n",
       "      <th>s5</th>\n",
       "      <td>245.167660</td>\n",
       "    </tr>\n",
       "    <tr>\n",
       "      <th>s6</th>\n",
       "      <td>0.000000</td>\n",
       "    </tr>\n",
       "  </tbody>\n",
       "</table>\n",
       "</div>"
      ],
      "text/plain": [
       "         alpha1\n",
       "age    0.000000\n",
       "sex   -0.000000\n",
       "bmi  343.588370\n",
       "bp    46.375388\n",
       "s1     0.000000\n",
       "s2     0.000000\n",
       "s3    -0.000000\n",
       "s4     0.000000\n",
       "s5   245.167660\n",
       "s6     0.000000"
      ]
     },
     "execution_count": 16,
     "metadata": {},
     "output_type": "execute_result"
    }
   ],
   "source": [
    "coef = pd.DataFrame(data= model.coef_, index=X_train.columns, columns=['alpha1'])\n",
    "coef"
   ]
  },
  {
   "cell_type": "code",
   "execution_count": 17,
   "id": "0cc2b395",
   "metadata": {},
   "outputs": [
    {
     "data": {
      "text/plain": [
       "6398.637179448666"
      ]
     },
     "execution_count": 17,
     "metadata": {},
     "output_type": "execute_result"
    }
   ],
   "source": [
    "# 라쏘 (alpha = 2)\n",
    "\n",
    "model = Lasso(alpha=2)\n",
    "model.fit(X_train, y_train)\n",
    "pred = model.predict(X_test)\n",
    "mean_squared_error(y_test, pred)"
   ]
  },
  {
   "cell_type": "code",
   "execution_count": 18,
   "id": "5bad0bf6",
   "metadata": {},
   "outputs": [
    {
     "data": {
      "text/html": [
       "<div>\n",
       "<style scoped>\n",
       "    .dataframe tbody tr th:only-of-type {\n",
       "        vertical-align: middle;\n",
       "    }\n",
       "\n",
       "    .dataframe tbody tr th {\n",
       "        vertical-align: top;\n",
       "    }\n",
       "\n",
       "    .dataframe thead th {\n",
       "        text-align: right;\n",
       "    }\n",
       "</style>\n",
       "<table border=\"1\" class=\"dataframe\">\n",
       "  <thead>\n",
       "    <tr style=\"text-align: right;\">\n",
       "      <th></th>\n",
       "      <th>alpha1</th>\n",
       "      <th>alpha2</th>\n",
       "    </tr>\n",
       "  </thead>\n",
       "  <tbody>\n",
       "    <tr>\n",
       "      <th>age</th>\n",
       "      <td>0.000000</td>\n",
       "      <td>0.000000</td>\n",
       "    </tr>\n",
       "    <tr>\n",
       "      <th>sex</th>\n",
       "      <td>-0.000000</td>\n",
       "      <td>0.000000</td>\n",
       "    </tr>\n",
       "    <tr>\n",
       "      <th>bmi</th>\n",
       "      <td>343.588370</td>\n",
       "      <td>42.963888</td>\n",
       "    </tr>\n",
       "    <tr>\n",
       "      <th>bp</th>\n",
       "      <td>46.375388</td>\n",
       "      <td>0.000000</td>\n",
       "    </tr>\n",
       "    <tr>\n",
       "      <th>s1</th>\n",
       "      <td>0.000000</td>\n",
       "      <td>0.000000</td>\n",
       "    </tr>\n",
       "    <tr>\n",
       "      <th>s2</th>\n",
       "      <td>0.000000</td>\n",
       "      <td>0.000000</td>\n",
       "    </tr>\n",
       "    <tr>\n",
       "      <th>s3</th>\n",
       "      <td>-0.000000</td>\n",
       "      <td>-0.000000</td>\n",
       "    </tr>\n",
       "    <tr>\n",
       "      <th>s4</th>\n",
       "      <td>0.000000</td>\n",
       "      <td>0.000000</td>\n",
       "    </tr>\n",
       "    <tr>\n",
       "      <th>s5</th>\n",
       "      <td>245.167660</td>\n",
       "      <td>0.000000</td>\n",
       "    </tr>\n",
       "    <tr>\n",
       "      <th>s6</th>\n",
       "      <td>0.000000</td>\n",
       "      <td>0.000000</td>\n",
       "    </tr>\n",
       "  </tbody>\n",
       "</table>\n",
       "</div>"
      ],
      "text/plain": [
       "         alpha1     alpha2\n",
       "age    0.000000   0.000000\n",
       "sex   -0.000000   0.000000\n",
       "bmi  343.588370  42.963888\n",
       "bp    46.375388   0.000000\n",
       "s1     0.000000   0.000000\n",
       "s2     0.000000   0.000000\n",
       "s3    -0.000000  -0.000000\n",
       "s4     0.000000   0.000000\n",
       "s5   245.167660   0.000000\n",
       "s6     0.000000   0.000000"
      ]
     },
     "execution_count": 18,
     "metadata": {},
     "output_type": "execute_result"
    }
   ],
   "source": [
    "coef['alpha2'] = model.coef_\n",
    "coef"
   ]
  },
  {
   "cell_type": "code",
   "execution_count": 19,
   "id": "0c871ff5",
   "metadata": {},
   "outputs": [
    {
     "data": {
      "text/plain": [
       "2703.4553190372917"
      ]
     },
     "execution_count": 19,
     "metadata": {},
     "output_type": "execute_result"
    }
   ],
   "source": [
    "# 라쏘 (alpha = 0.05)\n",
    "\n",
    "model = Lasso(alpha=0.05)\n",
    "model.fit(X_train, y_train)\n",
    "pred = model.predict(X_test)\n",
    "mean_squared_error(y_test, pred)"
   ]
  },
  {
   "cell_type": "code",
   "execution_count": 20,
   "id": "1d785c11",
   "metadata": {},
   "outputs": [
    {
     "data": {
      "text/html": [
       "<div>\n",
       "<style scoped>\n",
       "    .dataframe tbody tr th:only-of-type {\n",
       "        vertical-align: middle;\n",
       "    }\n",
       "\n",
       "    .dataframe tbody tr th {\n",
       "        vertical-align: top;\n",
       "    }\n",
       "\n",
       "    .dataframe thead th {\n",
       "        text-align: right;\n",
       "    }\n",
       "</style>\n",
       "<table border=\"1\" class=\"dataframe\">\n",
       "  <thead>\n",
       "    <tr style=\"text-align: right;\">\n",
       "      <th></th>\n",
       "      <th>alpha1</th>\n",
       "      <th>alpha2</th>\n",
       "      <th>alpha0.05</th>\n",
       "    </tr>\n",
       "  </thead>\n",
       "  <tbody>\n",
       "    <tr>\n",
       "      <th>age</th>\n",
       "      <td>0.000000</td>\n",
       "      <td>0.000000</td>\n",
       "      <td>-0.000000</td>\n",
       "    </tr>\n",
       "    <tr>\n",
       "      <th>sex</th>\n",
       "      <td>-0.000000</td>\n",
       "      <td>0.000000</td>\n",
       "      <td>-198.953867</td>\n",
       "    </tr>\n",
       "    <tr>\n",
       "      <th>bmi</th>\n",
       "      <td>343.588370</td>\n",
       "      <td>42.963888</td>\n",
       "      <td>487.192794</td>\n",
       "    </tr>\n",
       "    <tr>\n",
       "      <th>bp</th>\n",
       "      <td>46.375388</td>\n",
       "      <td>0.000000</td>\n",
       "      <td>340.499590</td>\n",
       "    </tr>\n",
       "    <tr>\n",
       "      <th>s1</th>\n",
       "      <td>0.000000</td>\n",
       "      <td>0.000000</td>\n",
       "      <td>-95.578630</td>\n",
       "    </tr>\n",
       "    <tr>\n",
       "      <th>s2</th>\n",
       "      <td>0.000000</td>\n",
       "      <td>0.000000</td>\n",
       "      <td>-0.000000</td>\n",
       "    </tr>\n",
       "    <tr>\n",
       "      <th>s3</th>\n",
       "      <td>-0.000000</td>\n",
       "      <td>-0.000000</td>\n",
       "      <td>-189.868586</td>\n",
       "    </tr>\n",
       "    <tr>\n",
       "      <th>s4</th>\n",
       "      <td>0.000000</td>\n",
       "      <td>0.000000</td>\n",
       "      <td>10.489156</td>\n",
       "    </tr>\n",
       "    <tr>\n",
       "      <th>s5</th>\n",
       "      <td>245.167660</td>\n",
       "      <td>0.000000</td>\n",
       "      <td>457.331482</td>\n",
       "    </tr>\n",
       "    <tr>\n",
       "      <th>s6</th>\n",
       "      <td>0.000000</td>\n",
       "      <td>0.000000</td>\n",
       "      <td>39.292945</td>\n",
       "    </tr>\n",
       "  </tbody>\n",
       "</table>\n",
       "</div>"
      ],
      "text/plain": [
       "         alpha1     alpha2   alpha0.05\n",
       "age    0.000000   0.000000   -0.000000\n",
       "sex   -0.000000   0.000000 -198.953867\n",
       "bmi  343.588370  42.963888  487.192794\n",
       "bp    46.375388   0.000000  340.499590\n",
       "s1     0.000000   0.000000  -95.578630\n",
       "s2     0.000000   0.000000   -0.000000\n",
       "s3    -0.000000  -0.000000 -189.868586\n",
       "s4     0.000000   0.000000   10.489156\n",
       "s5   245.167660   0.000000  457.331482\n",
       "s6     0.000000   0.000000   39.292945"
      ]
     },
     "execution_count": 20,
     "metadata": {},
     "output_type": "execute_result"
    }
   ],
   "source": [
    "coef['alpha0.05'] = model.coef_\n",
    "coef"
   ]
  },
  {
   "cell_type": "code",
   "execution_count": 21,
   "id": "762ebe93",
   "metadata": {},
   "outputs": [
    {
     "name": "stdout",
     "output_type": "stream",
     "text": [
      "2701.7061476958074\n",
      "2676.3844653651836\n",
      "2703.4553190372917\n",
      "2775.180919040914\n",
      "4179.146884323723\n",
      "6595.844885678807\n"
     ]
    }
   ],
   "source": [
    "# Q. 라쏘 회귀의 alpha 값을 0.001, 0.01, 0.05, 0.1, 1, 10을 각각 넣어보고,\n",
    "# 어떤 alpha 값이 가장 mean squared error가 작은지 찾아보세요.\n",
    "from sklearn.linear_model import Lasso\n",
    "lst = [0.001, 0.01, 0.05, 0.1, 1, 10]\n",
    "\n",
    "for i in lst:\n",
    "    model = Lasso(alpha=i)\n",
    "    model.fit(X_train, y_train)\n",
    "    pred = model.predict(X_test)\n",
    "    print(mean_squared_error(y_test, pred))"
   ]
  },
  {
   "cell_type": "markdown",
   "id": "449932a4",
   "metadata": {},
   "source": [
    "* alpha = 0.01 일 때 MSE가 가장 작다"
   ]
  },
  {
   "cell_type": "markdown",
   "id": "5169b7fc",
   "metadata": {},
   "source": [
    "# 4. 엘라스틱넷 회귀\n",
    "- 규제(regularization) 적용\n",
    "- 규제방식 : L1 + L2 규제\n",
    "- 시간이 상대적으로 오래 걸림"
   ]
  },
  {
   "cell_type": "code",
   "execution_count": 22,
   "id": "e0781f64",
   "metadata": {},
   "outputs": [
    {
     "data": {
      "text/plain": [
       "6539.270795233337"
      ]
     },
     "execution_count": 22,
     "metadata": {},
     "output_type": "execute_result"
    }
   ],
   "source": [
    "from sklearn.linear_model import ElasticNet\n",
    "\n",
    "\n",
    "model = ElasticNet(alpha=1)\n",
    "model.fit(X_train, y_train)\n",
    "pred = model.predict(X_test)\n",
    "mean_squared_error(y_test, pred)"
   ]
  },
  {
   "cell_type": "code",
   "execution_count": 23,
   "id": "9b1d45ef",
   "metadata": {},
   "outputs": [
    {
     "data": {
      "text/plain": [
       "2675.6005929972935"
      ]
     },
     "execution_count": 23,
     "metadata": {},
     "output_type": "execute_result"
    }
   ],
   "source": [
    "# alpha 조정, L1/ L2의 비율을 조정할 수 있다\n",
    "\n",
    "model = ElasticNet(alpha=0.0001, l1_ratio = 0.6)\n",
    "model.fit(X_train, y_train)\n",
    "pred = model.predict(X_test)\n",
    "mean_squared_error(y_test, pred)"
   ]
  },
  {
   "cell_type": "code",
   "execution_count": 24,
   "id": "34da702a",
   "metadata": {},
   "outputs": [
    {
     "name": "stdout",
     "output_type": "stream",
     "text": [
      "2685.132755696321\n",
      "2682.643714865139\n",
      "2680.3399490838874\n",
      "2678.296894792398\n",
      "2676.641058527278\n",
      "2675.6005929972935\n",
      "2675.628009678113\n",
      "2677.647505326532\n",
      "2684.618200054344\n"
     ]
    }
   ],
   "source": [
    "# Q. 엘라스틱넷 회귀의 alpha 값을 0.0001로 설정하고, \n",
    "# l1 규제의 비율 0.1, 0.2, 0.3, 0.4, 0.5, 0.6, 0.7, 0.8, 0.9 중\n",
    "# 어떤 비율일 때 mean squared error가 가장 작은지 찾아보세요.\n",
    "from sklearn.linear_model import ElasticNet\n",
    "for i in [0.1, 0.2, 0.3, 0.4, 0.5, 0.6, 0.7, 0.8, 0.9]:\n",
    "    model = ElasticNet(alpha=0.0001, l1_ratio=i)\n",
    "    model.fit(X_train, y_train)\n",
    "    pred = model.predict(X_test)\n",
    "    print(mean_squared_error(y_test, pred))"
   ]
  },
  {
   "cell_type": "markdown",
   "id": "bba1dd64",
   "metadata": {},
   "source": [
    "* L1이 60% 일때 MSE가 가장 작다"
   ]
  },
  {
   "cell_type": "markdown",
   "id": "bb407d70",
   "metadata": {},
   "source": [
    "# 5. 랜덤포레스트 & XGBoost"
   ]
  },
  {
   "cell_type": "code",
   "execution_count": 25,
   "id": "a17b1896",
   "metadata": {},
   "outputs": [
    {
     "name": "stdout",
     "output_type": "stream",
     "text": [
      "랜덤포레스트\n",
      "3295.325888764045\n"
     ]
    }
   ],
   "source": [
    "# Q. 랜덤포레스트와 xgboost 모델의 mse 값을 비교해보세요.\n",
    "\n",
    "from sklearn.ensemble import RandomForestRegressor\n",
    "\n",
    "model_r = RandomForestRegressor()\n",
    "model_r.fit(X_train, y_train)\n",
    "pred_r = model_r.predict(X_test)\n",
    "print(\"랜덤포레스트\")\n",
    "print(mean_squared_error(y_test, pred_r));"
   ]
  },
  {
   "cell_type": "code",
   "execution_count": 26,
   "id": "15954912",
   "metadata": {
    "scrolled": true
   },
   "outputs": [
    {
     "name": "stdout",
     "output_type": "stream",
     "text": [
      "xgboost\n",
      "4028.2455020344587\n"
     ]
    },
    {
     "name": "stderr",
     "output_type": "stream",
     "text": [
      "/opt/conda/lib/python3.9/site-packages/pkg_resources/__init__.py:122: PkgResourcesDeprecationWarning: 0.996-ko-0.9.2 is an invalid version and will not be supported in a future release\n",
      "  warnings.warn(\n"
     ]
    }
   ],
   "source": [
    "from xgboost import XGBRegressor\n",
    "\n",
    "model_x = XGBRegressor()\n",
    "model_x.fit(X_train, y_train)\n",
    "pred_x = model_x.predict(X_test)\n",
    "print(\"xgboost\")\n",
    "print(mean_squared_error(y_test, pred_x));"
   ]
  },
  {
   "cell_type": "markdown",
   "id": "ffa64dce",
   "metadata": {},
   "source": [
    "* Random Forest 방식의 MSE가 더 작다"
   ]
  },
  {
   "cell_type": "markdown",
   "id": "8ab8d3ac",
   "metadata": {},
   "source": [
    "# 6. 하이퍼파라미터 튜닝"
   ]
  },
  {
   "cell_type": "code",
   "execution_count": 27,
   "id": "72b16bd0",
   "metadata": {},
   "outputs": [],
   "source": [
    "from sklearn.model_selection import GridSearchCV, RandomizedSearchCV"
   ]
  },
  {
   "cell_type": "code",
   "execution_count": 28,
   "id": "7c802238",
   "metadata": {},
   "outputs": [],
   "source": [
    "#하이퍼파라미터 \n",
    "#GridSearch : 이 중에서 가장 best인 하이퍼파라미터 값을 출력한다.\n",
    "#RandomSearch : 시간 내에 랜덤하게 뽑은 것 중에서 best인 값을 출력한다.\n",
    "\n",
    "params = {'learning_rate':[0.07, 0.05],\n",
    "         'max_depth':[3,5,7],\n",
    "         'n_estimators':[100, 200],\n",
    "         'subsample':[0.9, 0.8, 0.7]}"
   ]
  },
  {
   "cell_type": "code",
   "execution_count": 29,
   "id": "c928c216",
   "metadata": {},
   "outputs": [],
   "source": [
    "# 데이터 로드\n",
    "def make_dataset2():\n",
    "    dataset = load_diabetes()\n",
    "    df = pd.DataFrame(dataset.data, columns=dataset.feature_names)\n",
    "    df['target'] = dataset.target\n",
    "    return df.drop('target', axis=1), df['target']\n",
    "X, y = make_dataset2()"
   ]
  },
  {
   "cell_type": "markdown",
   "id": "d25d2308",
   "metadata": {},
   "source": [
    "# GridSearchCV\n",
    "* 꼼꼼하지만 시간 오래걸림"
   ]
  },
  {
   "cell_type": "code",
   "execution_count": 30,
   "id": "92b15d57",
   "metadata": {},
   "outputs": [
    {
     "name": "stderr",
     "output_type": "stream",
     "text": [
      "/opt/conda/lib/python3.9/site-packages/pkg_resources/__init__.py:122: PkgResourcesDeprecationWarning: 0.996-ko-0.9.2 is an invalid version and will not be supported in a future release\n",
      "  warnings.warn(\n",
      "/opt/conda/lib/python3.9/site-packages/pkg_resources/__init__.py:122: PkgResourcesDeprecationWarning: 0.996-ko-0.9.2 is an invalid version and will not be supported in a future release\n",
      "  warnings.warn(\n"
     ]
    },
    {
     "data": {
      "text/plain": [
       "GridSearchCV(cv=3,\n",
       "             estimator=XGBRegressor(base_score=None, booster=None,\n",
       "                                    colsample_bylevel=None,\n",
       "                                    colsample_bynode=None,\n",
       "                                    colsample_bytree=None, gamma=None,\n",
       "                                    gpu_id=None, importance_type='gain',\n",
       "                                    interaction_constraints=None,\n",
       "                                    learning_rate=None, max_delta_step=None,\n",
       "                                    max_depth=None, min_child_weight=None,\n",
       "                                    missing=nan, monotone_constraints=None,\n",
       "                                    n_estimators=100, n_jobs=None,\n",
       "                                    num_parallel_tree=None, random_state=None,\n",
       "                                    reg_alpha=None, reg_lambda=None,\n",
       "                                    scale_pos_weight=None, subsample=None,\n",
       "                                    tree_method=None, validate_parameters=None,\n",
       "                                    verbosity=None),\n",
       "             n_jobs=-1,\n",
       "             param_grid={'learning_rate': [0.07, 0.05], 'max_depth': [3, 5, 7],\n",
       "                         'n_estimators': [100, 200],\n",
       "                         'subsample': [0.9, 0.8, 0.7]})"
      ]
     },
     "execution_count": 30,
     "metadata": {},
     "output_type": "execute_result"
    }
   ],
   "source": [
    "#학습\n",
    "\n",
    "xgb = XGBRegressor()\n",
    "grid = GridSearchCV(xgb, params, cv=3, n_jobs=-1)  #cv : cross valiation (validation 몇개로 나눌거냐)\n",
    "grid.fit(X, y)"
   ]
  },
  {
   "cell_type": "code",
   "execution_count": 31,
   "id": "722e69a7",
   "metadata": {},
   "outputs": [
    {
     "data": {
      "text/plain": [
       "{'learning_rate': 0.05, 'max_depth': 3, 'n_estimators': 100, 'subsample': 0.7}"
      ]
     },
     "execution_count": 31,
     "metadata": {},
     "output_type": "execute_result"
    }
   ],
   "source": [
    "#최척의 하이퍼파라미터를 찾았다\n",
    "\n",
    "grid.best_params_"
   ]
  },
  {
   "cell_type": "code",
   "execution_count": 32,
   "id": "473a11b6",
   "metadata": {},
   "outputs": [
    {
     "data": {
      "text/plain": [
       "3173.045180496539"
      ]
     },
     "execution_count": 32,
     "metadata": {},
     "output_type": "execute_result"
    }
   ],
   "source": [
    "#하이퍼파라미터 튜닝\n",
    "\n",
    "xgb = XGBRegressor(\n",
    "    learning_rate = 0.05,\n",
    "    max_depth = 3,\n",
    "    n_estimators = 100,\n",
    "    subsample = 0.7)\n",
    "\n",
    "xgb.fit(X_train, y_train)\n",
    "pred = xgb.predict(X_test)\n",
    "mean_squared_error(y_test, pred)"
   ]
  },
  {
   "cell_type": "markdown",
   "id": "d8d68b7a",
   "metadata": {},
   "source": [
    "# Random Search \n",
    "- 랜덤으로 N개의 조합만 탐색 (시간 내 최적의 하이퍼파라미터 탐색)"
   ]
  },
  {
   "cell_type": "code",
   "execution_count": 33,
   "id": "44022c55",
   "metadata": {},
   "outputs": [],
   "source": [
    "xgb = XGBRegressor()\n",
    "\n",
    "#n_iter : 몇 번만에 찾아라\n",
    "grid = RandomizedSearchCV(xgb, params, cv=3, n_iter=10, n_jobs=-1) \n",
    "grid.fit(X, y)\n",
    "pred = grid.predict(X_test)"
   ]
  },
  {
   "cell_type": "code",
   "execution_count": 34,
   "id": "0624e440",
   "metadata": {},
   "outputs": [
    {
     "data": {
      "text/plain": [
       "{'subsample': 0.9, 'n_estimators': 100, 'max_depth': 3, 'learning_rate': 0.05}"
      ]
     },
     "execution_count": 34,
     "metadata": {},
     "output_type": "execute_result"
    }
   ],
   "source": [
    "#최적의 하이퍼파라미터 찾음\n",
    "\n",
    "grid.best_params_"
   ]
  },
  {
   "cell_type": "code",
   "execution_count": 35,
   "id": "f096d195",
   "metadata": {},
   "outputs": [
    {
     "data": {
      "text/plain": [
       "3173.045180496539"
      ]
     },
     "execution_count": 35,
     "metadata": {},
     "output_type": "execute_result"
    }
   ],
   "source": [
    "xgb = XGBRegressor(\n",
    "    learning_rate = 0.05,\n",
    "    max_depth = 3,\n",
    "    n_estimators = 100,\n",
    "    subsample = 0.7)\n",
    "\n",
    "xgb.fit(X_train, y_train)\n",
    "pred = xgb.predict(X_test)\n",
    "mean_squared_error(y_test, pred)"
   ]
  },
  {
   "cell_type": "markdown",
   "id": "82011c59",
   "metadata": {},
   "source": [
    "# 7. 평가 (회귀)"
   ]
  },
  {
   "attachments": {
    "image.png": {
     "image/png": "[encoded data removed]"
    }
   },
   "cell_type": "markdown",
   "id": "ee00ea2c",
   "metadata": {},
   "source": [
    "## MAE\n",
    "* 평균절대오차\n",
    "* 실제값과 예측값의 차이의 절댓값 평균\n",
    "![image.png](attachment:image.png)"
   ]
  },
  {
   "cell_type": "code",
   "execution_count": 36,
   "id": "5f864c05",
   "metadata": {},
   "outputs": [
    {
     "data": {
      "text/plain": [
       "47.57186281011346"
      ]
     },
     "execution_count": 36,
     "metadata": {},
     "output_type": "execute_result"
    }
   ],
   "source": [
    "from sklearn.metrics import mean_absolute_error\n",
    "mean_absolute_error(y_test, pred)"
   ]
  },
  {
   "attachments": {
    "image.png": {
     "image/png": "[encoded data removed]"
    }
   },
   "cell_type": "markdown",
   "id": "b87f5ca0",
   "metadata": {},
   "source": [
    "## MSE\n",
    "* 평균제곱오차\n",
    "* 실제값과 예측값의 차이를 제곱하여 평균냄\n",
    "![image.png](attachment:image.png)"
   ]
  },
  {
   "cell_type": "code",
   "execution_count": 37,
   "id": "72ee15f5",
   "metadata": {},
   "outputs": [
    {
     "data": {
      "text/plain": [
       "3173.045180496539"
      ]
     },
     "execution_count": 37,
     "metadata": {},
     "output_type": "execute_result"
    }
   ],
   "source": [
    "from sklearn.metrics import mean_squared_error\n",
    "mean_squared_error(y_test, pred)"
   ]
  },
  {
   "attachments": {
    "image.png": {
     "image/png": "[encoded data removed]"
    }
   },
   "cell_type": "markdown",
   "id": "04028935",
   "metadata": {},
   "source": [
    "## RMSE\n",
    "* MSE에 루트를 씌움\n",
    "* MSE는 실제 오류보다 커지는 특성이 있으므로\n",
    "![image.png](attachment:image.png)"
   ]
  },
  {
   "cell_type": "code",
   "execution_count": 38,
   "id": "84daeb55",
   "metadata": {},
   "outputs": [
    {
     "data": {
      "text/plain": [
       "56.32978945901129"
      ]
     },
     "execution_count": 38,
     "metadata": {},
     "output_type": "execute_result"
    }
   ],
   "source": [
    "import numpy as np\n",
    "np.sqrt(mean_squared_error(y_test, pred))"
   ]
  },
  {
   "attachments": {
    "image.png": {
     "image/png": "[encoded data removed]"
    }
   },
   "cell_type": "markdown",
   "id": "25c09f21",
   "metadata": {},
   "source": [
    "## RMSLE\n",
    "* RMSE에 로그를 적용\n",
    "* 예측값이 실제보다 작을 때 더 큰 패널티를 부여 ex) 배달시간\n",
    "![image.png](attachment:image.png)"
   ]
  },
  {
   "cell_type": "code",
   "execution_count": 39,
   "id": "f95b7ad2",
   "metadata": {},
   "outputs": [
    {
     "data": {
      "text/plain": [
       "0.4359462312673838"
      ]
     },
     "execution_count": 39,
     "metadata": {},
     "output_type": "execute_result"
    }
   ],
   "source": [
    "from sklearn.metrics import mean_squared_log_error\n",
    "np.sqrt(mean_squared_log_error(y_test, pred))"
   ]
  },
  {
   "attachments": {
    "image.png": {
     "image/png": "[encoded data removed]"
    }
   },
   "cell_type": "markdown",
   "id": "9f15c4c9",
   "metadata": {},
   "source": [
    "## R2\n",
    "* 결정계수\n",
    "* 실제값의 분산대비 예측값의 분산 \n",
    "* 0(성능 안좋음)<---> 1(성능 좋음)\n",
    "![image.png](attachment:image.png)"
   ]
  },
  {
   "cell_type": "code",
   "execution_count": 40,
   "id": "54cf3516",
   "metadata": {},
   "outputs": [
    {
     "data": {
      "text/plain": [
       "0.5153820583895429"
      ]
     },
     "execution_count": 40,
     "metadata": {},
     "output_type": "execute_result"
    }
   ],
   "source": [
    "from sklearn.metrics import r2_score\n",
    "r2_score(y_test, pred)"
   ]
  },
  {
   "cell_type": "markdown",
   "id": "f68109d4",
   "metadata": {},
   "source": [
    "# QUIZ"
   ]
  },
  {
   "cell_type": "code",
   "execution_count": 41,
   "id": "01b9ef04",
   "metadata": {},
   "outputs": [],
   "source": [
    "# 데이터 로드\n",
    "def make_dataset2():\n",
    "    dataset = load_diabetes()\n",
    "    df = pd.DataFrame(dataset.data, columns=dataset.feature_names)\n",
    "    df['target'] = dataset.target\n",
    "    return df.drop('target', axis=1), df['target']\n",
    "X, y = make_dataset2()"
   ]
  },
  {
   "cell_type": "code",
   "execution_count": 42,
   "id": "a2c27db3",
   "metadata": {},
   "outputs": [
    {
     "data": {
      "text/plain": [
       "RandomizedSearchCV(cv=3, estimator=ElasticNet(alpha=1), n_jobs=-1,\n",
       "                   param_distributions={'alpha': [0.0001, 0.001, 0.01, 0.1, 1],\n",
       "                                        'l1_ratio': [0.1, 0.2, 0.3, 0.4, 0.5,\n",
       "                                                     0.6, 0.7, 0.8, 0.9]})"
      ]
     },
     "execution_count": 42,
     "metadata": {},
     "output_type": "execute_result"
    }
   ],
   "source": [
    "# Q. 위 데이터로 엘라스틱넷 회귀를 돌려볼 예정입니다.\n",
    "# RandomizedSearchCV 를 활용하여 다음 두 하이퍼파라미터 중 최적을 찾고,\n",
    "# 'alpha':[0.0001, 0.001, 0.01, 0.1, 1]\n",
    "# 'l1_ratio':[0.1, 0.2, 0.3, 0.4, 0.5, 0.6, 0.7, 0.8, 0.9]\n",
    "# 최적의 하이퍼파라미터로 모델을 돌려 rmse를 측정해주세요.\n",
    "\n",
    "params={\n",
    "    'alpha':[0.0001, 0.001, 0.01, 0.1, 1],\n",
    "    'l1_ratio':[0.1, 0.2, 0.3, 0.4, 0.5, 0.6, 0.7, 0.8, 0.9]}\n",
    "\n",
    "from sklearn.linear_model import ElasticNet\n",
    "model = ElasticNet(alpha=1)\n",
    "model.fit(X_train, y_train)\n",
    "pred = model.predict(X_test)\n",
    "\n",
    "grid = RandomizedSearchCV(model, params, cv=3, n_jobs=-1)\n",
    "grid.fit(X,y)"
   ]
  },
  {
   "cell_type": "code",
   "execution_count": 43,
   "id": "e4a48ef8",
   "metadata": {},
   "outputs": [
    {
     "data": {
      "text/plain": [
       "{'l1_ratio': 0.1, 'alpha': 0.0001}"
      ]
     },
     "execution_count": 43,
     "metadata": {},
     "output_type": "execute_result"
    }
   ],
   "source": [
    "# 최적의 하이퍼파라미터 찾기\n",
    "grid.best_params_"
   ]
  },
  {
   "cell_type": "code",
   "execution_count": 44,
   "id": "a649f456",
   "metadata": {},
   "outputs": [
    {
     "data": {
      "text/plain": [
       "52.45254982197736"
      ]
     },
     "execution_count": 44,
     "metadata": {},
     "output_type": "execute_result"
    }
   ],
   "source": [
    "# 찾은 최적의 하이퍼파라미터로 모델을 돌려 rmse를 측정하세요.\n",
    "model = ElasticNet(alpha=0.001, l1_ratio=0.7)\n",
    "model.fit(X_train, y_train)\n",
    "pred = model.predict(X_test)\n",
    "\n",
    "import numpy as np\n",
    "np.sqrt(mean_squared_error(y_test, pred))"
   ]
  },
  {
   "cell_type": "markdown",
   "id": "029fd850",
   "metadata": {},
   "source": [
    "* RMSE는 52.45254982197736 이다."
   ]
  },
  {
   "cell_type": "code",
   "execution_count": null,
   "id": "3212d451",
   "metadata": {},
   "outputs": [],
   "source": []
  }
 ],
 "metadata": {
  "kernelspec": {
   "display_name": "Python 3 (ipykernel)",
   "language": "python",
   "name": "python3"
  },
  "language_info": {
   "codemirror_mode": {
    "name": "ipython",
    "version": 3
   },
   "file_extension": ".py",
   "mimetype": "text/x-python",
   "name": "python",
   "nbconvert_exporter": "python",
   "pygments_lexer": "ipython3",
   "version": "3.9.7"
  }
 },
 "nbformat": 4,
 "nbformat_minor": 5
}
